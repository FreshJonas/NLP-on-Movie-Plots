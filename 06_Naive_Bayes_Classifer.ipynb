{
  "cells": [
    {
      "cell_type": "markdown",
      "metadata": {
        "id": "view-in-github",
        "colab_type": "text"
      },
      "source": [
        "<a href=\"https://colab.research.google.com/github/FreshJonas/NLP-on-Movie-Plots/blob/master/06_Naive_Bayes_Classifer.ipynb\" target=\"_parent\"><img src=\"https://colab.research.google.com/assets/colab-badge.svg\" alt=\"Open In Colab\"/></a>"
      ]
    },
    {
      "cell_type": "markdown",
      "metadata": {
        "collapsed": true,
        "pycharm": {
          "name": "#%% md\n"
        },
        "id": "WYbDUoT6td-e"
      },
      "source": [
        "## 06 Naive Bayes Classifier"
      ]
    },
    {
      "cell_type": "code",
      "execution_count": 1,
      "metadata": {
        "pycharm": {
          "name": "#%%\n"
        },
        "id": "19zrEsNmtd-i",
        "outputId": "5f973baf-0b1a-49fc-ea93-018157f03554",
        "colab": {
          "base_uri": "https://localhost:8080/"
        }
      },
      "outputs": [
        {
          "output_type": "stream",
          "name": "stderr",
          "text": [
            "[nltk_data] Downloading package stopwords to /root/nltk_data...\n",
            "[nltk_data]   Unzipping corpora/stopwords.zip.\n",
            "[nltk_data] Downloading package words to /root/nltk_data...\n",
            "[nltk_data]   Unzipping corpora/words.zip.\n"
          ]
        },
        {
          "output_type": "execute_result",
          "data": {
            "text/plain": [
              "True"
            ]
          },
          "metadata": {},
          "execution_count": 1
        }
      ],
      "source": [
        "from sklearn.model_selection import train_test_split\n",
        "from sklearn.naive_bayes import MultinomialNB\n",
        "from sklearn import metrics\n",
        "import pandas as pd\n",
        "from sklearn import metrics\n",
        "from sklearn.metrics import confusion_matrix\n",
        "from sklearn.metrics import accuracy_score\n",
        "from sklearn.model_selection import train_test_split\n",
        "from sklearn.linear_model import LogisticRegression\n",
        "from sklearn.feature_extraction.text import CountVectorizer\n",
        "import matplotlib.pyplot as plt\n",
        "plt.rcParams['figure.facecolor'] = 'white'\n",
        "import nltk\n",
        "nltk.download('stopwords')\n",
        "nltk.download('words')\n",
        "\n"
      ]
    },
    {
      "cell_type": "markdown",
      "metadata": {
        "collapsed": false,
        "pycharm": {
          "name": "#%% md\n"
        },
        "id": "kcodN3Svtd-m"
      },
      "source": [
        "## Reading Data"
      ]
    },
    {
      "cell_type": "code",
      "execution_count": 3,
      "metadata": {
        "pycharm": {
          "name": "#%%\n"
        },
        "id": "AYAeJOydtd-m",
        "outputId": "8793f36b-2593-4426-f863-584066138e37",
        "colab": {
          "base_uri": "https://localhost:8080/",
          "height": 424
        }
      },
      "outputs": [
        {
          "output_type": "execute_result",
          "data": {
            "text/plain": [
              "                         title  \\\n",
              "0              10.0 Earthquake   \n",
              "1             12 Rounds (film)   \n",
              "2        12 Rounds 3: Lockdown   \n",
              "3                      200 mph   \n",
              "4           Ablaze (2001 film)   \n",
              "...                        ...   \n",
              "3995             Choked (film)   \n",
              "3996                   Chumbak   \n",
              "3997  Chungakkarum Veshyakalum   \n",
              "3998                    Chuzhi   \n",
              "3999          Cinema Paithiyam   \n",
              "\n",
              "                                                   plot  is_indian  \n",
              "0     As a series of minor earthquakes start tearing...          0  \n",
              "1     A sting operation to capture arms dealer Miles...          0  \n",
              "2     Detective Tyler Burke  and his two men infiltr...          0  \n",
              "3     When the older brother (Tommy Nash) he idolize...          0  \n",
              "4     Andrew Thomas is an agent tasked with recordin...          0  \n",
              "...                                                 ...        ...  \n",
              "3995  Sarita Pillai and Sushant Pillai are a married...          1  \n",
              "3996  Chumbak is a coming-of-age story of Baalu, a t...          1  \n",
              "3997  Chungakkarum Veshyakalum is the story of a Mal...          1  \n",
              "3998  Varghese is a planter who lives with his wife ...          1  \n",
              "3999  Jaya is a cinephile. So obsessed is she with c...          1  \n",
              "\n",
              "[4000 rows x 3 columns]"
            ],
            "text/html": [
              "\n",
              "  <div id=\"df-6775855b-aad1-4869-89f2-83cfdecea0c9\">\n",
              "    <div class=\"colab-df-container\">\n",
              "      <div>\n",
              "<style scoped>\n",
              "    .dataframe tbody tr th:only-of-type {\n",
              "        vertical-align: middle;\n",
              "    }\n",
              "\n",
              "    .dataframe tbody tr th {\n",
              "        vertical-align: top;\n",
              "    }\n",
              "\n",
              "    .dataframe thead th {\n",
              "        text-align: right;\n",
              "    }\n",
              "</style>\n",
              "<table border=\"1\" class=\"dataframe\">\n",
              "  <thead>\n",
              "    <tr style=\"text-align: right;\">\n",
              "      <th></th>\n",
              "      <th>title</th>\n",
              "      <th>plot</th>\n",
              "      <th>is_indian</th>\n",
              "    </tr>\n",
              "  </thead>\n",
              "  <tbody>\n",
              "    <tr>\n",
              "      <th>0</th>\n",
              "      <td>10.0 Earthquake</td>\n",
              "      <td>As a series of minor earthquakes start tearing...</td>\n",
              "      <td>0</td>\n",
              "    </tr>\n",
              "    <tr>\n",
              "      <th>1</th>\n",
              "      <td>12 Rounds (film)</td>\n",
              "      <td>A sting operation to capture arms dealer Miles...</td>\n",
              "      <td>0</td>\n",
              "    </tr>\n",
              "    <tr>\n",
              "      <th>2</th>\n",
              "      <td>12 Rounds 3: Lockdown</td>\n",
              "      <td>Detective Tyler Burke  and his two men infiltr...</td>\n",
              "      <td>0</td>\n",
              "    </tr>\n",
              "    <tr>\n",
              "      <th>3</th>\n",
              "      <td>200 mph</td>\n",
              "      <td>When the older brother (Tommy Nash) he idolize...</td>\n",
              "      <td>0</td>\n",
              "    </tr>\n",
              "    <tr>\n",
              "      <th>4</th>\n",
              "      <td>Ablaze (2001 film)</td>\n",
              "      <td>Andrew Thomas is an agent tasked with recordin...</td>\n",
              "      <td>0</td>\n",
              "    </tr>\n",
              "    <tr>\n",
              "      <th>...</th>\n",
              "      <td>...</td>\n",
              "      <td>...</td>\n",
              "      <td>...</td>\n",
              "    </tr>\n",
              "    <tr>\n",
              "      <th>3995</th>\n",
              "      <td>Choked (film)</td>\n",
              "      <td>Sarita Pillai and Sushant Pillai are a married...</td>\n",
              "      <td>1</td>\n",
              "    </tr>\n",
              "    <tr>\n",
              "      <th>3996</th>\n",
              "      <td>Chumbak</td>\n",
              "      <td>Chumbak is a coming-of-age story of Baalu, a t...</td>\n",
              "      <td>1</td>\n",
              "    </tr>\n",
              "    <tr>\n",
              "      <th>3997</th>\n",
              "      <td>Chungakkarum Veshyakalum</td>\n",
              "      <td>Chungakkarum Veshyakalum is the story of a Mal...</td>\n",
              "      <td>1</td>\n",
              "    </tr>\n",
              "    <tr>\n",
              "      <th>3998</th>\n",
              "      <td>Chuzhi</td>\n",
              "      <td>Varghese is a planter who lives with his wife ...</td>\n",
              "      <td>1</td>\n",
              "    </tr>\n",
              "    <tr>\n",
              "      <th>3999</th>\n",
              "      <td>Cinema Paithiyam</td>\n",
              "      <td>Jaya is a cinephile. So obsessed is she with c...</td>\n",
              "      <td>1</td>\n",
              "    </tr>\n",
              "  </tbody>\n",
              "</table>\n",
              "<p>4000 rows × 3 columns</p>\n",
              "</div>\n",
              "      <button class=\"colab-df-convert\" onclick=\"convertToInteractive('df-6775855b-aad1-4869-89f2-83cfdecea0c9')\"\n",
              "              title=\"Convert this dataframe to an interactive table.\"\n",
              "              style=\"display:none;\">\n",
              "        \n",
              "  <svg xmlns=\"http://www.w3.org/2000/svg\" height=\"24px\"viewBox=\"0 0 24 24\"\n",
              "       width=\"24px\">\n",
              "    <path d=\"M0 0h24v24H0V0z\" fill=\"none\"/>\n",
              "    <path d=\"M18.56 5.44l.94 2.06.94-2.06 2.06-.94-2.06-.94-.94-2.06-.94 2.06-2.06.94zm-11 1L8.5 8.5l.94-2.06 2.06-.94-2.06-.94L8.5 2.5l-.94 2.06-2.06.94zm10 10l.94 2.06.94-2.06 2.06-.94-2.06-.94-.94-2.06-.94 2.06-2.06.94z\"/><path d=\"M17.41 7.96l-1.37-1.37c-.4-.4-.92-.59-1.43-.59-.52 0-1.04.2-1.43.59L10.3 9.45l-7.72 7.72c-.78.78-.78 2.05 0 2.83L4 21.41c.39.39.9.59 1.41.59.51 0 1.02-.2 1.41-.59l7.78-7.78 2.81-2.81c.8-.78.8-2.07 0-2.86zM5.41 20L4 18.59l7.72-7.72 1.47 1.35L5.41 20z\"/>\n",
              "  </svg>\n",
              "      </button>\n",
              "      \n",
              "  <style>\n",
              "    .colab-df-container {\n",
              "      display:flex;\n",
              "      flex-wrap:wrap;\n",
              "      gap: 12px;\n",
              "    }\n",
              "\n",
              "    .colab-df-convert {\n",
              "      background-color: #E8F0FE;\n",
              "      border: none;\n",
              "      border-radius: 50%;\n",
              "      cursor: pointer;\n",
              "      display: none;\n",
              "      fill: #1967D2;\n",
              "      height: 32px;\n",
              "      padding: 0 0 0 0;\n",
              "      width: 32px;\n",
              "    }\n",
              "\n",
              "    .colab-df-convert:hover {\n",
              "      background-color: #E2EBFA;\n",
              "      box-shadow: 0px 1px 2px rgba(60, 64, 67, 0.3), 0px 1px 3px 1px rgba(60, 64, 67, 0.15);\n",
              "      fill: #174EA6;\n",
              "    }\n",
              "\n",
              "    [theme=dark] .colab-df-convert {\n",
              "      background-color: #3B4455;\n",
              "      fill: #D2E3FC;\n",
              "    }\n",
              "\n",
              "    [theme=dark] .colab-df-convert:hover {\n",
              "      background-color: #434B5C;\n",
              "      box-shadow: 0px 1px 3px 1px rgba(0, 0, 0, 0.15);\n",
              "      filter: drop-shadow(0px 1px 2px rgba(0, 0, 0, 0.3));\n",
              "      fill: #FFFFFF;\n",
              "    }\n",
              "  </style>\n",
              "\n",
              "      <script>\n",
              "        const buttonEl =\n",
              "          document.querySelector('#df-6775855b-aad1-4869-89f2-83cfdecea0c9 button.colab-df-convert');\n",
              "        buttonEl.style.display =\n",
              "          google.colab.kernel.accessAllowed ? 'block' : 'none';\n",
              "\n",
              "        async function convertToInteractive(key) {\n",
              "          const element = document.querySelector('#df-6775855b-aad1-4869-89f2-83cfdecea0c9');\n",
              "          const dataTable =\n",
              "            await google.colab.kernel.invokeFunction('convertToInteractive',\n",
              "                                                     [key], {});\n",
              "          if (!dataTable) return;\n",
              "\n",
              "          const docLinkHtml = 'Like what you see? Visit the ' +\n",
              "            '<a target=\"_blank\" href=https://colab.research.google.com/notebooks/data_table.ipynb>data table notebook</a>'\n",
              "            + ' to learn more about interactive tables.';\n",
              "          element.innerHTML = '';\n",
              "          dataTable['output_type'] = 'display_data';\n",
              "          await google.colab.output.renderOutput(dataTable, element);\n",
              "          const docLink = document.createElement('div');\n",
              "          docLink.innerHTML = docLinkHtml;\n",
              "          element.appendChild(docLink);\n",
              "        }\n",
              "      </script>\n",
              "    </div>\n",
              "  </div>\n",
              "  "
            ]
          },
          "metadata": {},
          "execution_count": 3
        }
      ],
      "source": [
        "path1 = '../data/merged_plots.csv'\n",
        "df = pd.read_csv(path1, index_col=0)\n",
        "df"
      ]
    },
    {
      "cell_type": "markdown",
      "metadata": {
        "collapsed": false,
        "pycharm": {
          "name": "#%% md\n"
        },
        "id": "vr7PljoQtd-o"
      },
      "source": [
        "## Pre Processing"
      ]
    },
    {
      "cell_type": "code",
      "execution_count": 4,
      "metadata": {
        "pycharm": {
          "name": "#%%\n"
        },
        "id": "bGQE1Iletd-o"
      },
      "outputs": [],
      "source": [
        "import re\n",
        "import nltk\n",
        "from nltk.corpus import stopwords\n",
        "from nltk.stem import PorterStemmer\n",
        "\n",
        "porter_stemmer=PorterStemmer()\n",
        "stop_words = set(stopwords.words('english'))\n",
        "non_name_words = set(nltk.corpus.words.words())\n",
        "\n",
        "def clean(text, ner=False):\n",
        "\n",
        "    # lowercasing\n",
        "    text = text.lower()\n",
        "\n",
        "    # removing special characters\n",
        "    text = re.sub('\\\\W', ' ', text)\n",
        "\n",
        "    # splitting into tokens\n",
        "    words = text.split()\n",
        "\n",
        "    # removing stopwords\n",
        "    filtered_words = []\n",
        "    for word in words:\n",
        "        if not word in stop_words:\n",
        "            filtered_words.append(word)\n",
        "    \n",
        "    # word stemming\n",
        "    stemmed_words = [porter_stemmer.stem(word) for word in filtered_words]\n",
        "    \n",
        "    # removing names\n",
        "    if ner:\n",
        "        words_with_ner = []\n",
        "        for word in stemmed_words:\n",
        "            if word in non_name_words:\n",
        "                words_with_ner.append(word)\n",
        "        result = words_with_ner\n",
        "    else:\n",
        "        result = stemmed_words\n",
        "        \n",
        "    return ' '.join(result)"
      ]
    },
    {
      "cell_type": "markdown",
      "metadata": {
        "id": "BxzAPK5Btd-q"
      },
      "source": [
        "### Without Named Entity Removal"
      ]
    },
    {
      "cell_type": "code",
      "execution_count": 5,
      "metadata": {
        "pycharm": {
          "name": "#%%\n"
        },
        "id": "Tuyk8U1Wtd-s",
        "outputId": "a9ae6cff-0cea-4fe5-e50e-5431dcaa55a4",
        "colab": {
          "base_uri": "https://localhost:8080/"
        }
      },
      "outputs": [
        {
          "output_type": "stream",
          "name": "stdout",
          "text": [
            "jaya cinephil obsess cinema worship popular actor jaishankar believ portray screen real self becom ideal man dream even tattoo name arm hell break loos refus marri natarajan boy arrang brother sister law junctur step uncl take upon show true world take trip around real life star\n"
          ]
        }
      ],
      "source": [
        "# NamedEntityRemoval = False\n",
        "plots_cleaned = [clean(plot, ner=False) for plot in df['plot']]\n",
        "print(plots_cleaned[-1])"
      ]
    },
    {
      "cell_type": "markdown",
      "metadata": {
        "id": "yK3jw3Rztd-t"
      },
      "source": [
        "### With Named Entity Removal"
      ]
    },
    {
      "cell_type": "code",
      "execution_count": 6,
      "metadata": {
        "id": "yTtNuVsBtd-v",
        "outputId": "e02f2324-bf16-4e20-f9fe-b32a87b9f324",
        "colab": {
          "base_uri": "https://localhost:8080/"
        }
      },
      "outputs": [
        {
          "output_type": "stream",
          "name": "stdout",
          "text": [
            "obsess cinema worship popular actor portray screen real self ideal man dream even tattoo name arm hell break boy brother sister law step take upon show true world take trip around real life star\n"
          ]
        }
      ],
      "source": [
        "# NamedEntityRemoval = True\n",
        "plots_cleaned_ner = [clean(plot, ner=True) for plot in df['plot']]\n",
        "print(plots_cleaned_ner[-1])"
      ]
    },
    {
      "cell_type": "markdown",
      "metadata": {
        "id": "_fImGw37td-v"
      },
      "source": [
        "## Vectorization\n",
        "Scikit-learn’s CountVectorizer is used to convert a collection of text documents to a vector of token counts."
      ]
    },
    {
      "cell_type": "code",
      "execution_count": 7,
      "metadata": {
        "pycharm": {
          "name": "#%%\n"
        },
        "id": "KW7YAIujtd-x",
        "outputId": "1a206d0b-b8ea-4e86-9b48-9be1b4bb40c4",
        "colab": {
          "base_uri": "https://localhost:8080/"
        }
      },
      "outputs": [
        {
          "output_type": "stream",
          "name": "stdout",
          "text": [
            "Vocab length WITHOUT NER: 32330\n"
          ]
        }
      ],
      "source": [
        "vectorizer = CountVectorizer(min_df=0)\n",
        "vectorizer.fit(plots_cleaned)\n",
        "print('Vocab length WITHOUT NER:', len(vectorizer.vocabulary_))"
      ]
    },
    {
      "cell_type": "code",
      "execution_count": 8,
      "metadata": {
        "id": "y80eGaBhtd-y",
        "outputId": "80c0715d-888d-413a-c72b-43de163f6237",
        "colab": {
          "base_uri": "https://localhost:8080/"
        }
      },
      "outputs": [
        {
          "output_type": "stream",
          "name": "stdout",
          "text": [
            "Vocab length WITH NER: 8865\n"
          ]
        }
      ],
      "source": [
        "vectorizer_ner = CountVectorizer(min_df=0)\n",
        "vectorizer_ner.fit(plots_cleaned_ner)\n",
        "print('Vocab length WITH NER:', len(vectorizer_ner.vocabulary_))"
      ]
    },
    {
      "cell_type": "markdown",
      "metadata": {
        "collapsed": false,
        "pycharm": {
          "name": "#%% md\n"
        },
        "id": "Afry4qKmtd-z"
      },
      "source": [
        "## Data Splitting"
      ]
    },
    {
      "cell_type": "code",
      "execution_count": 9,
      "metadata": {
        "id": "4aJGJFoltd-z"
      },
      "outputs": [],
      "source": [
        "y = df['is_indian'].values"
      ]
    },
    {
      "cell_type": "code",
      "execution_count": 10,
      "metadata": {
        "pycharm": {
          "name": "#%%\n"
        },
        "id": "QPwPh5i6td-0"
      },
      "outputs": [],
      "source": [
        "X = vectorizer.transform(plots_cleaned)\n",
        "\n",
        "X_train, X_test, y_train, y_test = train_test_split(X, y, test_size=0.25, random_state= 1000)"
      ]
    },
    {
      "cell_type": "code",
      "execution_count": 11,
      "metadata": {
        "id": "Zw8VKMfqtd-0"
      },
      "outputs": [],
      "source": [
        "X_ner = vectorizer_ner.transform(plots_cleaned_ner)\n",
        "\n",
        "X_train_ner, X_test_ner, y_train_ner, y_test_ner = train_test_split(X_ner, y, test_size=0.25, random_state= 1000)"
      ]
    },
    {
      "cell_type": "markdown",
      "source": [
        "# Naive Bayes"
      ],
      "metadata": {
        "id": "xvknLfgaqgdt"
      }
    },
    {
      "cell_type": "code",
      "source": [
        "# Instantiate a Multinomial Naive Bayes classifier: nb_classifier\n",
        "nb_classifier = MultinomialNB()"
      ],
      "metadata": {
        "id": "TG7_d-89nXwa"
      },
      "execution_count": 12,
      "outputs": []
    },
    {
      "cell_type": "markdown",
      "source": [
        "## Results for WITHOUT NER"
      ],
      "metadata": {
        "id": "wliw2Dciqz-o"
      }
    },
    {
      "cell_type": "code",
      "source": [
        "nb_classifier.fit(X_train, y_train)"
      ],
      "metadata": {
        "colab": {
          "base_uri": "https://localhost:8080/"
        },
        "id": "SpM4uRV_narC",
        "outputId": "15cbbd4c-bd13-4737-f05c-9999b307e54e"
      },
      "execution_count": 13,
      "outputs": [
        {
          "output_type": "execute_result",
          "data": {
            "text/plain": [
              "MultinomialNB()"
            ]
          },
          "metadata": {},
          "execution_count": 13
        }
      ]
    },
    {
      "cell_type": "code",
      "source": [
        "# Make predictions about the test matrix\n",
        "predictions = nb_classifier.predict(X_test)"
      ],
      "metadata": {
        "id": "7Kqmp7s2o8Ch"
      },
      "execution_count": 14,
      "outputs": []
    },
    {
      "cell_type": "code",
      "source": [
        "accuracy = metrics.accuracy_score(y_test, predictions)\n",
        "print(f\"The accuracy of the naive Bayer Classifier is {accuracy * 100}\")"
      ],
      "metadata": {
        "id": "b28JRLT6o-gF",
        "outputId": "a40f7871-3d47-45ac-9d55-fddc99540975",
        "colab": {
          "base_uri": "https://localhost:8080/"
        }
      },
      "execution_count": 15,
      "outputs": [
        {
          "output_type": "stream",
          "name": "stdout",
          "text": [
            "The accuracy of the naive Bayer Classifier is 99.3\n"
          ]
        }
      ]
    },
    {
      "cell_type": "code",
      "source": [
        "conf = confusion_matrix(y_test, predictions)\n",
        "cm_display = metrics.ConfusionMatrixDisplay(conf, display_labels = ['American', 'Indian'])\n",
        "\n",
        "cm_display.plot()\n",
        "plt.show()"
      ],
      "metadata": {
        "id": "gwj8TGzcpAdj",
        "outputId": "9c402df3-e5e0-4ff7-db58-1829b47ff885",
        "colab": {
          "base_uri": "https://localhost:8080/",
          "height": 281
        }
      },
      "execution_count": 16,
      "outputs": [
        {
          "output_type": "display_data",
          "data": {
            "text/plain": [
              "<Figure size 432x288 with 2 Axes>"
            ],
            "image/png": "[encoded data removed]"
          },
          "metadata": {}
        }
      ]
    },
    {
      "cell_type": "markdown",
      "source": [
        "## Results for WITH NER"
      ],
      "metadata": {
        "id": "93MYekssu8-f"
      }
    },
    {
      "cell_type": "code",
      "source": [
        "nb_classifier.fit(X_train_ner, y_train_ner)"
      ],
      "metadata": {
        "id": "YJ7ZCutsvaDD",
        "outputId": "dce4b18b-6b42-4fde-8964-4667799fc9ce",
        "colab": {
          "base_uri": "https://localhost:8080/"
        }
      },
      "execution_count": 17,
      "outputs": [
        {
          "output_type": "execute_result",
          "data": {
            "text/plain": [
              "MultinomialNB()"
            ]
          },
          "metadata": {},
          "execution_count": 17
        }
      ]
    },
    {
      "cell_type": "code",
      "source": [
        "# Make predictions about the test matrix\n",
        "predictions_ner = nb_classifier.predict(X_test_ner)"
      ],
      "metadata": {
        "id": "U7u8cd5Fu40j"
      },
      "execution_count": 18,
      "outputs": []
    },
    {
      "cell_type": "code",
      "source": [
        "accuracy = metrics.accuracy_score(y_test_ner, predictions_ner)\n",
        "print(f\"The accuracy of the naive Bayer Classifier is {accuracy * 100}\")"
      ],
      "metadata": {
        "id": "A5Dmb2Ihu40l",
        "outputId": "a4f5acb5-5896-4dd7-f89f-650dc331a2f4",
        "colab": {
          "base_uri": "https://localhost:8080/"
        }
      },
      "execution_count": 19,
      "outputs": [
        {
          "output_type": "stream",
          "name": "stdout",
          "text": [
            "The accuracy of the naive Bayer Classifier is 94.89999999999999\n"
          ]
        }
      ]
    },
    {
      "cell_type": "code",
      "source": [
        "conf = confusion_matrix(y_test_ner, predictions_ner)\n",
        "cm_display = metrics.ConfusionMatrixDisplay(conf, display_labels = ['American', 'Indian'])\n",
        "\n",
        "cm_display.plot()\n",
        "plt.show()"
      ],
      "metadata": {
        "id": "_WlwkOkdu40m",
        "outputId": "b735df48-ba4a-4c4f-84b2-ae45a8cadc18",
        "colab": {
          "base_uri": "https://localhost:8080/",
          "height": 279
        }
      },
      "execution_count": 20,
      "outputs": [
        {
          "output_type": "display_data",
          "data": {
            "text/plain": [
              "<Figure size 432x288 with 2 Axes>"
            ],
            "image/png": "[encoded data removed]"
          },
          "metadata": {}
        }
      ]
    }
  ],
  "metadata": {
    "kernelspec": {
      "display_name": "Python 3.10.0 64-bit",
      "language": "python",
      "name": "python3"
    },
    "language_info": {
      "codemirror_mode": {
        "name": "ipython",
        "version": 3
      },
      "file_extension": ".py",
      "mimetype": "text/x-python",
      "name": "python",
      "nbconvert_exporter": "python",
      "pygments_lexer": "ipython3",
      "version": "3.10.0"
    },
    "vscode": {
      "interpreter": {
        "hash": "69a9235b2799f09bc7a4d7fc4018927df298a0a697379818c8dec9478f72590e"
      }
    },
    "colab": {
      "provenance": [],
      "toc_visible": true,
      "include_colab_link": true
    }
  },
  "nbformat": 4,
  "nbformat_minor": 0
}