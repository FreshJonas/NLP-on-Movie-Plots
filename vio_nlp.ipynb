{
  "nbformat": 4,
  "nbformat_minor": 0,
  "metadata": {
    "colab": {
      "provenance": [],
      "collapsed_sections": [
        "A2CyxQJazOPR",
        "mmqRQFexZGaU",
        "7pc7KSEb2utX",
        "5vbnyAoZ61QO",
        "Mxvaoj3c3YBI",
        "X6aYXJnH7LZs"
      ],
      "toc_visible": true,
      "mount_file_id": "11QBicEtYz1RBNT3egQMOqv9TuPH6ZoMm",
      "authorship_tag": "ABX9TyN2wNSZxVthNIujKBjHxG+n",
      "include_colab_link": true
    },
    "kernelspec": {
      "name": "python3",
      "display_name": "Python 3"
    },
    "language_info": {
      "name": "python"
    }
  },
  "cells": [
    {
      "cell_type": "markdown",
      "metadata": {
        "id": "view-in-github",
        "colab_type": "text"
      },
      "source": [
        "<a href=\"https://colab.research.google.com/github/FreshJonas/NLP-on-Movie-Plots/blob/master/vio_nlp.ipynb\" target=\"_parent\"><img src=\"https://colab.research.google.com/assets/colab-badge.svg\" alt=\"Open In Colab\"/></a>"
      ]
    },
    {
      "cell_type": "markdown",
      "source": [
        "# Hollywood Movies vs. Bollywood Movies\n",
        "\n",
        "What are these movies about? Are Bollywood movies about different things from Hollywood movies? In this Notebook I use LDA algorithm together with gensim library to find out. "
      ],
      "metadata": {
        "id": "-Lp7BTk0yBIp"
      }
    },
    {
      "cell_type": "markdown",
      "source": [
        "# Import Libraries"
      ],
      "metadata": {
        "id": "A2CyxQJazOPR"
      }
    },
    {
      "cell_type": "code",
      "source": [
        "path_to_Bollywood = '/content/drive/MyDrive/Colab Notebooks/CVNLP/indian_plots.csv'\n",
        "path_to_Hollywood = '/content/drive/MyDrive/Colab Notebooks/CVNLP/american_plots.csv'"
      ],
      "metadata": {
        "id": "UjJWvnqCzMuh"
      },
      "execution_count": null,
      "outputs": []
    },
    {
      "cell_type": "code",
      "source": [
        "import pandas as pd\n",
        "import re\n",
        "import string\n",
        "import spacy\n",
        "\n",
        "import nltk\n",
        "nltk.download('punkt')\n",
        "from nltk.corpus import stopwords\n",
        "from nltk.stem import WordNetLemmatizer\n",
        "nltk.download('wordnet')\n",
        "nltk.download('omw-1.4')\n",
        "\n",
        "import gensim\n",
        "import gensim.corpora as corpora\n",
        "from gensim.utils import simple_preprocess\n",
        "from gensim.models import CoherenceModel"
      ],
      "metadata": {
        "colab": {
          "base_uri": "https://localhost:8080/"
        },
        "id": "bWr9xecRzgr4",
        "outputId": "ef1de906-f1ce-48df-8f75-51a8877dafee"
      },
      "execution_count": null,
      "outputs": [
        {
          "output_type": "stream",
          "name": "stderr",
          "text": [
            "[nltk_data] Downloading package punkt to /root/nltk_data...\n",
            "[nltk_data]   Unzipping tokenizers/punkt.zip.\n",
            "[nltk_data] Downloading package wordnet to /root/nltk_data...\n",
            "[nltk_data] Downloading package omw-1.4 to /root/nltk_data...\n"
          ]
        }
      ]
    },
    {
      "cell_type": "code",
      "source": [
        "import warnings\n",
        "warnings.filterwarnings(\"ignore\")"
      ],
      "metadata": {
        "id": "S-F9CegZchYl"
      },
      "execution_count": null,
      "outputs": []
    },
    {
      "cell_type": "markdown",
      "source": [
        "# Create a common Dictionary & LDA Model"
      ],
      "metadata": {
        "id": "wQnRwNdNYEJ2"
      }
    },
    {
      "cell_type": "markdown",
      "source": [
        "## Merge both datasets"
      ],
      "metadata": {
        "id": "mmqRQFexZGaU"
      }
    },
    {
      "cell_type": "code",
      "source": [
        "#upload Dataset\n",
        "bolly_df = pd.read_csv(path_to_Bollywood)\n",
        "bolly_df.head()"
      ],
      "metadata": {
        "colab": {
          "base_uri": "https://localhost:8080/",
          "height": 206
        },
        "id": "8oewgJVWzK8Q",
        "outputId": "4c383f4c-2992-4dad-a690-d75388df2afa"
      },
      "execution_count": null,
      "outputs": [
        {
          "output_type": "execute_result",
          "data": {
            "text/plain": [
              "   Unnamed: 0                        title  \\\n",
              "0           0                 4 the People   \n",
              "1           1                 Aa Gaya Hero   \n",
              "2           2            Aadmi (1993 film)   \n",
              "3           3  Aadu Puli Attam (1977 film)   \n",
              "4           4        Aag Aandhi Aur Toofan   \n",
              "\n",
              "                                                plot  \n",
              "0  Aravind (Arun), Vivek (Bharath), Eshwar (Arjun...  \n",
              "1  ACP Ravindra Varma (Govinda) is a daredevil an...  \n",
              "2  Aadmi is the story of an honest man (Vijay M. ...  \n",
              "3  The movie starts with Kamal and Rajini, close ...  \n",
              "4  The story revolves around attempts by several ...  "
            ],
            "text/html": [
              "\n",
              "  <div id=\"df-1836ba1c-606b-4dc2-ab88-130ab977b855\">\n",
              "    <div class=\"colab-df-container\">\n",
              "      <div>\n",
              "<style scoped>\n",
              "    .dataframe tbody tr th:only-of-type {\n",
              "        vertical-align: middle;\n",
              "    }\n",
              "\n",
              "    .dataframe tbody tr th {\n",
              "        vertical-align: top;\n",
              "    }\n",
              "\n",
              "    .dataframe thead th {\n",
              "        text-align: right;\n",
              "    }\n",
              "</style>\n",
              "<table border=\"1\" class=\"dataframe\">\n",
              "  <thead>\n",
              "    <tr style=\"text-align: right;\">\n",
              "      <th></th>\n",
              "      <th>Unnamed: 0</th>\n",
              "      <th>title</th>\n",
              "      <th>plot</th>\n",
              "    </tr>\n",
              "  </thead>\n",
              "  <tbody>\n",
              "    <tr>\n",
              "      <th>0</th>\n",
              "      <td>0</td>\n",
              "      <td>4 the People</td>\n",
              "      <td>Aravind (Arun), Vivek (Bharath), Eshwar (Arjun...</td>\n",
              "    </tr>\n",
              "    <tr>\n",
              "      <th>1</th>\n",
              "      <td>1</td>\n",
              "      <td>Aa Gaya Hero</td>\n",
              "      <td>ACP Ravindra Varma (Govinda) is a daredevil an...</td>\n",
              "    </tr>\n",
              "    <tr>\n",
              "      <th>2</th>\n",
              "      <td>2</td>\n",
              "      <td>Aadmi (1993 film)</td>\n",
              "      <td>Aadmi is the story of an honest man (Vijay M. ...</td>\n",
              "    </tr>\n",
              "    <tr>\n",
              "      <th>3</th>\n",
              "      <td>3</td>\n",
              "      <td>Aadu Puli Attam (1977 film)</td>\n",
              "      <td>The movie starts with Kamal and Rajini, close ...</td>\n",
              "    </tr>\n",
              "    <tr>\n",
              "      <th>4</th>\n",
              "      <td>4</td>\n",
              "      <td>Aag Aandhi Aur Toofan</td>\n",
              "      <td>The story revolves around attempts by several ...</td>\n",
              "    </tr>\n",
              "  </tbody>\n",
              "</table>\n",
              "</div>\n",
              "      <button class=\"colab-df-convert\" onclick=\"convertToInteractive('df-1836ba1c-606b-4dc2-ab88-130ab977b855')\"\n",
              "              title=\"Convert this dataframe to an interactive table.\"\n",
              "              style=\"display:none;\">\n",
              "        \n",
              "  <svg xmlns=\"http://www.w3.org/2000/svg\" height=\"24px\"viewBox=\"0 0 24 24\"\n",
              "       width=\"24px\">\n",
              "    <path d=\"M0 0h24v24H0V0z\" fill=\"none\"/>\n",
              "    <path d=\"M18.56 5.44l.94 2.06.94-2.06 2.06-.94-2.06-.94-.94-2.06-.94 2.06-2.06.94zm-11 1L8.5 8.5l.94-2.06 2.06-.94-2.06-.94L8.5 2.5l-.94 2.06-2.06.94zm10 10l.94 2.06.94-2.06 2.06-.94-2.06-.94-.94-2.06-.94 2.06-2.06.94z\"/><path d=\"M17.41 7.96l-1.37-1.37c-.4-.4-.92-.59-1.43-.59-.52 0-1.04.2-1.43.59L10.3 9.45l-7.72 7.72c-.78.78-.78 2.05 0 2.83L4 21.41c.39.39.9.59 1.41.59.51 0 1.02-.2 1.41-.59l7.78-7.78 2.81-2.81c.8-.78.8-2.07 0-2.86zM5.41 20L4 18.59l7.72-7.72 1.47 1.35L5.41 20z\"/>\n",
              "  </svg>\n",
              "      </button>\n",
              "      \n",
              "  <style>\n",
              "    .colab-df-container {\n",
              "      display:flex;\n",
              "      flex-wrap:wrap;\n",
              "      gap: 12px;\n",
              "    }\n",
              "\n",
              "    .colab-df-convert {\n",
              "      background-color: #E8F0FE;\n",
              "      border: none;\n",
              "      border-radius: 50%;\n",
              "      cursor: pointer;\n",
              "      display: none;\n",
              "      fill: #1967D2;\n",
              "      height: 32px;\n",
              "      padding: 0 0 0 0;\n",
              "      width: 32px;\n",
              "    }\n",
              "\n",
              "    .colab-df-convert:hover {\n",
              "      background-color: #E2EBFA;\n",
              "      box-shadow: 0px 1px 2px rgba(60, 64, 67, 0.3), 0px 1px 3px 1px rgba(60, 64, 67, 0.15);\n",
              "      fill: #174EA6;\n",
              "    }\n",
              "\n",
              "    [theme=dark] .colab-df-convert {\n",
              "      background-color: #3B4455;\n",
              "      fill: #D2E3FC;\n",
              "    }\n",
              "\n",
              "    [theme=dark] .colab-df-convert:hover {\n",
              "      background-color: #434B5C;\n",
              "      box-shadow: 0px 1px 3px 1px rgba(0, 0, 0, 0.15);\n",
              "      filter: drop-shadow(0px 1px 2px rgba(0, 0, 0, 0.3));\n",
              "      fill: #FFFFFF;\n",
              "    }\n",
              "  </style>\n",
              "\n",
              "      <script>\n",
              "        const buttonEl =\n",
              "          document.querySelector('#df-1836ba1c-606b-4dc2-ab88-130ab977b855 button.colab-df-convert');\n",
              "        buttonEl.style.display =\n",
              "          google.colab.kernel.accessAllowed ? 'block' : 'none';\n",
              "\n",
              "        async function convertToInteractive(key) {\n",
              "          const element = document.querySelector('#df-1836ba1c-606b-4dc2-ab88-130ab977b855');\n",
              "          const dataTable =\n",
              "            await google.colab.kernel.invokeFunction('convertToInteractive',\n",
              "                                                     [key], {});\n",
              "          if (!dataTable) return;\n",
              "\n",
              "          const docLinkHtml = 'Like what you see? Visit the ' +\n",
              "            '<a target=\"_blank\" href=https://colab.research.google.com/notebooks/data_table.ipynb>data table notebook</a>'\n",
              "            + ' to learn more about interactive tables.';\n",
              "          element.innerHTML = '';\n",
              "          dataTable['output_type'] = 'display_data';\n",
              "          await google.colab.output.renderOutput(dataTable, element);\n",
              "          const docLink = document.createElement('div');\n",
              "          docLink.innerHTML = docLinkHtml;\n",
              "          element.appendChild(docLink);\n",
              "        }\n",
              "      </script>\n",
              "    </div>\n",
              "  </div>\n",
              "  "
            ]
          },
          "metadata": {},
          "execution_count": 3
        }
      ]
    },
    {
      "cell_type": "code",
      "source": [
        "holly_df = pd.read_csv(path_to_Hollywood)\n",
        "holly_df.head()"
      ],
      "metadata": {
        "colab": {
          "base_uri": "https://localhost:8080/",
          "height": 206
        },
        "id": "RFix8NuVZkEL",
        "outputId": "59b119ec-8888-44bd-c45a-97b4ad7d4f3f"
      },
      "execution_count": null,
      "outputs": [
        {
          "output_type": "execute_result",
          "data": {
            "text/plain": [
              "   Unnamed: 0                  title  \\\n",
              "0           0        10.0 Earthquake   \n",
              "1           1       12 Rounds (film)   \n",
              "2           2  12 Rounds 3: Lockdown   \n",
              "3           3                200 mph   \n",
              "4           4     Ablaze (2001 film)   \n",
              "\n",
              "                                                plot  \n",
              "0  As a series of minor earthquakes start tearing...  \n",
              "1  A sting operation to capture arms dealer Miles...  \n",
              "2  Detective Tyler Burke  and his two men infiltr...  \n",
              "3  When the older brother (Tommy Nash) he idolize...  \n",
              "4  Andrew Thomas is an agent tasked with recordin...  "
            ],
            "text/html": [
              "\n",
              "  <div id=\"df-b7f7a5e1-7942-490e-9c0a-45b3fc3ac45d\">\n",
              "    <div class=\"colab-df-container\">\n",
              "      <div>\n",
              "<style scoped>\n",
              "    .dataframe tbody tr th:only-of-type {\n",
              "        vertical-align: middle;\n",
              "    }\n",
              "\n",
              "    .dataframe tbody tr th {\n",
              "        vertical-align: top;\n",
              "    }\n",
              "\n",
              "    .dataframe thead th {\n",
              "        text-align: right;\n",
              "    }\n",
              "</style>\n",
              "<table border=\"1\" class=\"dataframe\">\n",
              "  <thead>\n",
              "    <tr style=\"text-align: right;\">\n",
              "      <th></th>\n",
              "      <th>Unnamed: 0</th>\n",
              "      <th>title</th>\n",
              "      <th>plot</th>\n",
              "    </tr>\n",
              "  </thead>\n",
              "  <tbody>\n",
              "    <tr>\n",
              "      <th>0</th>\n",
              "      <td>0</td>\n",
              "      <td>10.0 Earthquake</td>\n",
              "      <td>As a series of minor earthquakes start tearing...</td>\n",
              "    </tr>\n",
              "    <tr>\n",
              "      <th>1</th>\n",
              "      <td>1</td>\n",
              "      <td>12 Rounds (film)</td>\n",
              "      <td>A sting operation to capture arms dealer Miles...</td>\n",
              "    </tr>\n",
              "    <tr>\n",
              "      <th>2</th>\n",
              "      <td>2</td>\n",
              "      <td>12 Rounds 3: Lockdown</td>\n",
              "      <td>Detective Tyler Burke  and his two men infiltr...</td>\n",
              "    </tr>\n",
              "    <tr>\n",
              "      <th>3</th>\n",
              "      <td>3</td>\n",
              "      <td>200 mph</td>\n",
              "      <td>When the older brother (Tommy Nash) he idolize...</td>\n",
              "    </tr>\n",
              "    <tr>\n",
              "      <th>4</th>\n",
              "      <td>4</td>\n",
              "      <td>Ablaze (2001 film)</td>\n",
              "      <td>Andrew Thomas is an agent tasked with recordin...</td>\n",
              "    </tr>\n",
              "  </tbody>\n",
              "</table>\n",
              "</div>\n",
              "      <button class=\"colab-df-convert\" onclick=\"convertToInteractive('df-b7f7a5e1-7942-490e-9c0a-45b3fc3ac45d')\"\n",
              "              title=\"Convert this dataframe to an interactive table.\"\n",
              "              style=\"display:none;\">\n",
              "        \n",
              "  <svg xmlns=\"http://www.w3.org/2000/svg\" height=\"24px\"viewBox=\"0 0 24 24\"\n",
              "       width=\"24px\">\n",
              "    <path d=\"M0 0h24v24H0V0z\" fill=\"none\"/>\n",
              "    <path d=\"M18.56 5.44l.94 2.06.94-2.06 2.06-.94-2.06-.94-.94-2.06-.94 2.06-2.06.94zm-11 1L8.5 8.5l.94-2.06 2.06-.94-2.06-.94L8.5 2.5l-.94 2.06-2.06.94zm10 10l.94 2.06.94-2.06 2.06-.94-2.06-.94-.94-2.06-.94 2.06-2.06.94z\"/><path d=\"M17.41 7.96l-1.37-1.37c-.4-.4-.92-.59-1.43-.59-.52 0-1.04.2-1.43.59L10.3 9.45l-7.72 7.72c-.78.78-.78 2.05 0 2.83L4 21.41c.39.39.9.59 1.41.59.51 0 1.02-.2 1.41-.59l7.78-7.78 2.81-2.81c.8-.78.8-2.07 0-2.86zM5.41 20L4 18.59l7.72-7.72 1.47 1.35L5.41 20z\"/>\n",
              "  </svg>\n",
              "      </button>\n",
              "      \n",
              "  <style>\n",
              "    .colab-df-container {\n",
              "      display:flex;\n",
              "      flex-wrap:wrap;\n",
              "      gap: 12px;\n",
              "    }\n",
              "\n",
              "    .colab-df-convert {\n",
              "      background-color: #E8F0FE;\n",
              "      border: none;\n",
              "      border-radius: 50%;\n",
              "      cursor: pointer;\n",
              "      display: none;\n",
              "      fill: #1967D2;\n",
              "      height: 32px;\n",
              "      padding: 0 0 0 0;\n",
              "      width: 32px;\n",
              "    }\n",
              "\n",
              "    .colab-df-convert:hover {\n",
              "      background-color: #E2EBFA;\n",
              "      box-shadow: 0px 1px 2px rgba(60, 64, 67, 0.3), 0px 1px 3px 1px rgba(60, 64, 67, 0.15);\n",
              "      fill: #174EA6;\n",
              "    }\n",
              "\n",
              "    [theme=dark] .colab-df-convert {\n",
              "      background-color: #3B4455;\n",
              "      fill: #D2E3FC;\n",
              "    }\n",
              "\n",
              "    [theme=dark] .colab-df-convert:hover {\n",
              "      background-color: #434B5C;\n",
              "      box-shadow: 0px 1px 3px 1px rgba(0, 0, 0, 0.15);\n",
              "      filter: drop-shadow(0px 1px 2px rgba(0, 0, 0, 0.3));\n",
              "      fill: #FFFFFF;\n",
              "    }\n",
              "  </style>\n",
              "\n",
              "      <script>\n",
              "        const buttonEl =\n",
              "          document.querySelector('#df-b7f7a5e1-7942-490e-9c0a-45b3fc3ac45d button.colab-df-convert');\n",
              "        buttonEl.style.display =\n",
              "          google.colab.kernel.accessAllowed ? 'block' : 'none';\n",
              "\n",
              "        async function convertToInteractive(key) {\n",
              "          const element = document.querySelector('#df-b7f7a5e1-7942-490e-9c0a-45b3fc3ac45d');\n",
              "          const dataTable =\n",
              "            await google.colab.kernel.invokeFunction('convertToInteractive',\n",
              "                                                     [key], {});\n",
              "          if (!dataTable) return;\n",
              "\n",
              "          const docLinkHtml = 'Like what you see? Visit the ' +\n",
              "            '<a target=\"_blank\" href=https://colab.research.google.com/notebooks/data_table.ipynb>data table notebook</a>'\n",
              "            + ' to learn more about interactive tables.';\n",
              "          element.innerHTML = '';\n",
              "          dataTable['output_type'] = 'display_data';\n",
              "          await google.colab.output.renderOutput(dataTable, element);\n",
              "          const docLink = document.createElement('div');\n",
              "          docLink.innerHTML = docLinkHtml;\n",
              "          element.appendChild(docLink);\n",
              "        }\n",
              "      </script>\n",
              "    </div>\n",
              "  </div>\n",
              "  "
            ]
          },
          "metadata": {},
          "execution_count": 27
        }
      ]
    },
    {
      "cell_type": "code",
      "source": [
        "# Add country\n",
        "bolly_df['country'] = 'India'\n",
        "bolly_df.head()"
      ],
      "metadata": {
        "colab": {
          "base_uri": "https://localhost:8080/",
          "height": 206
        },
        "id": "eZlqYHDAZ3DV",
        "outputId": "038ad92d-f27f-4125-d7ee-67cb7ef2a6f8"
      },
      "execution_count": null,
      "outputs": [
        {
          "output_type": "execute_result",
          "data": {
            "text/plain": [
              "   Unnamed: 0                        title  \\\n",
              "0           0                 4 the People   \n",
              "1           1                 Aa Gaya Hero   \n",
              "2           2            Aadmi (1993 film)   \n",
              "3           3  Aadu Puli Attam (1977 film)   \n",
              "4           4        Aag Aandhi Aur Toofan   \n",
              "\n",
              "                                                plot country  \n",
              "0  Aravind (Arun), Vivek (Bharath), Eshwar (Arjun...   India  \n",
              "1  ACP Ravindra Varma (Govinda) is a daredevil an...   India  \n",
              "2  Aadmi is the story of an honest man (Vijay M. ...   India  \n",
              "3  The movie starts with Kamal and Rajini, close ...   India  \n",
              "4  The story revolves around attempts by several ...   India  "
            ],
            "text/html": [
              "\n",
              "  <div id=\"df-e58e84ca-e7c9-4906-a2a2-c4979a53e762\">\n",
              "    <div class=\"colab-df-container\">\n",
              "      <div>\n",
              "<style scoped>\n",
              "    .dataframe tbody tr th:only-of-type {\n",
              "        vertical-align: middle;\n",
              "    }\n",
              "\n",
              "    .dataframe tbody tr th {\n",
              "        vertical-align: top;\n",
              "    }\n",
              "\n",
              "    .dataframe thead th {\n",
              "        text-align: right;\n",
              "    }\n",
              "</style>\n",
              "<table border=\"1\" class=\"dataframe\">\n",
              "  <thead>\n",
              "    <tr style=\"text-align: right;\">\n",
              "      <th></th>\n",
              "      <th>Unnamed: 0</th>\n",
              "      <th>title</th>\n",
              "      <th>plot</th>\n",
              "      <th>country</th>\n",
              "    </tr>\n",
              "  </thead>\n",
              "  <tbody>\n",
              "    <tr>\n",
              "      <th>0</th>\n",
              "      <td>0</td>\n",
              "      <td>4 the People</td>\n",
              "      <td>Aravind (Arun), Vivek (Bharath), Eshwar (Arjun...</td>\n",
              "      <td>India</td>\n",
              "    </tr>\n",
              "    <tr>\n",
              "      <th>1</th>\n",
              "      <td>1</td>\n",
              "      <td>Aa Gaya Hero</td>\n",
              "      <td>ACP Ravindra Varma (Govinda) is a daredevil an...</td>\n",
              "      <td>India</td>\n",
              "    </tr>\n",
              "    <tr>\n",
              "      <th>2</th>\n",
              "      <td>2</td>\n",
              "      <td>Aadmi (1993 film)</td>\n",
              "      <td>Aadmi is the story of an honest man (Vijay M. ...</td>\n",
              "      <td>India</td>\n",
              "    </tr>\n",
              "    <tr>\n",
              "      <th>3</th>\n",
              "      <td>3</td>\n",
              "      <td>Aadu Puli Attam (1977 film)</td>\n",
              "      <td>The movie starts with Kamal and Rajini, close ...</td>\n",
              "      <td>India</td>\n",
              "    </tr>\n",
              "    <tr>\n",
              "      <th>4</th>\n",
              "      <td>4</td>\n",
              "      <td>Aag Aandhi Aur Toofan</td>\n",
              "      <td>The story revolves around attempts by several ...</td>\n",
              "      <td>India</td>\n",
              "    </tr>\n",
              "  </tbody>\n",
              "</table>\n",
              "</div>\n",
              "      <button class=\"colab-df-convert\" onclick=\"convertToInteractive('df-e58e84ca-e7c9-4906-a2a2-c4979a53e762')\"\n",
              "              title=\"Convert this dataframe to an interactive table.\"\n",
              "              style=\"display:none;\">\n",
              "        \n",
              "  <svg xmlns=\"http://www.w3.org/2000/svg\" height=\"24px\"viewBox=\"0 0 24 24\"\n",
              "       width=\"24px\">\n",
              "    <path d=\"M0 0h24v24H0V0z\" fill=\"none\"/>\n",
              "    <path d=\"M18.56 5.44l.94 2.06.94-2.06 2.06-.94-2.06-.94-.94-2.06-.94 2.06-2.06.94zm-11 1L8.5 8.5l.94-2.06 2.06-.94-2.06-.94L8.5 2.5l-.94 2.06-2.06.94zm10 10l.94 2.06.94-2.06 2.06-.94-2.06-.94-.94-2.06-.94 2.06-2.06.94z\"/><path d=\"M17.41 7.96l-1.37-1.37c-.4-.4-.92-.59-1.43-.59-.52 0-1.04.2-1.43.59L10.3 9.45l-7.72 7.72c-.78.78-.78 2.05 0 2.83L4 21.41c.39.39.9.59 1.41.59.51 0 1.02-.2 1.41-.59l7.78-7.78 2.81-2.81c.8-.78.8-2.07 0-2.86zM5.41 20L4 18.59l7.72-7.72 1.47 1.35L5.41 20z\"/>\n",
              "  </svg>\n",
              "      </button>\n",
              "      \n",
              "  <style>\n",
              "    .colab-df-container {\n",
              "      display:flex;\n",
              "      flex-wrap:wrap;\n",
              "      gap: 12px;\n",
              "    }\n",
              "\n",
              "    .colab-df-convert {\n",
              "      background-color: #E8F0FE;\n",
              "      border: none;\n",
              "      border-radius: 50%;\n",
              "      cursor: pointer;\n",
              "      display: none;\n",
              "      fill: #1967D2;\n",
              "      height: 32px;\n",
              "      padding: 0 0 0 0;\n",
              "      width: 32px;\n",
              "    }\n",
              "\n",
              "    .colab-df-convert:hover {\n",
              "      background-color: #E2EBFA;\n",
              "      box-shadow: 0px 1px 2px rgba(60, 64, 67, 0.3), 0px 1px 3px 1px rgba(60, 64, 67, 0.15);\n",
              "      fill: #174EA6;\n",
              "    }\n",
              "\n",
              "    [theme=dark] .colab-df-convert {\n",
              "      background-color: #3B4455;\n",
              "      fill: #D2E3FC;\n",
              "    }\n",
              "\n",
              "    [theme=dark] .colab-df-convert:hover {\n",
              "      background-color: #434B5C;\n",
              "      box-shadow: 0px 1px 3px 1px rgba(0, 0, 0, 0.15);\n",
              "      filter: drop-shadow(0px 1px 2px rgba(0, 0, 0, 0.3));\n",
              "      fill: #FFFFFF;\n",
              "    }\n",
              "  </style>\n",
              "\n",
              "      <script>\n",
              "        const buttonEl =\n",
              "          document.querySelector('#df-e58e84ca-e7c9-4906-a2a2-c4979a53e762 button.colab-df-convert');\n",
              "        buttonEl.style.display =\n",
              "          google.colab.kernel.accessAllowed ? 'block' : 'none';\n",
              "\n",
              "        async function convertToInteractive(key) {\n",
              "          const element = document.querySelector('#df-e58e84ca-e7c9-4906-a2a2-c4979a53e762');\n",
              "          const dataTable =\n",
              "            await google.colab.kernel.invokeFunction('convertToInteractive',\n",
              "                                                     [key], {});\n",
              "          if (!dataTable) return;\n",
              "\n",
              "          const docLinkHtml = 'Like what you see? Visit the ' +\n",
              "            '<a target=\"_blank\" href=https://colab.research.google.com/notebooks/data_table.ipynb>data table notebook</a>'\n",
              "            + ' to learn more about interactive tables.';\n",
              "          element.innerHTML = '';\n",
              "          dataTable['output_type'] = 'display_data';\n",
              "          await google.colab.output.renderOutput(dataTable, element);\n",
              "          const docLink = document.createElement('div');\n",
              "          docLink.innerHTML = docLinkHtml;\n",
              "          element.appendChild(docLink);\n",
              "        }\n",
              "      </script>\n",
              "    </div>\n",
              "  </div>\n",
              "  "
            ]
          },
          "metadata": {},
          "execution_count": 30
        }
      ]
    },
    {
      "cell_type": "code",
      "source": [
        "holly_df['country'] = 'America'\n",
        "holly_df.head()"
      ],
      "metadata": {
        "colab": {
          "base_uri": "https://localhost:8080/",
          "height": 206
        },
        "id": "076X_3sJZIfl",
        "outputId": "64f6a7dc-ace7-4a05-ed44-36d82c96705c"
      },
      "execution_count": null,
      "outputs": [
        {
          "output_type": "execute_result",
          "data": {
            "text/plain": [
              "   Unnamed: 0                  title  \\\n",
              "0           0        10.0 Earthquake   \n",
              "1           1       12 Rounds (film)   \n",
              "2           2  12 Rounds 3: Lockdown   \n",
              "3           3                200 mph   \n",
              "4           4     Ablaze (2001 film)   \n",
              "\n",
              "                                                plot  country  \n",
              "0  As a series of minor earthquakes start tearing...  America  \n",
              "1  A sting operation to capture arms dealer Miles...  America  \n",
              "2  Detective Tyler Burke  and his two men infiltr...  America  \n",
              "3  When the older brother (Tommy Nash) he idolize...  America  \n",
              "4  Andrew Thomas is an agent tasked with recordin...  America  "
            ],
            "text/html": [
              "\n",
              "  <div id=\"df-6d6ed286-a113-4df1-93ba-828e015658fb\">\n",
              "    <div class=\"colab-df-container\">\n",
              "      <div>\n",
              "<style scoped>\n",
              "    .dataframe tbody tr th:only-of-type {\n",
              "        vertical-align: middle;\n",
              "    }\n",
              "\n",
              "    .dataframe tbody tr th {\n",
              "        vertical-align: top;\n",
              "    }\n",
              "\n",
              "    .dataframe thead th {\n",
              "        text-align: right;\n",
              "    }\n",
              "</style>\n",
              "<table border=\"1\" class=\"dataframe\">\n",
              "  <thead>\n",
              "    <tr style=\"text-align: right;\">\n",
              "      <th></th>\n",
              "      <th>Unnamed: 0</th>\n",
              "      <th>title</th>\n",
              "      <th>plot</th>\n",
              "      <th>country</th>\n",
              "    </tr>\n",
              "  </thead>\n",
              "  <tbody>\n",
              "    <tr>\n",
              "      <th>0</th>\n",
              "      <td>0</td>\n",
              "      <td>10.0 Earthquake</td>\n",
              "      <td>As a series of minor earthquakes start tearing...</td>\n",
              "      <td>America</td>\n",
              "    </tr>\n",
              "    <tr>\n",
              "      <th>1</th>\n",
              "      <td>1</td>\n",
              "      <td>12 Rounds (film)</td>\n",
              "      <td>A sting operation to capture arms dealer Miles...</td>\n",
              "      <td>America</td>\n",
              "    </tr>\n",
              "    <tr>\n",
              "      <th>2</th>\n",
              "      <td>2</td>\n",
              "      <td>12 Rounds 3: Lockdown</td>\n",
              "      <td>Detective Tyler Burke  and his two men infiltr...</td>\n",
              "      <td>America</td>\n",
              "    </tr>\n",
              "    <tr>\n",
              "      <th>3</th>\n",
              "      <td>3</td>\n",
              "      <td>200 mph</td>\n",
              "      <td>When the older brother (Tommy Nash) he idolize...</td>\n",
              "      <td>America</td>\n",
              "    </tr>\n",
              "    <tr>\n",
              "      <th>4</th>\n",
              "      <td>4</td>\n",
              "      <td>Ablaze (2001 film)</td>\n",
              "      <td>Andrew Thomas is an agent tasked with recordin...</td>\n",
              "      <td>America</td>\n",
              "    </tr>\n",
              "  </tbody>\n",
              "</table>\n",
              "</div>\n",
              "      <button class=\"colab-df-convert\" onclick=\"convertToInteractive('df-6d6ed286-a113-4df1-93ba-828e015658fb')\"\n",
              "              title=\"Convert this dataframe to an interactive table.\"\n",
              "              style=\"display:none;\">\n",
              "        \n",
              "  <svg xmlns=\"http://www.w3.org/2000/svg\" height=\"24px\"viewBox=\"0 0 24 24\"\n",
              "       width=\"24px\">\n",
              "    <path d=\"M0 0h24v24H0V0z\" fill=\"none\"/>\n",
              "    <path d=\"M18.56 5.44l.94 2.06.94-2.06 2.06-.94-2.06-.94-.94-2.06-.94 2.06-2.06.94zm-11 1L8.5 8.5l.94-2.06 2.06-.94-2.06-.94L8.5 2.5l-.94 2.06-2.06.94zm10 10l.94 2.06.94-2.06 2.06-.94-2.06-.94-.94-2.06-.94 2.06-2.06.94z\"/><path d=\"M17.41 7.96l-1.37-1.37c-.4-.4-.92-.59-1.43-.59-.52 0-1.04.2-1.43.59L10.3 9.45l-7.72 7.72c-.78.78-.78 2.05 0 2.83L4 21.41c.39.39.9.59 1.41.59.51 0 1.02-.2 1.41-.59l7.78-7.78 2.81-2.81c.8-.78.8-2.07 0-2.86zM5.41 20L4 18.59l7.72-7.72 1.47 1.35L5.41 20z\"/>\n",
              "  </svg>\n",
              "      </button>\n",
              "      \n",
              "  <style>\n",
              "    .colab-df-container {\n",
              "      display:flex;\n",
              "      flex-wrap:wrap;\n",
              "      gap: 12px;\n",
              "    }\n",
              "\n",
              "    .colab-df-convert {\n",
              "      background-color: #E8F0FE;\n",
              "      border: none;\n",
              "      border-radius: 50%;\n",
              "      cursor: pointer;\n",
              "      display: none;\n",
              "      fill: #1967D2;\n",
              "      height: 32px;\n",
              "      padding: 0 0 0 0;\n",
              "      width: 32px;\n",
              "    }\n",
              "\n",
              "    .colab-df-convert:hover {\n",
              "      background-color: #E2EBFA;\n",
              "      box-shadow: 0px 1px 2px rgba(60, 64, 67, 0.3), 0px 1px 3px 1px rgba(60, 64, 67, 0.15);\n",
              "      fill: #174EA6;\n",
              "    }\n",
              "\n",
              "    [theme=dark] .colab-df-convert {\n",
              "      background-color: #3B4455;\n",
              "      fill: #D2E3FC;\n",
              "    }\n",
              "\n",
              "    [theme=dark] .colab-df-convert:hover {\n",
              "      background-color: #434B5C;\n",
              "      box-shadow: 0px 1px 3px 1px rgba(0, 0, 0, 0.15);\n",
              "      filter: drop-shadow(0px 1px 2px rgba(0, 0, 0, 0.3));\n",
              "      fill: #FFFFFF;\n",
              "    }\n",
              "  </style>\n",
              "\n",
              "      <script>\n",
              "        const buttonEl =\n",
              "          document.querySelector('#df-6d6ed286-a113-4df1-93ba-828e015658fb button.colab-df-convert');\n",
              "        buttonEl.style.display =\n",
              "          google.colab.kernel.accessAllowed ? 'block' : 'none';\n",
              "\n",
              "        async function convertToInteractive(key) {\n",
              "          const element = document.querySelector('#df-6d6ed286-a113-4df1-93ba-828e015658fb');\n",
              "          const dataTable =\n",
              "            await google.colab.kernel.invokeFunction('convertToInteractive',\n",
              "                                                     [key], {});\n",
              "          if (!dataTable) return;\n",
              "\n",
              "          const docLinkHtml = 'Like what you see? Visit the ' +\n",
              "            '<a target=\"_blank\" href=https://colab.research.google.com/notebooks/data_table.ipynb>data table notebook</a>'\n",
              "            + ' to learn more about interactive tables.';\n",
              "          element.innerHTML = '';\n",
              "          dataTable['output_type'] = 'display_data';\n",
              "          await google.colab.output.renderOutput(dataTable, element);\n",
              "          const docLink = document.createElement('div');\n",
              "          docLink.innerHTML = docLinkHtml;\n",
              "          element.appendChild(docLink);\n",
              "        }\n",
              "      </script>\n",
              "    </div>\n",
              "  </div>\n",
              "  "
            ]
          },
          "metadata": {},
          "execution_count": 31
        }
      ]
    },
    {
      "cell_type": "code",
      "source": [
        "df = holly_df.append(bolly_df)\n",
        "print(f\"Shape is {df.shape}\")\n",
        "display(df)"
      ],
      "metadata": {
        "colab": {
          "base_uri": "https://localhost:8080/",
          "height": 441
        },
        "id": "MZXaCjYSZKvV",
        "outputId": "88e5f595-6afb-4886-a624-1b3811f59762"
      },
      "execution_count": null,
      "outputs": [
        {
          "output_type": "stream",
          "name": "stdout",
          "text": [
            "Shape is (4000, 4)\n"
          ]
        },
        {
          "output_type": "display_data",
          "data": {
            "text/plain": [
              "      Unnamed: 0                     title  \\\n",
              "0              0           10.0 Earthquake   \n",
              "1              1          12 Rounds (film)   \n",
              "2              2     12 Rounds 3: Lockdown   \n",
              "3              3                   200 mph   \n",
              "4              4        Ablaze (2001 film)   \n",
              "...          ...                       ...   \n",
              "1995        1995             Choked (film)   \n",
              "1996        1996                   Chumbak   \n",
              "1997        1997  Chungakkarum Veshyakalum   \n",
              "1998        1998                    Chuzhi   \n",
              "1999        1999          Cinema Paithiyam   \n",
              "\n",
              "                                                   plot  country  \n",
              "0     As a series of minor earthquakes start tearing...  America  \n",
              "1     A sting operation to capture arms dealer Miles...  America  \n",
              "2     Detective Tyler Burke  and his two men infiltr...  America  \n",
              "3     When the older brother (Tommy Nash) he idolize...  America  \n",
              "4     Andrew Thomas is an agent tasked with recordin...  America  \n",
              "...                                                 ...      ...  \n",
              "1995  Sarita Pillai and Sushant Pillai are a married...    India  \n",
              "1996  Chumbak is a coming-of-age story of Baalu, a t...    India  \n",
              "1997  Chungakkarum Veshyakalum is the story of a Mal...    India  \n",
              "1998  Varghese is a planter who lives with his wife ...    India  \n",
              "1999  Jaya is a cinephile. So obsessed is she with c...    India  \n",
              "\n",
              "[4000 rows x 4 columns]"
            ],
            "text/html": [
              "\n",
              "  <div id=\"df-b2911226-7212-44b2-809a-d55826ee905d\">\n",
              "    <div class=\"colab-df-container\">\n",
              "      <div>\n",
              "<style scoped>\n",
              "    .dataframe tbody tr th:only-of-type {\n",
              "        vertical-align: middle;\n",
              "    }\n",
              "\n",
              "    .dataframe tbody tr th {\n",
              "        vertical-align: top;\n",
              "    }\n",
              "\n",
              "    .dataframe thead th {\n",
              "        text-align: right;\n",
              "    }\n",
              "</style>\n",
              "<table border=\"1\" class=\"dataframe\">\n",
              "  <thead>\n",
              "    <tr style=\"text-align: right;\">\n",
              "      <th></th>\n",
              "      <th>Unnamed: 0</th>\n",
              "      <th>title</th>\n",
              "      <th>plot</th>\n",
              "      <th>country</th>\n",
              "    </tr>\n",
              "  </thead>\n",
              "  <tbody>\n",
              "    <tr>\n",
              "      <th>0</th>\n",
              "      <td>0</td>\n",
              "      <td>10.0 Earthquake</td>\n",
              "      <td>As a series of minor earthquakes start tearing...</td>\n",
              "      <td>America</td>\n",
              "    </tr>\n",
              "    <tr>\n",
              "      <th>1</th>\n",
              "      <td>1</td>\n",
              "      <td>12 Rounds (film)</td>\n",
              "      <td>A sting operation to capture arms dealer Miles...</td>\n",
              "      <td>America</td>\n",
              "    </tr>\n",
              "    <tr>\n",
              "      <th>2</th>\n",
              "      <td>2</td>\n",
              "      <td>12 Rounds 3: Lockdown</td>\n",
              "      <td>Detective Tyler Burke  and his two men infiltr...</td>\n",
              "      <td>America</td>\n",
              "    </tr>\n",
              "    <tr>\n",
              "      <th>3</th>\n",
              "      <td>3</td>\n",
              "      <td>200 mph</td>\n",
              "      <td>When the older brother (Tommy Nash) he idolize...</td>\n",
              "      <td>America</td>\n",
              "    </tr>\n",
              "    <tr>\n",
              "      <th>4</th>\n",
              "      <td>4</td>\n",
              "      <td>Ablaze (2001 film)</td>\n",
              "      <td>Andrew Thomas is an agent tasked with recordin...</td>\n",
              "      <td>America</td>\n",
              "    </tr>\n",
              "    <tr>\n",
              "      <th>...</th>\n",
              "      <td>...</td>\n",
              "      <td>...</td>\n",
              "      <td>...</td>\n",
              "      <td>...</td>\n",
              "    </tr>\n",
              "    <tr>\n",
              "      <th>1995</th>\n",
              "      <td>1995</td>\n",
              "      <td>Choked (film)</td>\n",
              "      <td>Sarita Pillai and Sushant Pillai are a married...</td>\n",
              "      <td>India</td>\n",
              "    </tr>\n",
              "    <tr>\n",
              "      <th>1996</th>\n",
              "      <td>1996</td>\n",
              "      <td>Chumbak</td>\n",
              "      <td>Chumbak is a coming-of-age story of Baalu, a t...</td>\n",
              "      <td>India</td>\n",
              "    </tr>\n",
              "    <tr>\n",
              "      <th>1997</th>\n",
              "      <td>1997</td>\n",
              "      <td>Chungakkarum Veshyakalum</td>\n",
              "      <td>Chungakkarum Veshyakalum is the story of a Mal...</td>\n",
              "      <td>India</td>\n",
              "    </tr>\n",
              "    <tr>\n",
              "      <th>1998</th>\n",
              "      <td>1998</td>\n",
              "      <td>Chuzhi</td>\n",
              "      <td>Varghese is a planter who lives with his wife ...</td>\n",
              "      <td>India</td>\n",
              "    </tr>\n",
              "    <tr>\n",
              "      <th>1999</th>\n",
              "      <td>1999</td>\n",
              "      <td>Cinema Paithiyam</td>\n",
              "      <td>Jaya is a cinephile. So obsessed is she with c...</td>\n",
              "      <td>India</td>\n",
              "    </tr>\n",
              "  </tbody>\n",
              "</table>\n",
              "<p>4000 rows × 4 columns</p>\n",
              "</div>\n",
              "      <button class=\"colab-df-convert\" onclick=\"convertToInteractive('df-b2911226-7212-44b2-809a-d55826ee905d')\"\n",
              "              title=\"Convert this dataframe to an interactive table.\"\n",
              "              style=\"display:none;\">\n",
              "        \n",
              "  <svg xmlns=\"http://www.w3.org/2000/svg\" height=\"24px\"viewBox=\"0 0 24 24\"\n",
              "       width=\"24px\">\n",
              "    <path d=\"M0 0h24v24H0V0z\" fill=\"none\"/>\n",
              "    <path d=\"M18.56 5.44l.94 2.06.94-2.06 2.06-.94-2.06-.94-.94-2.06-.94 2.06-2.06.94zm-11 1L8.5 8.5l.94-2.06 2.06-.94-2.06-.94L8.5 2.5l-.94 2.06-2.06.94zm10 10l.94 2.06.94-2.06 2.06-.94-2.06-.94-.94-2.06-.94 2.06-2.06.94z\"/><path d=\"M17.41 7.96l-1.37-1.37c-.4-.4-.92-.59-1.43-.59-.52 0-1.04.2-1.43.59L10.3 9.45l-7.72 7.72c-.78.78-.78 2.05 0 2.83L4 21.41c.39.39.9.59 1.41.59.51 0 1.02-.2 1.41-.59l7.78-7.78 2.81-2.81c.8-.78.8-2.07 0-2.86zM5.41 20L4 18.59l7.72-7.72 1.47 1.35L5.41 20z\"/>\n",
              "  </svg>\n",
              "      </button>\n",
              "      \n",
              "  <style>\n",
              "    .colab-df-container {\n",
              "      display:flex;\n",
              "      flex-wrap:wrap;\n",
              "      gap: 12px;\n",
              "    }\n",
              "\n",
              "    .colab-df-convert {\n",
              "      background-color: #E8F0FE;\n",
              "      border: none;\n",
              "      border-radius: 50%;\n",
              "      cursor: pointer;\n",
              "      display: none;\n",
              "      fill: #1967D2;\n",
              "      height: 32px;\n",
              "      padding: 0 0 0 0;\n",
              "      width: 32px;\n",
              "    }\n",
              "\n",
              "    .colab-df-convert:hover {\n",
              "      background-color: #E2EBFA;\n",
              "      box-shadow: 0px 1px 2px rgba(60, 64, 67, 0.3), 0px 1px 3px 1px rgba(60, 64, 67, 0.15);\n",
              "      fill: #174EA6;\n",
              "    }\n",
              "\n",
              "    [theme=dark] .colab-df-convert {\n",
              "      background-color: #3B4455;\n",
              "      fill: #D2E3FC;\n",
              "    }\n",
              "\n",
              "    [theme=dark] .colab-df-convert:hover {\n",
              "      background-color: #434B5C;\n",
              "      box-shadow: 0px 1px 3px 1px rgba(0, 0, 0, 0.15);\n",
              "      filter: drop-shadow(0px 1px 2px rgba(0, 0, 0, 0.3));\n",
              "      fill: #FFFFFF;\n",
              "    }\n",
              "  </style>\n",
              "\n",
              "      <script>\n",
              "        const buttonEl =\n",
              "          document.querySelector('#df-b2911226-7212-44b2-809a-d55826ee905d button.colab-df-convert');\n",
              "        buttonEl.style.display =\n",
              "          google.colab.kernel.accessAllowed ? 'block' : 'none';\n",
              "\n",
              "        async function convertToInteractive(key) {\n",
              "          const element = document.querySelector('#df-b2911226-7212-44b2-809a-d55826ee905d');\n",
              "          const dataTable =\n",
              "            await google.colab.kernel.invokeFunction('convertToInteractive',\n",
              "                                                     [key], {});\n",
              "          if (!dataTable) return;\n",
              "\n",
              "          const docLinkHtml = 'Like what you see? Visit the ' +\n",
              "            '<a target=\"_blank\" href=https://colab.research.google.com/notebooks/data_table.ipynb>data table notebook</a>'\n",
              "            + ' to learn more about interactive tables.';\n",
              "          element.innerHTML = '';\n",
              "          dataTable['output_type'] = 'display_data';\n",
              "          await google.colab.output.renderOutput(dataTable, element);\n",
              "          const docLink = document.createElement('div');\n",
              "          docLink.innerHTML = docLinkHtml;\n",
              "          element.appendChild(docLink);\n",
              "        }\n",
              "      </script>\n",
              "    </div>\n",
              "  </div>\n",
              "  "
            ]
          },
          "metadata": {}
        }
      ]
    },
    {
      "cell_type": "markdown",
      "source": [
        "## Pre-processing Data"
      ],
      "metadata": {
        "id": "Liopcwhl2qNg"
      }
    },
    {
      "cell_type": "code",
      "execution_count": null,
      "metadata": {
        "id": "OEE6SfYVx9eZ"
      },
      "outputs": [],
      "source": [
        "# Convert uppercase to lowercase\n",
        "corpus = [document.lower() for document in df['plot']]\n",
        "\n",
        "# Remove end of line\n",
        "# corpus = [(re.sub(r'\\n', '' , document)) for document in corpus]\n",
        "\n",
        "# Remove digits\n",
        "corpus = [(re.sub(r'\\d', '' , document)) for document in corpus]\n",
        "\n",
        "# Remove punctuation marks\n",
        "pattern = r'[' + re.escape(string.punctuation) + ']'\n",
        "corpus = [(re.sub(pattern, '' , document)) for document in corpus]\n",
        "\n",
        "# Remove superflous blanks\n",
        "corpus = [(re.sub(r' +', ' ', document)) for document in corpus]"
      ]
    },
    {
      "cell_type": "code",
      "source": [
        "print(corpus[0])"
      ],
      "metadata": {
        "colab": {
          "base_uri": "https://localhost:8080/"
        },
        "id": "otaQY-QwaWNe",
        "outputId": "b457721f-0177-490d-e8aa-59166655cc6f"
      },
      "execution_count": null,
      "outputs": [
        {
          "output_type": "stream",
          "name": "stdout",
          "text": [
            "as a series of minor earthquakes start tearing apart los angeles scientist emily of the usgs theorizes that it is all building to a super quake that will drop the entire city into a lavafilled chasm engineer jack whose daughter has gone camping with her friends in the danger area and whose company is responsible for the quakes due to their deep fracking feels obligated to help and races with emily through the increasingly damaged city with the hopes of diverting the epicenter to long beach and potentially saving millions of lives in the city of los angeles\n"
          ]
        }
      ]
    },
    {
      "cell_type": "code",
      "source": [
        "# Tokenize\n",
        "tokens = [nltk.word_tokenize(document) for document in corpus]"
      ],
      "metadata": {
        "id": "iiXoPPUt1LSa"
      },
      "execution_count": null,
      "outputs": []
    },
    {
      "cell_type": "code",
      "source": [
        "#loading the english language of spacy and stopwords.\n",
        "en = spacy.load('en_core_web_sm')\n",
        "sw_spacy = en.Defaults.stop_words\n",
        "\n",
        "# Delete stopwords\n",
        "tokenized_corpus = []\n",
        "for document in tokens:\n",
        "    tokenized_corpus.append([token for token in document if token not in sw_spacy])"
      ],
      "metadata": {
        "id": "M_rBQmlO1Osg"
      },
      "execution_count": null,
      "outputs": []
    },
    {
      "cell_type": "code",
      "source": [
        "# Lemmatize\n",
        "lemmatizer = WordNetLemmatizer()\n",
        "lemmatized_corpus = []\n",
        "for document in tokenized_corpus:\n",
        "    lemmatized_corpus.append([lemmatizer.lemmatize(token) for token in document])"
      ],
      "metadata": {
        "id": "YNkJLiTM12Kd"
      },
      "execution_count": null,
      "outputs": []
    },
    {
      "cell_type": "code",
      "source": [
        "print(df.shape)\n",
        "print(len(lemmatized_corpus))"
      ],
      "metadata": {
        "colab": {
          "base_uri": "https://localhost:8080/"
        },
        "id": "oGLu_MiC33TE",
        "outputId": "c204b680-2f7f-4ed6-a2b0-71acde772374"
      },
      "execution_count": null,
      "outputs": [
        {
          "output_type": "stream",
          "name": "stdout",
          "text": [
            "(4000, 4)\n",
            "4000\n"
          ]
        }
      ]
    },
    {
      "cell_type": "code",
      "source": [
        "lemmatized_corpus[0]"
      ],
      "metadata": {
        "id": "q79jcwsM5BXN"
      },
      "execution_count": null,
      "outputs": []
    },
    {
      "cell_type": "code",
      "source": [
        "# Add tokens to the df\n",
        "df['tokenized_text'] = lemmatized_corpus"
      ],
      "metadata": {
        "id": "16swSkgzdLXf"
      },
      "execution_count": null,
      "outputs": []
    },
    {
      "cell_type": "code",
      "source": [
        "display(df)"
      ],
      "metadata": {
        "colab": {
          "base_uri": "https://localhost:8080/",
          "height": 468
        },
        "id": "Cg-sMD2rdnnl",
        "outputId": "c90ff304-9a0f-4a46-943a-3cc0653e0a63"
      },
      "execution_count": null,
      "outputs": [
        {
          "output_type": "display_data",
          "data": {
            "text/plain": [
              "      Unnamed: 0                     title  \\\n",
              "0              0           10.0 Earthquake   \n",
              "1              1          12 Rounds (film)   \n",
              "2              2     12 Rounds 3: Lockdown   \n",
              "3              3                   200 mph   \n",
              "4              4        Ablaze (2001 film)   \n",
              "...          ...                       ...   \n",
              "1995        1995             Choked (film)   \n",
              "1996        1996                   Chumbak   \n",
              "1997        1997  Chungakkarum Veshyakalum   \n",
              "1998        1998                    Chuzhi   \n",
              "1999        1999          Cinema Paithiyam   \n",
              "\n",
              "                                                   plot  country  \\\n",
              "0     As a series of minor earthquakes start tearing...  America   \n",
              "1     A sting operation to capture arms dealer Miles...  America   \n",
              "2     Detective Tyler Burke  and his two men infiltr...  America   \n",
              "3     When the older brother (Tommy Nash) he idolize...  America   \n",
              "4     Andrew Thomas is an agent tasked with recordin...  America   \n",
              "...                                                 ...      ...   \n",
              "1995  Sarita Pillai and Sushant Pillai are a married...    India   \n",
              "1996  Chumbak is a coming-of-age story of Baalu, a t...    India   \n",
              "1997  Chungakkarum Veshyakalum is the story of a Mal...    India   \n",
              "1998  Varghese is a planter who lives with his wife ...    India   \n",
              "1999  Jaya is a cinephile. So obsessed is she with c...    India   \n",
              "\n",
              "                                         tokenized_text  \n",
              "0     [series, minor, earthquake, start, tearing, ap...  \n",
              "1     [sting, operation, capture, arm, dealer, mile,...  \n",
              "2     [detective, tyler, burke, men, infiltrate, hou...  \n",
              "3     [older, brother, tommy, nash, idolizes, run, r...  \n",
              "4     [andrew, thomas, agent, tasked, recording, vio...  \n",
              "...                                                 ...  \n",
              "1995  [sarita, pillai, sushant, pillai, married, cou...  \n",
              "1996  [chumbak, comingofage, story, baalu, teen, res...  \n",
              "1997  [chungakkarum, veshyakalum, story, malayali, f...  \n",
              "1998  [varghese, planter, life, wife, elizabeth, dau...  \n",
              "1999  [jaya, cinephile, obsessed, cinema, worship, p...  \n",
              "\n",
              "[4000 rows x 5 columns]"
            ],
            "text/html": [
              "\n",
              "  <div id=\"df-fd1de1f8-7b49-433b-93fc-6ea31c284abf\">\n",
              "    <div class=\"colab-df-container\">\n",
              "      <div>\n",
              "<style scoped>\n",
              "    .dataframe tbody tr th:only-of-type {\n",
              "        vertical-align: middle;\n",
              "    }\n",
              "\n",
              "    .dataframe tbody tr th {\n",
              "        vertical-align: top;\n",
              "    }\n",
              "\n",
              "    .dataframe thead th {\n",
              "        text-align: right;\n",
              "    }\n",
              "</style>\n",
              "<table border=\"1\" class=\"dataframe\">\n",
              "  <thead>\n",
              "    <tr style=\"text-align: right;\">\n",
              "      <th></th>\n",
              "      <th>Unnamed: 0</th>\n",
              "      <th>title</th>\n",
              "      <th>plot</th>\n",
              "      <th>country</th>\n",
              "      <th>tokenized_text</th>\n",
              "    </tr>\n",
              "  </thead>\n",
              "  <tbody>\n",
              "    <tr>\n",
              "      <th>0</th>\n",
              "      <td>0</td>\n",
              "      <td>10.0 Earthquake</td>\n",
              "      <td>As a series of minor earthquakes start tearing...</td>\n",
              "      <td>America</td>\n",
              "      <td>[series, minor, earthquake, start, tearing, ap...</td>\n",
              "    </tr>\n",
              "    <tr>\n",
              "      <th>1</th>\n",
              "      <td>1</td>\n",
              "      <td>12 Rounds (film)</td>\n",
              "      <td>A sting operation to capture arms dealer Miles...</td>\n",
              "      <td>America</td>\n",
              "      <td>[sting, operation, capture, arm, dealer, mile,...</td>\n",
              "    </tr>\n",
              "    <tr>\n",
              "      <th>2</th>\n",
              "      <td>2</td>\n",
              "      <td>12 Rounds 3: Lockdown</td>\n",
              "      <td>Detective Tyler Burke  and his two men infiltr...</td>\n",
              "      <td>America</td>\n",
              "      <td>[detective, tyler, burke, men, infiltrate, hou...</td>\n",
              "    </tr>\n",
              "    <tr>\n",
              "      <th>3</th>\n",
              "      <td>3</td>\n",
              "      <td>200 mph</td>\n",
              "      <td>When the older brother (Tommy Nash) he idolize...</td>\n",
              "      <td>America</td>\n",
              "      <td>[older, brother, tommy, nash, idolizes, run, r...</td>\n",
              "    </tr>\n",
              "    <tr>\n",
              "      <th>4</th>\n",
              "      <td>4</td>\n",
              "      <td>Ablaze (2001 film)</td>\n",
              "      <td>Andrew Thomas is an agent tasked with recordin...</td>\n",
              "      <td>America</td>\n",
              "      <td>[andrew, thomas, agent, tasked, recording, vio...</td>\n",
              "    </tr>\n",
              "    <tr>\n",
              "      <th>...</th>\n",
              "      <td>...</td>\n",
              "      <td>...</td>\n",
              "      <td>...</td>\n",
              "      <td>...</td>\n",
              "      <td>...</td>\n",
              "    </tr>\n",
              "    <tr>\n",
              "      <th>1995</th>\n",
              "      <td>1995</td>\n",
              "      <td>Choked (film)</td>\n",
              "      <td>Sarita Pillai and Sushant Pillai are a married...</td>\n",
              "      <td>India</td>\n",
              "      <td>[sarita, pillai, sushant, pillai, married, cou...</td>\n",
              "    </tr>\n",
              "    <tr>\n",
              "      <th>1996</th>\n",
              "      <td>1996</td>\n",
              "      <td>Chumbak</td>\n",
              "      <td>Chumbak is a coming-of-age story of Baalu, a t...</td>\n",
              "      <td>India</td>\n",
              "      <td>[chumbak, comingofage, story, baalu, teen, res...</td>\n",
              "    </tr>\n",
              "    <tr>\n",
              "      <th>1997</th>\n",
              "      <td>1997</td>\n",
              "      <td>Chungakkarum Veshyakalum</td>\n",
              "      <td>Chungakkarum Veshyakalum is the story of a Mal...</td>\n",
              "      <td>India</td>\n",
              "      <td>[chungakkarum, veshyakalum, story, malayali, f...</td>\n",
              "    </tr>\n",
              "    <tr>\n",
              "      <th>1998</th>\n",
              "      <td>1998</td>\n",
              "      <td>Chuzhi</td>\n",
              "      <td>Varghese is a planter who lives with his wife ...</td>\n",
              "      <td>India</td>\n",
              "      <td>[varghese, planter, life, wife, elizabeth, dau...</td>\n",
              "    </tr>\n",
              "    <tr>\n",
              "      <th>1999</th>\n",
              "      <td>1999</td>\n",
              "      <td>Cinema Paithiyam</td>\n",
              "      <td>Jaya is a cinephile. So obsessed is she with c...</td>\n",
              "      <td>India</td>\n",
              "      <td>[jaya, cinephile, obsessed, cinema, worship, p...</td>\n",
              "    </tr>\n",
              "  </tbody>\n",
              "</table>\n",
              "<p>4000 rows × 5 columns</p>\n",
              "</div>\n",
              "      <button class=\"colab-df-convert\" onclick=\"convertToInteractive('df-fd1de1f8-7b49-433b-93fc-6ea31c284abf')\"\n",
              "              title=\"Convert this dataframe to an interactive table.\"\n",
              "              style=\"display:none;\">\n",
              "        \n",
              "  <svg xmlns=\"http://www.w3.org/2000/svg\" height=\"24px\"viewBox=\"0 0 24 24\"\n",
              "       width=\"24px\">\n",
              "    <path d=\"M0 0h24v24H0V0z\" fill=\"none\"/>\n",
              "    <path d=\"M18.56 5.44l.94 2.06.94-2.06 2.06-.94-2.06-.94-.94-2.06-.94 2.06-2.06.94zm-11 1L8.5 8.5l.94-2.06 2.06-.94-2.06-.94L8.5 2.5l-.94 2.06-2.06.94zm10 10l.94 2.06.94-2.06 2.06-.94-2.06-.94-.94-2.06-.94 2.06-2.06.94z\"/><path d=\"M17.41 7.96l-1.37-1.37c-.4-.4-.92-.59-1.43-.59-.52 0-1.04.2-1.43.59L10.3 9.45l-7.72 7.72c-.78.78-.78 2.05 0 2.83L4 21.41c.39.39.9.59 1.41.59.51 0 1.02-.2 1.41-.59l7.78-7.78 2.81-2.81c.8-.78.8-2.07 0-2.86zM5.41 20L4 18.59l7.72-7.72 1.47 1.35L5.41 20z\"/>\n",
              "  </svg>\n",
              "      </button>\n",
              "      \n",
              "  <style>\n",
              "    .colab-df-container {\n",
              "      display:flex;\n",
              "      flex-wrap:wrap;\n",
              "      gap: 12px;\n",
              "    }\n",
              "\n",
              "    .colab-df-convert {\n",
              "      background-color: #E8F0FE;\n",
              "      border: none;\n",
              "      border-radius: 50%;\n",
              "      cursor: pointer;\n",
              "      display: none;\n",
              "      fill: #1967D2;\n",
              "      height: 32px;\n",
              "      padding: 0 0 0 0;\n",
              "      width: 32px;\n",
              "    }\n",
              "\n",
              "    .colab-df-convert:hover {\n",
              "      background-color: #E2EBFA;\n",
              "      box-shadow: 0px 1px 2px rgba(60, 64, 67, 0.3), 0px 1px 3px 1px rgba(60, 64, 67, 0.15);\n",
              "      fill: #174EA6;\n",
              "    }\n",
              "\n",
              "    [theme=dark] .colab-df-convert {\n",
              "      background-color: #3B4455;\n",
              "      fill: #D2E3FC;\n",
              "    }\n",
              "\n",
              "    [theme=dark] .colab-df-convert:hover {\n",
              "      background-color: #434B5C;\n",
              "      box-shadow: 0px 1px 3px 1px rgba(0, 0, 0, 0.15);\n",
              "      filter: drop-shadow(0px 1px 2px rgba(0, 0, 0, 0.3));\n",
              "      fill: #FFFFFF;\n",
              "    }\n",
              "  </style>\n",
              "\n",
              "      <script>\n",
              "        const buttonEl =\n",
              "          document.querySelector('#df-fd1de1f8-7b49-433b-93fc-6ea31c284abf button.colab-df-convert');\n",
              "        buttonEl.style.display =\n",
              "          google.colab.kernel.accessAllowed ? 'block' : 'none';\n",
              "\n",
              "        async function convertToInteractive(key) {\n",
              "          const element = document.querySelector('#df-fd1de1f8-7b49-433b-93fc-6ea31c284abf');\n",
              "          const dataTable =\n",
              "            await google.colab.kernel.invokeFunction('convertToInteractive',\n",
              "                                                     [key], {});\n",
              "          if (!dataTable) return;\n",
              "\n",
              "          const docLinkHtml = 'Like what you see? Visit the ' +\n",
              "            '<a target=\"_blank\" href=https://colab.research.google.com/notebooks/data_table.ipynb>data table notebook</a>'\n",
              "            + ' to learn more about interactive tables.';\n",
              "          element.innerHTML = '';\n",
              "          dataTable['output_type'] = 'display_data';\n",
              "          await google.colab.output.renderOutput(dataTable, element);\n",
              "          const docLink = document.createElement('div');\n",
              "          docLink.innerHTML = docLinkHtml;\n",
              "          element.appendChild(docLink);\n",
              "        }\n",
              "      </script>\n",
              "    </div>\n",
              "  </div>\n",
              "  "
            ]
          },
          "metadata": {}
        }
      ]
    },
    {
      "cell_type": "markdown",
      "source": [
        "## Create a common Dictionary"
      ],
      "metadata": {
        "id": "7pc7KSEb2utX"
      }
    },
    {
      "cell_type": "code",
      "source": [
        "# Create dictionary:\n",
        "dictionary = corpora.Dictionary(lemmatized_corpus)"
      ],
      "metadata": {
        "id": "A4S8I9yq2WRx"
      },
      "execution_count": null,
      "outputs": []
    },
    {
      "cell_type": "markdown",
      "source": [
        "## Create Bag of Words"
      ],
      "metadata": {
        "id": "5vbnyAoZ61QO"
      }
    },
    {
      "cell_type": "code",
      "source": [
        "bag_of_words = []\n",
        "for document in lemmatized_corpus:\n",
        "    bow = dictionary.doc2bow(document)\n",
        "    bag_of_words.append(bow)"
      ],
      "metadata": {
        "id": "NW7F8sD_60OP"
      },
      "execution_count": null,
      "outputs": []
    },
    {
      "cell_type": "code",
      "source": [
        "print(bag_of_words[0])"
      ],
      "metadata": {
        "colab": {
          "base_uri": "https://localhost:8080/"
        },
        "id": "ts4RjJa9brp3",
        "outputId": "110b9153-39de-45c9-f188-e3285974849a"
      },
      "execution_count": null,
      "outputs": [
        {
          "output_type": "stream",
          "name": "stdout",
          "text": [
            "[(0, 2), (1, 1), (2, 1), (3, 1), (4, 1), (5, 1), (6, 1), (7, 3), (8, 1), (9, 1), (10, 1), (11, 1), (12, 1), (13, 1), (14, 1), (15, 1), (16, 2), (17, 1), (18, 1), (19, 1), (20, 1), (21, 1), (22, 1), (23, 1), (24, 1), (25, 1), (26, 1), (27, 1), (28, 1), (29, 1), (30, 1), (31, 2), (32, 1), (33, 1), (34, 1), (35, 1), (36, 2), (37, 1), (38, 1), (39, 1), (40, 1), (41, 1), (42, 1), (43, 1), (44, 1), (45, 1), (46, 1)]\n"
          ]
        }
      ]
    },
    {
      "cell_type": "markdown",
      "source": [
        "## Create LDA Model"
      ],
      "metadata": {
        "id": "Mxvaoj3c3YBI"
      }
    },
    {
      "cell_type": "code",
      "source": [
        "####### CAREFUL!!!! THIS MIGHT TAKES LONG ##################################\n",
        "lda_model = gensim.models.ldamodel.LdaModel(corpus=bag_of_words,\n",
        "                                            id2word=dictionary,\n",
        "                                            num_topics=10,\n",
        "                                            random_state=42, \n",
        "                                            passes=10)"
      ],
      "metadata": {
        "id": "E_ZCgv2r3lgo"
      },
      "execution_count": null,
      "outputs": []
    },
    {
      "cell_type": "markdown",
      "source": [
        "## Optimize Model"
      ],
      "metadata": {
        "id": "X6aYXJnH7LZs"
      }
    },
    {
      "cell_type": "code",
      "source": [
        "# Topic range\n",
        "start = 1\n",
        "stop = 10\n",
        "step = 1\n",
        "topics_range = range(start, stop, step)\n",
        "\n",
        "model_results = {'Topic_Number': [],\n",
        "                 'Coherence_Value': []\n",
        "                }"
      ],
      "metadata": {
        "id": "B6kxYZXt7OSQ"
      },
      "execution_count": null,
      "outputs": []
    },
    {
      "cell_type": "code",
      "source": [
        "model_list = []\n",
        "\n",
        "for num_topics in topics_range: \n",
        "  lda_model = gensim.models.ldamodel.LdaModel(corpus=bag_of_words, id2word=dictionary, num_topics=num_topics, passes=10, random_state=42)\n",
        "  model_list.append(lda_model)\n",
        "\n",
        "  coherence_model = gensim.models.coherencemodel.CoherenceModel(model=lda_model, texts=lemmatized_corpus, dictionary=dictionary, coherence='c_v')  \n",
        "\n",
        "  model_results['Topic_Number'].append(num_topics)\n",
        "  coherence_val = coherence_model.get_coherence()\n",
        "  model_results['Coherence_Value'].append(coherence_val)"
      ],
      "metadata": {
        "id": "fkR4KLcPWPWM"
      },
      "execution_count": null,
      "outputs": []
    },
    {
      "cell_type": "code",
      "source": [
        "# Show graphic: \n",
        "import matplotlib.pyplot as plt\n",
        "x = model_results['Topic_Number']\n",
        "plt.plot(x, model_results['Coherence_Value'])\n",
        "plt.xlabel(\"Topic number\")\n",
        "plt.ylabel(\"Coherence score\")\n",
        "plt.show()"
      ],
      "metadata": {
        "colab": {
          "base_uri": "https://localhost:8080/",
          "height": 279
        },
        "id": "qM5BSfOGXEZc",
        "outputId": "5e9ef946-908c-4593-f658-30cd65fefdef"
      },
      "execution_count": null,
      "outputs": [
        {
          "output_type": "display_data",
          "data": {
            "text/plain": [
              "<Figure size 432x288 with 1 Axes>"
            ],
            "image/png": "[encoded data removed]"
          },
          "metadata": {
            "needs_background": "light"
          }
        }
      ]
    },
    {
      "cell_type": "code",
      "source": [
        "import pandas as pd\n",
        "model_results = pd.DataFrame(model_results)\n",
        "display(model_results)"
      ],
      "metadata": {
        "colab": {
          "base_uri": "https://localhost:8080/",
          "height": 331
        },
        "id": "FZipcMJUXGyN",
        "outputId": "2fed9816-910c-45bd-8b8e-73ab0af70f97"
      },
      "execution_count": null,
      "outputs": [
        {
          "output_type": "display_data",
          "data": {
            "text/plain": [
              "   Topic_Number  Coherence_Value\n",
              "0             1         0.308559\n",
              "1             2         0.320424\n",
              "2             3         0.297668\n",
              "3             4         0.321832\n",
              "4             5         0.311619\n",
              "5             6         0.296803\n",
              "6             7         0.301811\n",
              "7             8         0.318545\n",
              "8             9         0.303789"
            ],
            "text/html": [
              "\n",
              "  <div id=\"df-f2386c6f-2898-461d-bcca-340e69190da1\">\n",
              "    <div class=\"colab-df-container\">\n",
              "      <div>\n",
              "<style scoped>\n",
              "    .dataframe tbody tr th:only-of-type {\n",
              "        vertical-align: middle;\n",
              "    }\n",
              "\n",
              "    .dataframe tbody tr th {\n",
              "        vertical-align: top;\n",
              "    }\n",
              "\n",
              "    .dataframe thead th {\n",
              "        text-align: right;\n",
              "    }\n",
              "</style>\n",
              "<table border=\"1\" class=\"dataframe\">\n",
              "  <thead>\n",
              "    <tr style=\"text-align: right;\">\n",
              "      <th></th>\n",
              "      <th>Topic_Number</th>\n",
              "      <th>Coherence_Value</th>\n",
              "    </tr>\n",
              "  </thead>\n",
              "  <tbody>\n",
              "    <tr>\n",
              "      <th>0</th>\n",
              "      <td>1</td>\n",
              "      <td>0.308559</td>\n",
              "    </tr>\n",
              "    <tr>\n",
              "      <th>1</th>\n",
              "      <td>2</td>\n",
              "      <td>0.320424</td>\n",
              "    </tr>\n",
              "    <tr>\n",
              "      <th>2</th>\n",
              "      <td>3</td>\n",
              "      <td>0.297668</td>\n",
              "    </tr>\n",
              "    <tr>\n",
              "      <th>3</th>\n",
              "      <td>4</td>\n",
              "      <td>0.321832</td>\n",
              "    </tr>\n",
              "    <tr>\n",
              "      <th>4</th>\n",
              "      <td>5</td>\n",
              "      <td>0.311619</td>\n",
              "    </tr>\n",
              "    <tr>\n",
              "      <th>5</th>\n",
              "      <td>6</td>\n",
              "      <td>0.296803</td>\n",
              "    </tr>\n",
              "    <tr>\n",
              "      <th>6</th>\n",
              "      <td>7</td>\n",
              "      <td>0.301811</td>\n",
              "    </tr>\n",
              "    <tr>\n",
              "      <th>7</th>\n",
              "      <td>8</td>\n",
              "      <td>0.318545</td>\n",
              "    </tr>\n",
              "    <tr>\n",
              "      <th>8</th>\n",
              "      <td>9</td>\n",
              "      <td>0.303789</td>\n",
              "    </tr>\n",
              "  </tbody>\n",
              "</table>\n",
              "</div>\n",
              "      <button class=\"colab-df-convert\" onclick=\"convertToInteractive('df-f2386c6f-2898-461d-bcca-340e69190da1')\"\n",
              "              title=\"Convert this dataframe to an interactive table.\"\n",
              "              style=\"display:none;\">\n",
              "        \n",
              "  <svg xmlns=\"http://www.w3.org/2000/svg\" height=\"24px\"viewBox=\"0 0 24 24\"\n",
              "       width=\"24px\">\n",
              "    <path d=\"M0 0h24v24H0V0z\" fill=\"none\"/>\n",
              "    <path d=\"M18.56 5.44l.94 2.06.94-2.06 2.06-.94-2.06-.94-.94-2.06-.94 2.06-2.06.94zm-11 1L8.5 8.5l.94-2.06 2.06-.94-2.06-.94L8.5 2.5l-.94 2.06-2.06.94zm10 10l.94 2.06.94-2.06 2.06-.94-2.06-.94-.94-2.06-.94 2.06-2.06.94z\"/><path d=\"M17.41 7.96l-1.37-1.37c-.4-.4-.92-.59-1.43-.59-.52 0-1.04.2-1.43.59L10.3 9.45l-7.72 7.72c-.78.78-.78 2.05 0 2.83L4 21.41c.39.39.9.59 1.41.59.51 0 1.02-.2 1.41-.59l7.78-7.78 2.81-2.81c.8-.78.8-2.07 0-2.86zM5.41 20L4 18.59l7.72-7.72 1.47 1.35L5.41 20z\"/>\n",
              "  </svg>\n",
              "      </button>\n",
              "      \n",
              "  <style>\n",
              "    .colab-df-container {\n",
              "      display:flex;\n",
              "      flex-wrap:wrap;\n",
              "      gap: 12px;\n",
              "    }\n",
              "\n",
              "    .colab-df-convert {\n",
              "      background-color: #E8F0FE;\n",
              "      border: none;\n",
              "      border-radius: 50%;\n",
              "      cursor: pointer;\n",
              "      display: none;\n",
              "      fill: #1967D2;\n",
              "      height: 32px;\n",
              "      padding: 0 0 0 0;\n",
              "      width: 32px;\n",
              "    }\n",
              "\n",
              "    .colab-df-convert:hover {\n",
              "      background-color: #E2EBFA;\n",
              "      box-shadow: 0px 1px 2px rgba(60, 64, 67, 0.3), 0px 1px 3px 1px rgba(60, 64, 67, 0.15);\n",
              "      fill: #174EA6;\n",
              "    }\n",
              "\n",
              "    [theme=dark] .colab-df-convert {\n",
              "      background-color: #3B4455;\n",
              "      fill: #D2E3FC;\n",
              "    }\n",
              "\n",
              "    [theme=dark] .colab-df-convert:hover {\n",
              "      background-color: #434B5C;\n",
              "      box-shadow: 0px 1px 3px 1px rgba(0, 0, 0, 0.15);\n",
              "      filter: drop-shadow(0px 1px 2px rgba(0, 0, 0, 0.3));\n",
              "      fill: #FFFFFF;\n",
              "    }\n",
              "  </style>\n",
              "\n",
              "      <script>\n",
              "        const buttonEl =\n",
              "          document.querySelector('#df-f2386c6f-2898-461d-bcca-340e69190da1 button.colab-df-convert');\n",
              "        buttonEl.style.display =\n",
              "          google.colab.kernel.accessAllowed ? 'block' : 'none';\n",
              "\n",
              "        async function convertToInteractive(key) {\n",
              "          const element = document.querySelector('#df-f2386c6f-2898-461d-bcca-340e69190da1');\n",
              "          const dataTable =\n",
              "            await google.colab.kernel.invokeFunction('convertToInteractive',\n",
              "                                                     [key], {});\n",
              "          if (!dataTable) return;\n",
              "\n",
              "          const docLinkHtml = 'Like what you see? Visit the ' +\n",
              "            '<a target=\"_blank\" href=https://colab.research.google.com/notebooks/data_table.ipynb>data table notebook</a>'\n",
              "            + ' to learn more about interactive tables.';\n",
              "          element.innerHTML = '';\n",
              "          dataTable['output_type'] = 'display_data';\n",
              "          await google.colab.output.renderOutput(dataTable, element);\n",
              "          const docLink = document.createElement('div');\n",
              "          docLink.innerHTML = docLinkHtml;\n",
              "          element.appendChild(docLink);\n",
              "        }\n",
              "      </script>\n",
              "    </div>\n",
              "  </div>\n",
              "  "
            ]
          },
          "metadata": {}
        }
      ]
    },
    {
      "cell_type": "code",
      "source": [
        "# Get best hyperparameters\n",
        "best_num_topics = 0\n",
        "best_coherence = 0\n",
        "for idx, cv in enumerate(model_results['Coherence_Value']):\n",
        "  if cv > best_coherence: \n",
        "    \n",
        "    best_coherence = cv\n",
        "    best_num_topics = model_results['Topic_Number'].loc[idx]\n",
        "    print(f\"Num topics = {model_results['Topic_Number'].iloc[idx]}, has coherence value of {round(cv, 2)}\")"
      ],
      "metadata": {
        "colab": {
          "base_uri": "https://localhost:8080/"
        },
        "id": "reoi4CclXJCt",
        "outputId": "75f0b8d5-633f-4517-b56a-d5b44340a850"
      },
      "execution_count": null,
      "outputs": [
        {
          "output_type": "stream",
          "name": "stdout",
          "text": [
            "Num topics = 1, has coherence value of 0.31\n",
            "Num topics = 2, has coherence value of 0.32\n",
            "Num topics = 4, has coherence value of 0.32\n"
          ]
        }
      ]
    },
    {
      "cell_type": "code",
      "source": [
        "print(f\"Best number of topics is {best_num_topics}\")"
      ],
      "metadata": {
        "colab": {
          "base_uri": "https://localhost:8080/"
        },
        "id": "RYLBXwDjXOJo",
        "outputId": "2b5fc573-f906-40e1-8ad2-366489eaa322"
      },
      "execution_count": null,
      "outputs": [
        {
          "output_type": "stream",
          "name": "stdout",
          "text": [
            "Best number of topics is 4\n"
          ]
        }
      ]
    },
    {
      "cell_type": "markdown",
      "source": [
        "# Try LDA for Bollywood movies"
      ],
      "metadata": {
        "id": "EE61LeR4YNLM"
      }
    },
    {
      "cell_type": "code",
      "source": [
        "bolly_corpus = df['tokenized_text'].loc[df['country'] == 'India']\n",
        "bag_of_words_india = []\n",
        "for document in bolly_corpus:\n",
        "    bow = dictionary.doc2bow(document)\n",
        "    bag_of_words_india.append(bow)"
      ],
      "metadata": {
        "id": "UFPPWDB0fjpD"
      },
      "execution_count": null,
      "outputs": []
    },
    {
      "cell_type": "code",
      "source": [
        "!pip install pyLDAvis"
      ],
      "metadata": {
        "colab": {
          "base_uri": "https://localhost:8080/"
        },
        "id": "QBi1aTeOXdQ0",
        "outputId": "7f501771-bb22-4f21-9b62-9ba885aab657"
      },
      "execution_count": null,
      "outputs": [
        {
          "output_type": "stream",
          "name": "stdout",
          "text": [
            "Looking in indexes: https://pypi.org/simple, https://us-python.pkg.dev/colab-wheels/public/simple/\n",
            "Requirement already satisfied: pyLDAvis in /usr/local/lib/python3.7/dist-packages (3.3.1)\n",
            "Requirement already satisfied: scikit-learn in /usr/local/lib/python3.7/dist-packages (from pyLDAvis) (1.0.2)\n",
            "Requirement already satisfied: joblib in /usr/local/lib/python3.7/dist-packages (from pyLDAvis) (1.2.0)\n",
            "Requirement already satisfied: numexpr in /usr/local/lib/python3.7/dist-packages (from pyLDAvis) (2.8.4)\n",
            "Requirement already satisfied: setuptools in /usr/local/lib/python3.7/dist-packages (from pyLDAvis) (57.4.0)\n",
            "Requirement already satisfied: funcy in /usr/local/lib/python3.7/dist-packages (from pyLDAvis) (1.17)\n",
            "Requirement already satisfied: future in /usr/local/lib/python3.7/dist-packages (from pyLDAvis) (0.16.0)\n",
            "Requirement already satisfied: jinja2 in /usr/local/lib/python3.7/dist-packages (from pyLDAvis) (2.11.3)\n",
            "Requirement already satisfied: sklearn in /usr/local/lib/python3.7/dist-packages (from pyLDAvis) (0.0)\n",
            "Requirement already satisfied: pandas>=1.2.0 in /usr/local/lib/python3.7/dist-packages (from pyLDAvis) (1.3.5)\n",
            "Requirement already satisfied: scipy in /usr/local/lib/python3.7/dist-packages (from pyLDAvis) (1.7.3)\n",
            "Requirement already satisfied: gensim in /usr/local/lib/python3.7/dist-packages (from pyLDAvis) (3.6.0)\n",
            "Requirement already satisfied: numpy>=1.20.0 in /usr/local/lib/python3.7/dist-packages (from pyLDAvis) (1.21.6)\n",
            "Requirement already satisfied: pytz>=2017.3 in /usr/local/lib/python3.7/dist-packages (from pandas>=1.2.0->pyLDAvis) (2022.5)\n",
            "Requirement already satisfied: python-dateutil>=2.7.3 in /usr/local/lib/python3.7/dist-packages (from pandas>=1.2.0->pyLDAvis) (2.8.2)\n",
            "Requirement already satisfied: six>=1.5 in /usr/local/lib/python3.7/dist-packages (from python-dateutil>=2.7.3->pandas>=1.2.0->pyLDAvis) (1.15.0)\n",
            "Requirement already satisfied: smart-open>=1.2.1 in /usr/local/lib/python3.7/dist-packages (from gensim->pyLDAvis) (5.2.1)\n",
            "Requirement already satisfied: MarkupSafe>=0.23 in /usr/local/lib/python3.7/dist-packages (from jinja2->pyLDAvis) (2.0.1)\n",
            "Requirement already satisfied: threadpoolctl>=2.0.0 in /usr/local/lib/python3.7/dist-packages (from scikit-learn->pyLDAvis) (3.1.0)\n"
          ]
        }
      ]
    },
    {
      "cell_type": "code",
      "source": [
        "import pyLDAvis\n",
        "import pyLDAvis.gensim_models as gensimvis\n",
        "pyLDAvis.enable_notebook()\n",
        "vis = gensimvis.prepare(lda_model, bag_of_words_india, dictionary, mds='mmds', R=30)\n",
        "vis"
      ],
      "metadata": {
        "colab": {
          "base_uri": "https://localhost:8080/",
          "height": 881
        },
        "id": "k8vpHOf9Xfe0",
        "outputId": "826a6789-df05-4a16-bd8e-a1f9c674d948"
      },
      "execution_count": null,
      "outputs": [
        {
          "output_type": "execute_result",
          "data": {
            "text/plain": [
              "PreparedData(topic_coordinates=              x         y  topics  cluster       Freq\n",
              "topic                                                \n",
              "0     -0.067394  0.018224       1        1  29.981886\n",
              "2      0.021348  0.070725       2        1  24.572972\n",
              "1      0.068527 -0.026408       3        1  23.956434\n",
              "3     -0.022480 -0.062541       4        1  21.488707, topic_info=          Term        Freq        Total Category  logprob  loglift\n",
              "16382     raja  576.000000   576.000000  Default  30.0000  30.0000\n",
              "31452    surya  304.000000   304.000000  Default  29.0000  29.0000\n",
              "1462   charlie  105.000000   105.000000  Default  28.0000  28.0000\n",
              "31328    munna  106.000000   106.000000  Default  27.0000  27.0000\n",
              "5967       ram  347.000000   347.000000  Default  26.0000  26.0000\n",
              "...        ...         ...          ...      ...      ...      ...\n",
              "170       kill  179.957876  1079.473896   Topic4  -5.9617  -0.2539\n",
              "514       take  144.615342   639.662687   Topic4  -6.1803   0.0508\n",
              "1132     child  148.892761   730.873160   Topic4  -6.1511  -0.0534\n",
              "194      money  149.107217   773.735257   Topic4  -6.1497  -0.1089\n",
              "137        get  152.601042   938.053255   Topic4  -6.1265  -0.2783\n",
              "\n",
              "[365 rows x 6 columns], token_table=       Topic      Freq   Term\n",
              "term                         \n",
              "31107      1  0.103902  aadhi\n",
              "31107      2  0.872774  aadhi\n",
              "21498      3  0.951733   abel\n",
              "45059      3  0.967907    aby\n",
              "40701      4  0.940433   achu\n",
              "...      ...       ...    ...\n",
              "1212       1  0.331170   wife\n",
              "1212       2  0.248964   wife\n",
              "1212       3  0.177328   wife\n",
              "1212       4  0.241918   wife\n",
              "38227      4  0.958476   yuvi\n",
              "\n",
              "[612 rows x 3 columns], R=30, lambda_step=0.01, plot_opts={'xlab': 'PC1', 'ylab': 'PC2'}, topic_order=[1, 3, 2, 4])"
            ],
            "text/html": [
              "\n",
              "<link rel=\"stylesheet\" type=\"text/css\" href=\"https://cdn.jsdelivr.net/gh/bmabey/pyLDAvis@3.3.1/pyLDAvis/js/ldavis.v1.0.0.css\">\n",
              "\n",
              "\n",
              "<div id=\"ldavis_el731400644565973285362563507\"></div>\n",
              "<script type=\"text/javascript\">\n",
              "\n",
              "var ldavis_el731400644565973285362563507_data = {\"mdsDat\": {\"x\": [-0.06739447558106654, 0.021348097724809, 0.06852679121387703, -0.022480413357619494], \"y\": [0.018224145171156492, 0.07072546389048416, -0.026408372731704093, -0.06254123632993656], \"topics\": [1, 2, 3, 4], \"cluster\": [1, 1, 1, 1], \"Freq\": [29.981886088575305, 24.572972231267862, 23.95643438789564, 21.488707292261193]}, \"tinfo\": {\"Term\": [\"raja\", \"surya\", \"charlie\", \"munna\", \"ram\", \"friend\", \"satya\", \"vijay\", \"ravi\", \"velu\", \"jeeva\", \"anand\", \"ganesh\", \"singam\", \"suraj\", \"sandeep\", \"veerappan\", \"rama\", \"ajay\", \"anna\", \"selvam\", \"guru\", \"romeo\", \"jai\", \"ganesan\", \"gautham\", \"madhav\", \"ashok\", \"terrorist\", \"shekar\", \"ann\", \"sathyam\", \"siddhartha\", \"sivagiri\", \"muthupandi\", \"manmohan\", \"brishti\", \"amavasai\", \"azhar\", \"desingu\", \"rajiva\", \"kaalaiyan\", \"amavas\", \"narappa\", \"thyagu\", \"kichcha\", \"kranti\", \"manikam\", \"tanhaji\", \"lingam\", \"sivakasi\", \"veeru\", \"lajjo\", \"veeran\", \"padmanabham\", \"sathyamoorthy\", \"annaamalai\", \"udhayappan\", \"megh\", \"neerja\", \"shekar\", \"singam\", \"ramanathan\", \"akbar\", \"madan\", \"aruna\", \"antony\", \"raja\", \"sachin\", \"anand\", \"ravi\", \"meera\", \"renuka\", \"chandra\", \"vijay\", \"terrorist\", \"krishna\", \"mohan\", \"raj\", \"devi\", \"rao\", \"family\", \"son\", \"daughter\", \"police\", \"village\", \"life\", \"sister\", \"love\", \"house\", \"father\", \"find\", \"kill\", \"meet\", \"child\", \"wife\", \"day\", \"take\", \"help\", \"get\", \"man\", \"time\", \"fall\", \"friend\", \"end\", \"come\", \"film\", \"mother\", \"later\", \"stf\", \"agathiyar\", \"sahej\", \"bulla\", \"guna\", \"benny\", \"osthi\", \"pettai\", \"keioiba\", \"sibu\", \"tukaram\", \"thabaton\", \"keibu\", \"bama\", \"savi\", \"duraipandi\", \"murugavel\", \"sivagurunathan\", \"venkatesan\", \"ramakrishnan\", \"mynaa\", \"ramaraju\", \"breaker\", \"akhanda\", \"inayat\", \"gana\", \"hariya\", \"narathar\", \"gajendra\", \"ammi\", \"veerappan\", \"rakhi\", \"ganesan\", \"velu\", \"prabhakaran\", \"kalidasa\", \"karuppu\", \"maruti\", \"suraj\", \"aadhi\", \"jumbo\", \"velan\", \"dada\", \"guru\", \"dora\", \"ram\", \"father\", \"kumar\", \"gounder\", \"chakravarthy\", \"police\", \"god\", \"officer\", \"money\", \"shankar\", \"kill\", \"hanuman\", \"gang\", \"forest\", \"mother\", \"find\", \"day\", \"get\", \"life\", \"tell\", \"house\", \"killed\", \"come\", \"murder\", \"brother\", \"later\", \"love\", \"death\", \"wife\", \"try\", \"son\", \"friend\", \"home\", \"help\", \"time\", \"start\", \"village\", \"meet\", \"family\", \"film\", \"manya\", \"romeo\", \"bangarraju\", \"elango\", \"krishnanunni\", \"charlie\", \"stanley\", \"jhunku\", \"aby\", \"shashank\", \"karanvir\", \"goutham\", \"bukka\", \"shoaib\", \"rambabu\", \"bhooloham\", \"mahavir\", \"charlies\", \"aravi\", \"bhadra\", \"suru\", \"manda\", \"nallathambi\", \"veerapandi\", \"catherine\", \"sarasu\", \"abel\", \"gourav\", \"pazhani\", \"sriramachandramurthy\", \"anto\", \"ayyu\", \"kathir\", \"aishwarya\", \"selvam\", \"payal\", \"gautham\", \"jeeva\", \"anna\", \"charan\", \"madhav\", \"chandu\", \"muthu\", \"aravindan\", \"radhika\", \"friend\", \"ganesh\", \"surya\", \"rajiv\", \"david\", \"jai\", \"laila\", \"family\", \"pratap\", \"love\", \"story\", \"get\", \"father\", \"kill\", \"day\", \"life\", \"help\", \"girl\", \"find\", \"film\", \"come\", \"meet\", \"money\", \"brother\", \"job\", \"tell\", \"mother\", \"gang\", \"parent\", \"want\", \"police\", \"end\", \"house\", \"go\", \"son\", \"decides\", \"village\", \"try\", \"later\", \"child\", \"fall\", \"satakarni\", \"manik\", \"yuvi\", \"ammaiyar\", \"paramvir\", \"gajodhar\", \"jaidev\", \"susheel\", \"haribabu\", \"revanth\", \"kishtayya\", \"jiah\", \"shanmugi\", \"karnan\", \"gurumurthy\", \"thirumurthy\", \"kichu\", \"achu\", \"sambandham\", \"shirley\", \"vanaja\", \"kicha\", \"shaji\", \"mhatre\", \"balli\", \"parashuram\", \"kencha\", \"parasuram\", \"sandeeps\", \"anjanam\", \"akhil\", \"munna\", \"sudhir\", \"bikram\", \"afghan\", \"sandeep\", \"arya\", \"vk\", \"anjana\", \"sonu\", \"venu\", \"kakababu\", \"bala\", \"janaki\", \"rajesh\", \"aravind\", \"satya\", \"lakshmi\", \"john\", \"raju\", \"mahender\", \"film\", \"life\", \"love\", \"arun\", \"story\", \"brother\", \"son\", \"surya\", \"man\", \"time\", \"wife\", \"come\", \"later\", \"find\", \"house\", \"end\", \"daughter\", \"tell\", \"meet\", \"help\", \"friend\", \"mother\", \"day\", \"named\", \"fall\", \"village\", \"father\", \"police\", \"family\", \"kill\", \"take\", \"child\", \"money\", \"get\"], \"Freq\": [576.0, 304.0, 105.0, 106.0, 347.0, 1325.0, 151.0, 489.0, 456.0, 95.0, 97.0, 227.0, 140.0, 81.0, 102.0, 63.0, 60.0, 188.0, 193.0, 70.0, 69.0, 127.0, 51.0, 101.0, 58.0, 66.0, 77.0, 196.0, 205.0, 59.0, 50.73489501978973, 29.930641682230394, 29.041201081922605, 29.03517497701905, 26.36793696709057, 24.59074670739896, 24.57905481554042, 23.672503368399614, 29.78223891895822, 20.99449128437921, 21.860331059056026, 22.73253597796595, 21.83867793635174, 19.19980148841401, 44.501507995591055, 20.06808830427694, 20.06213029095422, 20.04858006636883, 20.047168584641188, 20.039915412708076, 21.769448658690923, 26.98961026292928, 20.003802759099383, 19.12770952720909, 20.86397390967201, 19.117189377970682, 19.103864706746798, 19.092205442104074, 17.34711468847592, 16.47567154412655, 57.175314495505354, 77.48042249978234, 36.27183470177991, 28.497498320433905, 41.83607157540539, 35.15476394675376, 51.81976980567957, 440.47336016587957, 47.267657538124304, 166.05431399997008, 305.53661489080037, 67.86026805671459, 27.885349334463946, 71.68192505375507, 277.40519109466044, 133.6942781996542, 214.07407425701504, 113.02490860942288, 146.50266770908118, 102.313138313963, 236.22957664467546, 481.9652373116314, 440.7777295321946, 328.21245044197843, 409.4031718326504, 308.78099713985324, 418.7356677181988, 237.66733037392407, 447.51230463710056, 339.9077695767531, 421.0366638120304, 351.27009818407004, 336.27106633614505, 284.55934652064764, 256.4039771852488, 281.9806956573804, 316.52861608717063, 233.1592591734205, 275.6366257685408, 286.25355584049976, 239.79156072391817, 257.61280701974323, 231.86806122331404, 319.8055234146671, 238.65763162833792, 264.99159657089217, 256.83903699237226, 243.67346174709897, 239.9591114071499, 41.84138705783581, 43.43927983802454, 28.064104903706934, 28.0022865293777, 29.61564959899326, 27.918807889602654, 30.428285090824552, 21.94348591505529, 22.76587375828537, 21.074477925617693, 21.9105130149993, 21.046062633749976, 19.307313019475092, 20.983462955159897, 21.818509787663942, 18.440496634995377, 19.269118635140135, 17.564122062526938, 18.390147853721587, 18.385370503709947, 17.547697233221893, 16.70670341962524, 15.86610607143476, 17.536070681721192, 15.864163274678992, 17.524761535076458, 15.850581137215872, 17.509522614024487, 17.508841298106546, 19.175453973595324, 57.450902113580966, 21.60746462482319, 54.23247733212135, 86.05496267146292, 33.835322766659466, 24.488751967106648, 23.646917553836495, 23.59094035898121, 84.61215413643176, 42.27914532431965, 26.257622488354404, 39.04106702020324, 38.93849293224345, 91.50562953361019, 27.210436986319362, 188.21697774235085, 472.19161022818395, 130.37639082743115, 32.837697213900505, 38.918088334359716, 370.9578311253885, 68.8917450324729, 184.56298513671013, 255.4324902906233, 141.7712391085863, 303.936305263595, 43.53348745952443, 164.2661142285624, 83.84036504533273, 242.05287805340384, 285.1071702168959, 269.5395153971739, 248.2517646614479, 303.51378708081825, 219.19189677853242, 253.8248823640006, 175.9482313441969, 243.8235925457196, 115.6393833531253, 220.61262416695345, 211.2292158016258, 296.26787835330936, 167.23730271766988, 212.34303943539308, 193.59999667724645, 240.45503643004173, 251.4993116291065, 178.6911487717602, 198.34939645907735, 190.69573991981818, 170.94317764672735, 185.7939113971925, 186.32843512650638, 207.12641970557556, 173.73918655906346, 39.075814910147024, 49.95008899890462, 28.735538754037407, 30.380051805257605, 31.217143369971986, 102.88465960861313, 22.70980838478135, 26.060296525760148, 21.004973579966126, 21.808931139248326, 20.10672601740391, 20.939537546386497, 20.9402153698419, 19.257522042247267, 41.83910391161671, 20.076371314835704, 20.89405083189575, 18.36237795898422, 19.198907315615187, 35.04459025978109, 29.160622472332367, 17.483053912455468, 16.63819684858893, 15.792104287119727, 16.619668918485125, 15.764717045765993, 19.082684396177786, 17.41778450102959, 15.757721182276413, 14.921143085831762, 22.31018498497359, 21.368973843391757, 25.268793689100033, 41.96858859431207, 60.41796825420462, 30.102572645507717, 57.438709737853095, 80.57063891365108, 59.351899311775206, 45.95858843017443, 62.987948353702976, 59.82456669003332, 45.474744899290386, 25.42173695746946, 43.26296389190533, 533.3975669578676, 89.11044368262696, 161.23117671341456, 27.84772377857145, 64.21674479872767, 66.38514963890286, 34.179819014830876, 395.7883245703719, 79.56335245349155, 402.9045368612924, 222.58956947127785, 250.94689180507072, 313.2981440382433, 259.3086489011783, 251.6496881808276, 289.5662526926555, 223.0327526627098, 179.23955400516644, 251.77569533449088, 220.02368805006503, 225.09524022033148, 209.88758410695786, 197.61940575409807, 207.06890854139957, 135.54225716520676, 183.8638243057154, 190.40538739240816, 139.8747414704638, 137.5997573930562, 157.26400071216435, 217.1471957306382, 172.7980639573214, 198.45143744606173, 159.9297012718001, 211.19965082343404, 165.61993623424686, 178.35414881676772, 167.76628347502037, 172.67332630578198, 165.74830103471155, 160.20824817351487, 30.514596537064605, 23.050144938397896, 22.18911506974466, 24.653792810518112, 22.144104652175315, 22.125512818073826, 18.84610483356858, 19.559587564257896, 16.267503051940263, 16.26342801797555, 17.061244023923653, 16.24472536084458, 15.430665138914875, 15.415940926869716, 13.780855916478796, 13.772543172542791, 17.82477199458582, 16.20463080884894, 15.389628082806137, 14.575804757811008, 13.760272318021798, 13.733233532278877, 36.357082945270704, 13.719658219530157, 12.909783854594647, 12.906597438315849, 12.895686961899843, 20.948149287384226, 12.878194207567777, 12.055124785048918, 21.54238847180366, 96.28891248184395, 26.950771923013107, 37.31206837497167, 18.341591634025917, 55.71902119498952, 32.393526780961864, 25.57202159653336, 17.953818803701953, 15.865025327346922, 42.19520353615034, 17.174230644290628, 39.9026024416823, 54.14699753854757, 49.74428529378783, 37.86526440293212, 84.55767867606187, 116.90145913421297, 54.90357110992864, 97.28949192928786, 20.536772168506168, 237.1947130055239, 298.425880542517, 319.56722182186013, 62.54713509218516, 204.7066389295404, 219.96807221881483, 268.99549722132684, 112.32949063841181, 189.9707304795079, 202.72966995683035, 205.76387029627418, 218.28520519839253, 185.57125548727902, 222.1747722480107, 205.11464662163226, 169.44038401326148, 181.80685135712, 175.1124896725307, 176.58867682659888, 178.21060541495802, 221.09457102914845, 174.60977200941062, 191.93227776679458, 120.89333312436642, 150.778322679732, 165.7252381778935, 203.7967757571633, 188.3743908269831, 192.58138756823192, 179.95787586638352, 144.6153421706214, 148.89276135511673, 149.1072171345851, 152.6010422630072], \"Total\": [576.0, 304.0, 105.0, 106.0, 347.0, 1325.0, 151.0, 489.0, 456.0, 95.0, 97.0, 227.0, 140.0, 81.0, 102.0, 63.0, 60.0, 188.0, 193.0, 70.0, 69.0, 127.0, 51.0, 101.0, 58.0, 66.0, 77.0, 196.0, 205.0, 59.0, 51.5655539866569, 30.743330312011032, 29.83691717185554, 29.839116149182747, 27.124720921090464, 25.31491105593413, 25.31495238214643, 24.409514043464767, 30.733981036322433, 21.694925852516477, 22.59805636219389, 23.500421163199547, 22.59729561095761, 19.8845423733466, 46.095797580985575, 20.78875473378655, 20.78802801976218, 20.7876325734146, 20.787289948674655, 20.787462362034546, 22.594655133823498, 28.01711274647905, 20.78425380992634, 19.881586936214173, 21.688686970505387, 19.881077313349273, 19.88125198440543, 19.879970856452456, 18.072252162987677, 17.168302124537767, 59.61722064403504, 81.31102182861247, 37.93034898522847, 29.813529386912624, 44.253901100328044, 37.03797091514766, 57.59799747166799, 576.0170380149088, 53.12082610006108, 227.03963633116905, 456.3148049034804, 86.07444138908048, 30.64717249568697, 94.823888196447, 489.5611174159559, 205.4173072335122, 365.3218129391179, 176.82114704413527, 258.3433122401068, 162.41508700763532, 482.3861028300713, 1277.4613691558109, 1161.427914006997, 822.5265727919024, 1185.8825895156601, 838.654295531707, 1310.2415880341896, 590.9505406775379, 1466.2519416735624, 997.2987360084476, 1410.3231938356207, 1110.3277359834674, 1079.473896367302, 857.3640425807108, 730.8731595772033, 851.5273570538495, 1029.6500974319667, 639.6626871073487, 875.229380305286, 938.0532545700255, 696.1829639136689, 807.968175328285, 682.8699363650992, 1325.7969730307898, 726.1489500124602, 952.1956345353358, 887.7966246070247, 850.7414992023216, 809.4329090018367, 42.70493796669611, 44.446142854110036, 28.75989136030438, 28.760016347068998, 30.505557893392158, 28.75815227205389, 31.38451594447966, 22.659067257772545, 23.532828541842264, 21.789008874525596, 22.660923017565413, 21.78929243783371, 20.046359953304872, 21.790022697620245, 22.66038433842887, 19.17589143432007, 20.04483172700162, 18.302570022770052, 19.175222199416574, 19.174514906891705, 18.30303533523514, 17.430752236285286, 16.55949731791179, 18.304740370666355, 16.559769115656042, 18.301289743761387, 16.558851903969625, 18.30255164671606, 18.30323881717502, 20.046172820254842, 60.20098079415917, 22.67134349137157, 58.4107133814029, 95.92296509301498, 36.59490277754072, 26.12373285073878, 25.270237506955414, 25.260000797036895, 102.84603304353288, 48.12244232401858, 28.75183835858884, 45.53330122257406, 45.414493388024226, 127.92682753782992, 30.545545891765236, 347.69305750479435, 1410.3231938356207, 258.4961773892851, 40.052801066595705, 50.91832069901112, 1185.8825895156601, 114.91788372857022, 473.7175244965095, 773.7352571837902, 329.9328424096861, 1079.473896367302, 61.45435489869743, 450.2153558115237, 165.6032897544468, 850.7414992023216, 1110.3277359834674, 1029.6500974319667, 938.0532545700255, 1310.2415880341896, 775.8302847720425, 997.2987360084476, 553.5940942747372, 952.1956345353358, 281.93099085156825, 849.6525172204142, 809.4329090018367, 1466.2519416735624, 554.9706394271269, 851.5273570538495, 729.7023642482708, 1161.427914006997, 1325.7969730307898, 661.3785981466114, 875.229380305286, 807.968175328285, 625.6408260332573, 838.654295531707, 857.3640425807108, 1277.4613691558109, 887.7966246070247, 39.915516069571105, 51.18718104985085, 29.504779777611414, 31.239943366070392, 32.11366565005237, 105.84039291303291, 23.432291619461914, 26.904478304122595, 21.696308335617562, 22.564080450872027, 20.829065949564242, 21.696689092457, 21.69773641248596, 19.961561522399986, 43.36995497119903, 20.829474491425604, 21.696418858559618, 19.093473847121444, 19.964821589075527, 36.47327516403263, 30.36989863471616, 18.22709683733329, 17.35918968546419, 16.491234483995463, 17.359893245689243, 16.49145476093146, 19.96357467969763, 18.22553856366336, 16.491860078621873, 15.622933546405132, 23.433181028731898, 22.561575095272254, 26.884222730370933, 46.98428130326417, 69.55688765420408, 32.95365812047151, 66.79257315730582, 97.24415815085993, 70.07970460635521, 53.92976378233567, 77.38956019945084, 75.48512970581574, 54.79227637341663, 27.74270707638453, 54.17950036552446, 1325.7969730307898, 140.01424572615704, 304.59311965327777, 31.320603392612437, 96.30167104526703, 101.0672777276059, 41.744376428176494, 1277.4613691558109, 134.97652084111172, 1466.2519416735624, 757.9008943086077, 938.0532545700255, 1410.3231938356207, 1079.473896367302, 1029.6500974319667, 1310.2415880341896, 875.229380305286, 617.0545926078213, 1110.3277359834674, 887.7966246070247, 952.1956345353358, 857.3640425807108, 773.7352571837902, 849.6525172204142, 402.0771899454089, 775.8302847720425, 850.7414992023216, 450.2153558115237, 437.10067417193585, 586.6442740997941, 1185.8825895156601, 726.1489500124602, 997.2987360084476, 612.8432936880363, 1161.427914006997, 670.010965367283, 838.654295531707, 729.7023642482708, 809.4329090018367, 730.8731595772033, 682.8699363650992, 31.454910891858578, 23.802005912232193, 22.953095042904724, 25.503491365099734, 22.954553513860823, 22.95574888495896, 19.554240912151606, 20.412633649937472, 17.009201595338038, 17.009771867120268, 17.858687695838753, 17.009208901266156, 16.160071234220045, 16.16012732122938, 14.458852277261741, 14.459247762927461, 18.713918302578723, 17.0134454089434, 16.16095937780317, 15.310522014962556, 14.459369836365898, 14.461129920705348, 38.30755524881616, 14.46161762455591, 13.610552213305366, 13.611550872303965, 13.611025772902773, 22.1197859716733, 13.61237107481382, 12.761617614961276, 22.996560853394065, 106.44741859073284, 28.926832705575737, 40.849828153181946, 19.567332384506674, 63.028949589031846, 35.752389341148564, 28.084886212030405, 19.61111969335064, 17.016167637930792, 55.85502805603281, 18.726761466199303, 53.30249214286782, 81.79708498460217, 74.83915524823546, 52.43890288864228, 151.3836054564787, 260.052844857831, 94.79369190152225, 234.89613308682954, 23.855861276276354, 887.7966246070247, 1310.2415880341896, 1466.2519416735624, 124.77342213209799, 757.9008943086077, 849.6525172204142, 1161.427914006997, 304.59311965327777, 696.1829639136689, 807.968175328285, 851.5273570538495, 952.1956345353358, 809.4329090018367, 1110.3277359834674, 997.2987360084476, 726.1489500124602, 822.5265727919024, 775.8302847720425, 857.3640425807108, 875.229380305286, 1325.7969730307898, 850.7414992023216, 1029.6500974319667, 422.3599188275549, 682.8699363650992, 838.654295531707, 1410.3231938356207, 1185.8825895156601, 1277.4613691558109, 1079.473896367302, 639.6626871073487, 730.8731595772033, 773.7352571837902, 938.0532545700255], \"Category\": [\"Default\", \"Default\", \"Default\", \"Default\", \"Default\", \"Default\", \"Default\", \"Default\", \"Default\", \"Default\", \"Default\", \"Default\", \"Default\", \"Default\", \"Default\", \"Default\", \"Default\", \"Default\", \"Default\", \"Default\", \"Default\", \"Default\", \"Default\", \"Default\", \"Default\", \"Default\", \"Default\", \"Default\", \"Default\", \"Default\", \"Topic1\", \"Topic1\", \"Topic1\", \"Topic1\", \"Topic1\", \"Topic1\", \"Topic1\", \"Topic1\", \"Topic1\", \"Topic1\", \"Topic1\", \"Topic1\", \"Topic1\", \"Topic1\", \"Topic1\", \"Topic1\", \"Topic1\", \"Topic1\", \"Topic1\", \"Topic1\", \"Topic1\", \"Topic1\", \"Topic1\", \"Topic1\", \"Topic1\", \"Topic1\", \"Topic1\", \"Topic1\", \"Topic1\", \"Topic1\", \"Topic1\", \"Topic1\", \"Topic1\", \"Topic1\", \"Topic1\", \"Topic1\", \"Topic1\", \"Topic1\", \"Topic1\", \"Topic1\", \"Topic1\", \"Topic1\", \"Topic1\", \"Topic1\", \"Topic1\", \"Topic1\", \"Topic1\", \"Topic1\", \"Topic1\", \"Topic1\", \"Topic1\", \"Topic1\", \"Topic1\", \"Topic1\", \"Topic1\", \"Topic1\", \"Topic1\", \"Topic1\", \"Topic1\", \"Topic1\", \"Topic1\", \"Topic1\", \"Topic1\", \"Topic1\", \"Topic1\", \"Topic1\", \"Topic1\", \"Topic1\", \"Topic1\", \"Topic1\", \"Topic1\", \"Topic1\", \"Topic1\", \"Topic1\", \"Topic1\", \"Topic1\", \"Topic1\", \"Topic1\", \"Topic1\", \"Topic2\", \"Topic2\", \"Topic2\", \"Topic2\", \"Topic2\", \"Topic2\", \"Topic2\", \"Topic2\", \"Topic2\", \"Topic2\", \"Topic2\", \"Topic2\", \"Topic2\", \"Topic2\", \"Topic2\", \"Topic2\", \"Topic2\", \"Topic2\", \"Topic2\", \"Topic2\", \"Topic2\", \"Topic2\", \"Topic2\", \"Topic2\", \"Topic2\", \"Topic2\", \"Topic2\", \"Topic2\", \"Topic2\", \"Topic2\", \"Topic2\", \"Topic2\", \"Topic2\", \"Topic2\", \"Topic2\", \"Topic2\", \"Topic2\", \"Topic2\", \"Topic2\", \"Topic2\", \"Topic2\", \"Topic2\", \"Topic2\", \"Topic2\", \"Topic2\", \"Topic2\", \"Topic2\", \"Topic2\", \"Topic2\", \"Topic2\", \"Topic2\", \"Topic2\", \"Topic2\", \"Topic2\", \"Topic2\", \"Topic2\", \"Topic2\", \"Topic2\", \"Topic2\", \"Topic2\", \"Topic2\", \"Topic2\", \"Topic2\", \"Topic2\", \"Topic2\", \"Topic2\", \"Topic2\", \"Topic2\", \"Topic2\", \"Topic2\", \"Topic2\", \"Topic2\", \"Topic2\", \"Topic2\", \"Topic2\", \"Topic2\", \"Topic2\", \"Topic2\", \"Topic2\", \"Topic2\", \"Topic2\", \"Topic2\", \"Topic2\", \"Topic2\", \"Topic2\", \"Topic3\", \"Topic3\", \"Topic3\", \"Topic3\", \"Topic3\", \"Topic3\", \"Topic3\", \"Topic3\", \"Topic3\", \"Topic3\", \"Topic3\", \"Topic3\", \"Topic3\", \"Topic3\", \"Topic3\", \"Topic3\", \"Topic3\", \"Topic3\", \"Topic3\", \"Topic3\", \"Topic3\", \"Topic3\", \"Topic3\", \"Topic3\", \"Topic3\", \"Topic3\", \"Topic3\", \"Topic3\", \"Topic3\", \"Topic3\", \"Topic3\", \"Topic3\", \"Topic3\", \"Topic3\", \"Topic3\", \"Topic3\", \"Topic3\", \"Topic3\", \"Topic3\", \"Topic3\", \"Topic3\", \"Topic3\", \"Topic3\", \"Topic3\", \"Topic3\", \"Topic3\", \"Topic3\", \"Topic3\", \"Topic3\", \"Topic3\", \"Topic3\", \"Topic3\", \"Topic3\", \"Topic3\", \"Topic3\", \"Topic3\", \"Topic3\", \"Topic3\", \"Topic3\", \"Topic3\", \"Topic3\", \"Topic3\", \"Topic3\", \"Topic3\", \"Topic3\", \"Topic3\", \"Topic3\", \"Topic3\", \"Topic3\", \"Topic3\", \"Topic3\", \"Topic3\", \"Topic3\", \"Topic3\", \"Topic3\", \"Topic3\", \"Topic3\", \"Topic3\", \"Topic3\", \"Topic3\", \"Topic3\", \"Topic3\", \"Topic3\", \"Topic3\", \"Topic3\", \"Topic3\", \"Topic4\", \"Topic4\", \"Topic4\", \"Topic4\", \"Topic4\", \"Topic4\", \"Topic4\", \"Topic4\", \"Topic4\", \"Topic4\", \"Topic4\", \"Topic4\", \"Topic4\", \"Topic4\", \"Topic4\", \"Topic4\", \"Topic4\", \"Topic4\", \"Topic4\", \"Topic4\", \"Topic4\", \"Topic4\", \"Topic4\", \"Topic4\", \"Topic4\", \"Topic4\", \"Topic4\", \"Topic4\", \"Topic4\", \"Topic4\", \"Topic4\", \"Topic4\", \"Topic4\", \"Topic4\", \"Topic4\", \"Topic4\", \"Topic4\", \"Topic4\", \"Topic4\", \"Topic4\", \"Topic4\", \"Topic4\", \"Topic4\", \"Topic4\", \"Topic4\", \"Topic4\", \"Topic4\", \"Topic4\", \"Topic4\", \"Topic4\", \"Topic4\", \"Topic4\", \"Topic4\", \"Topic4\", \"Topic4\", \"Topic4\", \"Topic4\", \"Topic4\", \"Topic4\", \"Topic4\", \"Topic4\", \"Topic4\", \"Topic4\", \"Topic4\", \"Topic4\", \"Topic4\", \"Topic4\", \"Topic4\", \"Topic4\", \"Topic4\", \"Topic4\", \"Topic4\", \"Topic4\", \"Topic4\", \"Topic4\", \"Topic4\", \"Topic4\", \"Topic4\", \"Topic4\", \"Topic4\", \"Topic4\", \"Topic4\", \"Topic4\", \"Topic4\", \"Topic4\"], \"logprob\": [30.0, 29.0, 28.0, 27.0, 26.0, 25.0, 24.0, 23.0, 22.0, 21.0, 20.0, 19.0, 18.0, 17.0, 16.0, 15.0, 14.0, 13.0, 12.0, 11.0, 10.0, 9.0, 8.0, 7.0, 6.0, 5.0, 4.0, 3.0, 2.0, 1.0, -7.5608, -8.0886, -8.1187, -8.1189, -8.2153, -8.2851, -8.2855, -8.3231, -8.0935, -8.4432, -8.4028, -8.3636, -8.4038, -8.5325, -7.6919, -8.4883, -8.4886, -8.4893, -8.4894, -8.4897, -8.4069, -8.192, -8.4915, -8.5363, -8.4494, -8.5369, -8.5375, -8.5382, -8.634, -8.6856, -7.4413, -7.1374, -7.8964, -8.1376, -7.7537, -7.9277, -7.5397, -5.3996, -7.6316, -6.3751, -5.7654, -7.27, -8.1593, -7.2152, -5.862, -6.5919, -6.1211, -6.7598, -6.5004, -6.8594, -6.0226, -5.3096, -5.3989, -5.6938, -5.4727, -5.7548, -5.4502, -6.0166, -5.3837, -5.6588, -5.4447, -5.6259, -5.6695, -5.8365, -5.9407, -5.8456, -5.73, -6.0357, -5.8684, -5.8306, -6.0077, -5.936, -6.0413, -5.7197, -6.0124, -5.9077, -5.939, -5.9916, -6.007, -7.5546, -7.5171, -7.954, -7.9562, -7.9002, -7.9592, -7.8731, -8.2, -8.1632, -8.2404, -8.2015, -8.2418, -8.328, -8.2448, -8.2057, -8.3739, -8.33, -8.4226, -8.3767, -8.3769, -8.4236, -8.4727, -8.5243, -8.4242, -8.5244, -8.4249, -8.5253, -8.4257, -8.4258, -8.3349, -7.2376, -8.2155, -7.2952, -6.8335, -7.767, -8.0903, -8.1253, -8.1276, -6.8504, -7.5442, -8.0205, -7.6239, -7.6265, -6.7721, -7.9849, -6.0509, -5.1311, -6.4181, -7.7969, -7.627, -5.3724, -7.056, -6.0705, -5.7455, -6.3343, -5.5717, -7.515, -6.187, -6.8596, -5.7993, -5.6356, -5.6918, -5.7741, -5.5731, -5.8985, -5.7518, -6.1183, -5.792, -6.538, -5.8921, -5.9356, -5.5972, -6.1691, -5.9303, -6.0227, -5.806, -5.7611, -6.1028, -5.9985, -6.0378, -6.1472, -6.0639, -6.061, -5.9552, -6.1309, -7.5976, -7.3521, -7.9049, -7.8493, -7.8221, -6.6295, -8.1403, -8.0027, -8.2183, -8.1808, -8.262, -8.2214, -8.2214, -8.3052, -7.5293, -8.2635, -8.2236, -8.3528, -8.3082, -7.7065, -7.8903, -8.4019, -8.4514, -8.5036, -8.4525, -8.5053, -8.3143, -8.4056, -8.5058, -8.5603, -8.158, -8.2011, -8.0335, -7.5262, -7.1618, -7.8585, -7.2124, -6.8739, -7.1796, -7.4353, -7.1201, -7.1717, -7.4459, -8.0275, -7.4958, -4.9838, -6.7732, -6.1802, -7.9363, -7.1008, -7.0676, -7.7314, -5.2822, -6.8865, -5.2644, -5.8578, -5.7378, -5.5159, -5.7051, -5.735, -5.5947, -5.8558, -6.0744, -5.7345, -5.8693, -5.8466, -5.9165, -5.9767, -5.93, -6.3538, -6.0489, -6.0139, -6.3223, -6.3387, -6.2052, -5.8825, -6.111, -5.9725, -6.1883, -5.9103, -6.1534, -6.0793, -6.1405, -6.1117, -6.1526, -6.1866, -7.7362, -8.0167, -8.0548, -7.9494, -8.0568, -8.0576, -8.2181, -8.1809, -8.3652, -8.3655, -8.3176, -8.3666, -8.418, -8.419, -8.5311, -8.5317, -8.2738, -8.3691, -8.4207, -8.475, -8.5326, -8.5346, -7.561, -8.5355, -8.5964, -8.5966, -8.5975, -8.1123, -8.5988, -8.6649, -8.0844, -6.587, -7.8604, -7.5351, -8.2452, -7.1341, -7.6764, -7.9129, -8.2666, -8.3903, -7.4121, -8.311, -7.4679, -7.1627, -7.2475, -7.5203, -6.7169, -6.393, -7.1488, -6.5767, -8.1322, -5.6855, -5.4559, -5.3874, -7.0185, -5.8328, -5.7609, -5.5597, -6.4329, -5.9075, -5.8425, -5.8276, -5.7686, -5.9309, -5.7509, -5.8308, -6.0219, -5.9514, -5.9889, -5.9806, -5.9714, -5.7558, -5.9918, -5.8972, -6.3595, -6.1386, -6.044, -5.8373, -5.9159, -5.8939, -5.9617, -6.1803, -6.1511, -6.1497, -6.1265], \"loglift\": [30.0, 29.0, 28.0, 27.0, 26.0, 25.0, 24.0, 23.0, 22.0, 21.0, 20.0, 19.0, 18.0, 17.0, 16.0, 15.0, 14.0, 13.0, 12.0, 11.0, 10.0, 9.0, 8.0, 7.0, 6.0, 5.0, 4.0, 3.0, 2.0, 1.0, 1.1883, 1.1778, 1.1775, 1.1773, 1.1763, 1.1756, 1.1751, 1.1739, 1.1731, 1.1718, 1.1714, 1.1714, 1.1704, 1.1695, 1.1694, 1.1693, 1.169, 1.1684, 1.1683, 1.168, 1.1674, 1.1672, 1.1663, 1.1659, 1.1658, 1.1654, 1.1647, 1.1641, 1.1636, 1.1634, 1.1628, 1.1563, 1.1599, 1.1594, 1.1484, 1.1524, 1.0989, 0.9363, 1.0878, 0.8918, 0.8035, 0.9668, 1.1101, 0.9248, 0.6365, 0.7751, 0.6701, 0.757, 0.6373, 0.7425, 0.4906, 0.2298, 0.2357, 0.2859, 0.141, 0.2054, 0.0638, 0.2937, 0.0178, 0.1282, -0.0043, 0.0537, 0.0383, 0.1017, 0.1571, 0.0994, 0.025, 0.1954, 0.0492, 0.0176, 0.1387, 0.0615, 0.1244, -0.2175, 0.0919, -0.0745, -0.0357, -0.0457, -0.0113, 1.3831, 1.3806, 1.379, 1.3768, 1.3739, 1.3739, 1.3726, 1.3714, 1.3704, 1.3702, 1.3698, 1.3688, 1.366, 1.3658, 1.3657, 1.3644, 1.3641, 1.3623, 1.3617, 1.3615, 1.3614, 1.3611, 1.3607, 1.3606, 1.3606, 1.3602, 1.3598, 1.3592, 1.3592, 1.3591, 1.3568, 1.3555, 1.3293, 1.295, 1.3251, 1.3389, 1.3371, 1.3352, 1.2084, 1.2741, 1.3128, 1.2497, 1.2497, 1.0685, 1.2879, 0.7898, 0.3093, 0.7191, 1.2049, 1.1348, 0.2414, 0.8918, 0.4609, 0.2953, 0.5588, 0.1361, 1.0588, 0.3953, 0.7228, 0.1466, 0.044, 0.0633, 0.0742, -0.059, 0.1395, 0.0351, 0.2573, 0.0412, 0.5123, 0.0551, 0.0601, -0.1957, 0.204, 0.0147, 0.0767, -0.1713, -0.2588, 0.0949, -0.0809, -0.0403, 0.1061, -0.1036, -0.1228, -0.4158, -0.2277, 1.4077, 1.4045, 1.4025, 1.401, 1.4006, 1.4006, 1.3976, 1.3971, 1.3966, 1.3949, 1.3936, 1.3934, 1.3934, 1.393, 1.393, 1.3921, 1.3913, 1.3899, 1.3898, 1.389, 1.3883, 1.3873, 1.3865, 1.3856, 1.3854, 1.3839, 1.3838, 1.3836, 1.3834, 1.383, 1.3798, 1.3746, 1.367, 1.316, 1.2881, 1.3384, 1.2781, 1.2408, 1.2628, 1.269, 1.223, 1.1964, 1.2425, 1.3416, 1.2039, 0.5184, 0.9771, 0.7928, 1.3114, 1.0237, 1.0086, 1.229, 0.2572, 0.9004, 0.1372, 0.2037, 0.1104, -0.0755, 0.0027, 0.02, -0.0806, 0.0618, 0.1927, -0.0549, 0.0339, -0.0133, 0.0216, 0.064, 0.0172, 0.3416, -0.0108, -0.068, 0.26, 0.2731, 0.1124, -0.2687, -0.0067, -0.1856, 0.0856, -0.2757, 0.0313, -0.1191, -0.0411, -0.116, -0.0548, -0.0209, 1.5073, 1.5055, 1.5038, 1.5038, 1.5017, 1.5008, 1.5008, 1.495, 1.4931, 1.4928, 1.492, 1.4917, 1.4915, 1.4905, 1.4896, 1.489, 1.489, 1.4889, 1.4887, 1.4885, 1.4881, 1.486, 1.4854, 1.485, 1.4848, 1.4845, 1.4837, 1.4832, 1.4822, 1.4807, 1.4723, 1.4373, 1.4669, 1.4471, 1.473, 1.4144, 1.439, 1.4439, 1.4493, 1.4676, 1.2572, 1.4511, 1.2481, 1.1251, 1.1292, 1.212, 0.9553, 0.7381, 0.9915, 0.6562, 1.3878, 0.2178, 0.0582, 0.0141, 0.8471, 0.2287, 0.1863, 0.0749, 0.5401, 0.2389, 0.155, 0.1173, 0.0647, 0.0647, -0.0713, -0.0438, 0.0824, 0.0282, 0.0491, -0.0424, -0.0539, -0.2535, -0.0459, -0.1422, 0.2867, 0.0271, -0.0838, -0.3968, -0.3022, -0.3545, -0.2539, 0.0508, -0.0534, -0.1089, -0.2783]}, \"token.table\": {\"Topic\": [1, 2, 3, 3, 4, 2, 4, 2, 1, 2, 3, 1, 2, 3, 4, 1, 3, 2, 1, 4, 1, 1, 4, 2, 1, 2, 3, 4, 1, 4, 4, 1, 3, 4, 1, 2, 3, 1, 2, 4, 3, 1, 2, 3, 4, 2, 3, 4, 1, 2, 3, 4, 1, 2, 2, 3, 4, 1, 2, 3, 4, 3, 4, 1, 1, 2, 3, 4, 4, 2, 3, 2, 1, 3, 3, 3, 4, 2, 1, 1, 2, 3, 4, 3, 2, 3, 1, 2, 3, 1, 2, 3, 4, 1, 2, 3, 4, 1, 2, 3, 4, 2, 3, 4, 3, 1, 2, 3, 4, 1, 2, 3, 4, 1, 2, 3, 4, 1, 2, 3, 4, 1, 2, 3, 4, 1, 2, 3, 4, 1, 2, 3, 4, 1, 2, 3, 4, 1, 1, 2, 3, 4, 1, 2, 3, 2, 3, 1, 2, 3, 4, 1, 2, 3, 4, 1, 2, 3, 4, 1, 2, 3, 4, 1, 2, 3, 4, 1, 2, 3, 4, 1, 2, 3, 4, 1, 2, 3, 4, 2, 4, 2, 1, 2, 3, 4, 1, 2, 3, 4, 1, 2, 3, 4, 1, 2, 3, 4, 1, 2, 3, 4, 1, 2, 3, 4, 1, 2, 3, 4, 1, 2, 3, 4, 1, 2, 4, 3, 3, 2, 1, 2, 3, 4, 4, 1, 2, 4, 4, 2, 1, 2, 3, 4, 1, 2, 3, 4, 1, 2, 3, 4, 2, 1, 2, 3, 4, 4, 1, 2, 3, 4, 2, 3, 4, 3, 4, 1, 2, 3, 4, 1, 2, 3, 4, 2, 3, 1, 2, 4, 2, 4, 3, 4, 2, 3, 3, 4, 2, 2, 4, 4, 1, 4, 1, 2, 3, 4, 1, 2, 3, 4, 4, 1, 1, 2, 3, 4, 3, 1, 2, 3, 4, 1, 2, 3, 4, 1, 1, 2, 3, 4, 1, 2, 3, 4, 1, 2, 3, 4, 1, 1, 2, 3, 4, 1, 2, 3, 1, 2, 3, 4, 3, 3, 4, 1, 2, 3, 4, 3, 4, 1, 1, 3, 2, 4, 1, 2, 3, 4, 1, 2, 3, 4, 1, 4, 1, 2, 3, 4, 1, 2, 3, 4, 1, 2, 3, 4, 1, 2, 3, 4, 1, 2, 3, 4, 2, 1, 2, 3, 1, 2, 3, 1, 2, 3, 4, 1, 2, 1, 1, 2, 3, 4, 1, 2, 1, 4, 4, 4, 1, 2, 3, 4, 2, 3, 4, 3, 2, 1, 2, 3, 4, 2, 3, 1, 2, 3, 4, 1, 3, 4, 1, 2, 3, 4, 1, 2, 3, 4, 1, 2, 3, 4, 1, 2, 3, 1, 1, 2, 3, 4, 1, 2, 1, 2, 3, 4, 1, 2, 3, 4, 2, 1, 4, 2, 3, 4, 1, 2, 3, 4, 1, 2, 3, 4, 1, 2, 3, 4, 4, 3, 4, 1, 2, 3, 4, 2, 4, 2, 3, 4, 4, 3, 4, 1, 1, 1, 2, 3, 4, 2, 1, 2, 3, 1, 4, 1, 2, 3, 4, 4, 3, 1, 3, 4, 4, 3, 2, 1, 1, 3, 1, 2, 3, 4, 1, 2, 1, 1, 2, 3, 4, 3, 4, 3, 3, 1, 2, 3, 4, 2, 1, 2, 3, 4, 2, 4, 1, 2, 3, 4, 3, 4, 1, 2, 3, 4, 4, 1, 2, 3, 4, 1, 1, 2, 3, 4, 1, 2, 3, 4, 2, 4, 1, 3, 1, 2, 3, 4, 1, 2, 3, 4, 2, 1, 4, 1, 3, 1, 2, 1, 1, 2, 1, 2, 3, 4, 2, 1, 2, 3, 4, 1, 2, 3, 4, 1, 2, 3, 4, 3, 4, 1, 2, 3, 4, 1, 2, 3, 4, 4], \"Freq\": [0.10390162590530927, 0.8727736576045979, 0.9517333596233366, 0.9679065984476966, 0.9404326763578019, 0.05110558661495399, 0.9199005590691718, 0.967463029157404, 0.06385114163258637, 0.04256742775505758, 0.8939159828562091, 0.5569718753537315, 0.046414322946144296, 0.046414322946144296, 0.35584314258710625, 0.939170925945161, 0.033541818783755756, 0.9833518332139413, 0.04348476306414356, 0.9566647874111583, 0.973567827706428, 0.983223179177776, 0.9802579435932157, 0.9478118427075627, 0.7311498674084634, 0.1541581045740736, 0.03083162091481472, 0.08368582819735425, 0.05099147910147429, 0.9178466238265371, 0.9403196649562371, 0.9890323298610688, 0.8418985258486601, 0.14269466539807799, 0.955674220864125, 0.04267453056304561, 0.9388396723870035, 0.9028091649467224, 0.01736171471051389, 0.06944685884205556, 0.9516739188090985, 0.1525584930140237, 0.03813962325350592, 0.07627924650701184, 0.7246528418166125, 0.03604550908628638, 0.9011377271571595, 0.07209101817257275, 0.22440676485058106, 0.048087163896553084, 0.22440676485058106, 0.5049152209138074, 0.9449761727008058, 0.026999319220023025, 0.027970158594381497, 0.055940317188762995, 0.8950450750202079, 0.47793440756280275, 0.43217473024295994, 0.04067526872874917, 0.05084408591093646, 0.9307860781581921, 0.044323146578961525, 0.9761182570050072, 0.16884763991666854, 0.056282546638889513, 0.037521697759259676, 0.7504339551851935, 0.9551412607117803, 0.9637438331945141, 0.9828915931108069, 0.9736369616211179, 0.027417334898022252, 0.9596067214307787, 0.9601778483769692, 0.07343972142919085, 0.9057565642933538, 0.9662129044637965, 0.9875586421261233, 0.23774424945015232, 0.2601063323192261, 0.24362900809990856, 0.2589293805892748, 0.9678428938751211, 0.9735738555257653, 0.9792686947669675, 0.1963929654929529, 0.7659325654225163, 0.01963929654929529, 0.7593023379386988, 0.031637597414112456, 0.1476421212658581, 0.07382106063292905, 0.03974292700683888, 0.0662382116780648, 0.7948585401367776, 0.09273349634929072, 0.05562790914694549, 0.07417054552926065, 0.8529612735864975, 0.018542636382315163, 0.009448188659141519, 0.9731634318915765, 0.009448188659141519, 0.9427304923202177, 0.350265975218041, 0.21891623451127562, 0.22712559330544846, 0.20386574338862543, 0.27830415346245313, 0.25624986205599454, 0.236295979354913, 0.2289445488860935, 0.08807760918576706, 0.8587566895612289, 0.022019402296441764, 0.022019402296441764, 0.39877131128623533, 0.19816988945017183, 0.18236492894187592, 0.22126944711614277, 0.2180647518580322, 0.09345632222487095, 0.6645782913768601, 0.020768071605526878, 0.3078715777239515, 0.2622250031087284, 0.2447433362348132, 0.18647111332176244, 0.3171338941131687, 0.3009168199823817, 0.19280299244380145, 0.18919919819251543, 0.34029293815365574, 0.21044431701607658, 0.2477571391820476, 0.20298175258288237, 0.9679682771335275, 0.6280204744477024, 0.06157063474977474, 0.12314126949954948, 0.1908689677243017, 0.06547599466995217, 0.8839259280443543, 0.06547599466995217, 0.9386786560433108, 0.960309039246944, 0.3291335751375788, 0.19968354976966077, 0.23824313179414697, 0.23273462007636322, 0.33974258880824454, 0.205017079453251, 0.2343052336608583, 0.22112556426743502, 0.3773108225718964, 0.16204012504643683, 0.3099898044366618, 0.1510808895360498, 0.2985131364499628, 0.3346750603429512, 0.22193494467657568, 0.14464769557195348, 0.2894807131236377, 0.19599083300977807, 0.24780450150661595, 0.26695303116849084, 0.31612287852028076, 0.2566809697386895, 0.22696001534789387, 0.199940965901716, 0.14492465720691125, 0.5072363002241894, 0.18115582150863907, 0.16907876674139646, 0.2413642559980173, 0.18932008829844482, 0.4020223388966976, 0.1666921892986307, 0.9834325050225278, 0.9583655976658123, 0.9835372398350181, 0.0171201470091681, 0.9244879384950774, 0.0342402940183362, 0.0171201470091681, 0.03571065197022245, 0.29996947654986855, 0.6356496050699596, 0.02856852157617796, 0.20434665058051574, 0.3642701162522237, 0.3109622943616544, 0.11994259925378098, 0.02994344888150545, 0.044915173322258174, 0.8533882931229053, 0.0598868977630109, 0.30488674135147426, 0.26437731417890076, 0.26757542685041974, 0.16310374624746699, 0.30629380651919386, 0.18150744090026302, 0.2900877850102418, 0.22202249467264315, 0.30023988496750026, 0.23170686774665783, 0.2610781608413046, 0.2072307901677855, 0.23495037607699537, 0.6004287388634326, 0.1044223893675535, 0.060913060464406206, 0.04993408567542141, 0.8239124136444532, 0.12483521418855352, 0.9327570727535733, 0.9678896125815248, 0.9834273513318809, 0.0703527178248719, 0.7191611155431349, 0.0703527178248719, 0.1407054356497438, 0.9682649584861351, 0.016272239805436402, 0.7159785514392017, 0.27662807669241885, 0.9406673152951139, 0.966250564519171, 0.31534590384035016, 0.22622640927677296, 0.2547903498420221, 0.20337525682457366, 0.2797187579374772, 0.27064679822058607, 0.24040693249761555, 0.21016706677464506, 0.3409209173981346, 0.2546879794680182, 0.19853629895538427, 0.2055552590194635, 0.9661970458798956, 0.30672637768626215, 0.029683197840606017, 0.6530303524933324, 0.009894399280202006, 0.9716562297334087, 0.1467044944481693, 0.11002837083612697, 0.07335224722408465, 0.6601702250167618, 0.16453430523999565, 0.8329549202774781, 0.010283394077499728, 0.9663818679589858, 0.9406669112523492, 0.27606639415449247, 0.164147585713482, 0.33824350995505387, 0.22135053224999848, 0.13713992713254836, 0.03164767549212654, 0.25318140393701233, 0.58020738402232, 0.9042900031549878, 0.0695607694734606, 0.9787058640471014, 0.05339951607783016, 0.9077917733231128, 0.9187048473174567, 0.03827936863822737, 0.9601966813311863, 0.9282105086074828, 0.9497338516661827, 0.03957224381942428, 0.9299134384777158, 0.037196537539108634, 0.9478029948707787, 0.9773580748742178, 0.9551080291009939, 0.9681124557186154, 0.9620585867750586, 0.961850944786889, 0.3112627374600938, 0.28161866722579915, 0.23993169345882231, 0.1667478950679074, 0.31611608904402644, 0.31792246669570656, 0.2059270522915372, 0.16076761099953343, 0.9519176486837364, 0.9620922187033306, 0.5857848954550761, 0.19982381947766611, 0.14781488016156125, 0.06569550229402722, 0.9653211295718104, 0.23984880792504112, 0.5029087908105702, 0.14700410808308972, 0.10831881648227663, 0.04791064500486935, 0.0958212900097387, 0.814480965082779, 0.023955322502434675, 0.9622669248990893, 0.2807121761729181, 0.12689728511926435, 0.14227877422462973, 0.4499085563319372, 0.2965038823241809, 0.26067632987667566, 0.21372988184201372, 0.2297905088012402, 0.3197883534048429, 0.23201828027463542, 0.2213332278935667, 0.22743897211132025, 0.96211839866165, 0.3055409423626462, 0.20187526548960552, 0.27485044591996965, 0.21824353025903298, 0.9490688720251301, 0.02259687790536024, 0.02259687790536024, 0.07752983715809482, 0.051686558105396546, 0.8140632901599957, 0.051686558105396546, 0.9679016678697245, 0.12575525843551805, 0.8802868090486262, 0.3447369620348273, 0.1867325211021981, 0.19535094515306878, 0.27291676161090495, 0.9326773293473751, 0.966305112468692, 0.9621105207323172, 0.9875602543007825, 0.9770636544451687, 0.950118734866204, 0.03958828061942517, 0.7900138403759257, 0.12779635653139976, 0.023235701187527227, 0.046471402375054455, 0.3324142206175746, 0.21694401766620655, 0.24493679413926547, 0.20644672648880946, 0.94066859219773, 0.9680798070769012, 0.6390638330821072, 0.09048691441870545, 0.1131086430233818, 0.15835210023273452, 0.2222982582259965, 0.32957009213737853, 0.2559014833066704, 0.19257232834693883, 0.2868086254505993, 0.28445773507805344, 0.22333458539186013, 0.2057029075977659, 0.018788619080464176, 0.018788619080464176, 0.05636585724139253, 0.9018537158622805, 0.25183467693830175, 0.41144820457525355, 0.18444229860269987, 0.15251959307530952, 0.9478752557650975, 0.05475224244297868, 0.10950448488595736, 0.8212836366446803, 0.9585352076298801, 0.9834434382229614, 0.9793083840909371, 0.31489730457662696, 0.20598545487343267, 0.1917795614338856, 0.28648551769753283, 0.9555160809467635, 0.9834694280581174, 0.9319500486382999, 0.2807580322078205, 0.39052808991313376, 0.13510160948346248, 0.19631952628065644, 0.03186284605341806, 0.9558853816025419, 0.9682467190640938, 0.958415505085541, 0.9550711834352164, 0.9493762745667024, 0.3317313574834787, 0.20361441942089384, 0.3157167402256556, 0.14870716025121458, 0.030345644673019742, 0.9103693401905922, 0.060691289346039484, 0.9701755850294012, 0.9709137516441031, 0.34489080421278834, 0.3128471598116002, 0.182986074606785, 0.15853171440587827, 0.9290911416457355, 0.054652420096807965, 0.24448696554303775, 0.1259478307342922, 0.5926956740437279, 0.037043479627732995, 0.18457165408566978, 0.79365811256838, 0.018457165408566976, 0.5690102783205658, 0.23611991141193547, 0.10838291015629825, 0.08902881905695928, 0.7638662938102391, 0.02430483662123488, 0.11805206358885513, 0.09201116720896062, 0.13361989411599856, 0.08017193646959914, 0.1202579047043987, 0.6680994705799929, 0.06385573020192, 0.03192786510096, 0.8939802228268799, 0.9735350530767581, 0.1702880310303532, 0.23414604266673564, 0.18305963335762968, 0.4129484752486065, 0.044108546120373834, 0.9703880146482243, 0.12654839965964315, 0.540706798545748, 0.2962382992032555, 0.037389299899440016, 0.5359573303477753, 0.0053065082212651014, 0.10082365620403692, 0.3555360508247618, 0.9387460432456854, 0.949108061568845, 0.026364112821356804, 0.9752877999499874, 0.9684123496990305, 0.023057436897595963, 0.4892346579128856, 0.10572443878625917, 0.1886455672460703, 0.21559493399550891, 0.670589682192593, 0.11176494703209883, 0.1314881729789398, 0.08765878198595986, 0.9136242504570524, 0.0326294375163233, 0.0326294375163233, 0.0326294375163233, 0.940635778362663, 0.9768070633017539, 0.01953614126603508, 0.884775396968948, 0.01882500844614783, 0.056475025338443494, 0.03765001689229566, 0.9735780865517033, 0.9281627191392035, 0.09519435178789822, 0.015865725297983035, 0.88848061668705, 0.9550136363864739, 0.9701994294587203, 0.9855376830211806, 0.9758214121740538, 0.9556826172212676, 0.03963441075344808, 0.3897383724089061, 0.006605735125574679, 0.5614874856738477, 0.970857319603845, 0.043130164404627115, 0.08626032880925423, 0.8626032880925424, 0.026104511068502697, 0.9397623984660971, 0.16063875185298632, 0.43039061817215196, 0.17276243123811735, 0.23641174801005532, 0.9282137301620604, 0.9750009555186537, 0.9560995863986675, 0.016773676954362587, 0.016773676954362587, 0.9797183914004309, 0.9518293435450446, 0.9637886753330915, 0.9719502800160271, 0.9469810890127632, 0.036895367104393374, 0.4027409801962914, 0.1776798442042462, 0.228445513976888, 0.19121735614361735, 0.9718786526723001, 0.9834684406401053, 0.9736816016751981, 0.37970501197833545, 0.20664218338957033, 0.18167291956333056, 0.23161144721581006, 0.05876763918162729, 0.9402822269060367, 0.9601269797023191, 0.9815514578564365, 0.2813115651609416, 0.27331975933250574, 0.23975417485307524, 0.2061885903736447, 0.9834928230724546, 0.2454146728111171, 0.18999845636989712, 0.2942337206283823, 0.2704839135821452, 0.034569979028753015, 0.9333894337763313, 0.04861636226536409, 0.8264781585111894, 0.06806290717150972, 0.0583396347184369, 0.954892880901808, 0.032927340720752, 0.05581216023313763, 0.04596295548611334, 0.5285739880903034, 0.3677036438889067, 0.979785379142454, 0.364254480832173, 0.21417538143350942, 0.1954154940086765, 0.2266819730500647, 0.9621263786372091, 0.2552104550264845, 0.28227823055959644, 0.23716527133774315, 0.22556479610926658, 0.6523306229872483, 0.16551672523557048, 0.019472555910067114, 0.1606485862580537, 0.963776132699783, 0.9682384747493613, 0.9762278203547651, 0.021693951563439222, 0.31931950772092255, 0.23639544951432637, 0.19431458415575517, 0.2512475196408809, 0.3056040530028041, 0.2658618218948161, 0.23023085607386137, 0.19871115553993987, 0.9708342410830705, 0.9557358075217277, 0.9682303003820703, 0.9556581202978134, 0.9702123886194087, 0.033222050099789145, 0.9468284278439906, 0.9636967322192443, 0.1317716888277228, 0.8565159773801984, 0.03127509660581225, 0.8965527693666179, 0.05212516100968709, 0.020850064403874834, 0.9387114168902653, 0.16113142027198257, 0.05371047342399419, 0.0358069822826628, 0.7519466279359187, 0.5658129090440955, 0.26145867277127877, 0.030639688215384233, 0.14094256579076747, 0.3684474063345659, 0.22178387565769989, 0.21224478423156226, 0.1979361470923558, 0.07121267947823419, 0.9257648332170445, 0.3034206722176588, 0.2215993673499755, 0.2676238513380474, 0.20796248320536165, 0.3311696302696317, 0.2489644028977373, 0.17732841904508648, 0.24191824055157493, 0.9584764041135556], \"Term\": [\"aadhi\", \"aadhi\", \"abel\", \"aby\", \"achu\", \"afghan\", \"afghan\", \"agathiyar\", \"aishwarya\", \"aishwarya\", \"aishwarya\", \"ajay\", \"ajay\", \"ajay\", \"ajay\", \"akbar\", \"akbar\", \"akhanda\", \"akhil\", \"akhil\", \"amavas\", \"amavasai\", \"ammaiyar\", \"ammi\", \"anand\", \"anand\", \"anand\", \"anand\", \"anjana\", \"anjana\", \"anjanam\", \"ann\", \"anna\", \"anna\", \"annaamalai\", \"anto\", \"anto\", \"antony\", \"antony\", \"antony\", \"aravi\", \"aravind\", \"aravind\", \"aravind\", \"aravind\", \"aravindan\", \"aravindan\", \"aravindan\", \"arun\", \"arun\", \"arun\", \"arun\", \"aruna\", \"aruna\", \"arya\", \"arya\", \"arya\", \"ashok\", \"ashok\", \"ashok\", \"ashok\", \"ayyu\", \"ayyu\", \"azhar\", \"bala\", \"bala\", \"bala\", \"bala\", \"balli\", \"bama\", \"bangarraju\", \"benny\", \"bhadra\", \"bhadra\", \"bhooloham\", \"bikram\", \"bikram\", \"breaker\", \"brishti\", \"brother\", \"brother\", \"brother\", \"brother\", \"bukka\", \"bulla\", \"catherine\", \"chakravarthy\", \"chakravarthy\", \"chakravarthy\", \"chandra\", \"chandra\", \"chandra\", \"chandra\", \"chandu\", \"chandu\", \"chandu\", \"chandu\", \"charan\", \"charan\", \"charan\", \"charan\", \"charlie\", \"charlie\", \"charlie\", \"charlies\", \"child\", \"child\", \"child\", \"child\", \"come\", \"come\", \"come\", \"come\", \"dada\", \"dada\", \"dada\", \"dada\", \"daughter\", \"daughter\", \"daughter\", \"daughter\", \"david\", \"david\", \"david\", \"david\", \"day\", \"day\", \"day\", \"day\", \"death\", \"death\", \"death\", \"death\", \"decides\", \"decides\", \"decides\", \"decides\", \"desingu\", \"devi\", \"devi\", \"devi\", \"devi\", \"dora\", \"dora\", \"dora\", \"duraipandi\", \"elango\", \"end\", \"end\", \"end\", \"end\", \"fall\", \"fall\", \"fall\", \"fall\", \"family\", \"family\", \"family\", \"family\", \"father\", \"father\", \"father\", \"father\", \"film\", \"film\", \"film\", \"film\", \"find\", \"find\", \"find\", \"find\", \"forest\", \"forest\", \"forest\", \"forest\", \"friend\", \"friend\", \"friend\", \"friend\", \"gajendra\", \"gajodhar\", \"gana\", \"ganesan\", \"ganesan\", \"ganesan\", \"ganesan\", \"ganesh\", \"ganesh\", \"ganesh\", \"ganesh\", \"gang\", \"gang\", \"gang\", \"gang\", \"gautham\", \"gautham\", \"gautham\", \"gautham\", \"get\", \"get\", \"get\", \"get\", \"girl\", \"girl\", \"girl\", \"girl\", \"go\", \"go\", \"go\", \"go\", \"god\", \"god\", \"god\", \"god\", \"gounder\", \"gounder\", \"gounder\", \"gourav\", \"goutham\", \"guna\", \"guru\", \"guru\", \"guru\", \"guru\", \"gurumurthy\", \"hanuman\", \"hanuman\", \"hanuman\", \"haribabu\", \"hariya\", \"help\", \"help\", \"help\", \"help\", \"home\", \"home\", \"home\", \"home\", \"house\", \"house\", \"house\", \"house\", \"inayat\", \"jai\", \"jai\", \"jai\", \"jai\", \"jaidev\", \"janaki\", \"janaki\", \"janaki\", \"janaki\", \"jeeva\", \"jeeva\", \"jeeva\", \"jhunku\", \"jiah\", \"job\", \"job\", \"job\", \"job\", \"john\", \"john\", \"john\", \"john\", \"jumbo\", \"jumbo\", \"kaalaiyan\", \"kakababu\", \"kakababu\", \"kalidasa\", \"kalidasa\", \"karanvir\", \"karnan\", \"karuppu\", \"karuppu\", \"kathir\", \"kathir\", \"keibu\", \"keioiba\", \"kencha\", \"kicha\", \"kichcha\", \"kichu\", \"kill\", \"kill\", \"kill\", \"kill\", \"killed\", \"killed\", \"killed\", \"killed\", \"kishtayya\", \"kranti\", \"krishna\", \"krishna\", \"krishna\", \"krishna\", \"krishnanunni\", \"kumar\", \"kumar\", \"kumar\", \"kumar\", \"laila\", \"laila\", \"laila\", \"laila\", \"lajjo\", \"lakshmi\", \"lakshmi\", \"lakshmi\", \"lakshmi\", \"later\", \"later\", \"later\", \"later\", \"life\", \"life\", \"life\", \"life\", \"lingam\", \"love\", \"love\", \"love\", \"love\", \"madan\", \"madan\", \"madan\", \"madhav\", \"madhav\", \"madhav\", \"madhav\", \"mahavir\", \"mahender\", \"mahender\", \"man\", \"man\", \"man\", \"man\", \"manda\", \"manik\", \"manikam\", \"manmohan\", \"manya\", \"maruti\", \"maruti\", \"meera\", \"meera\", \"meera\", \"meera\", \"meet\", \"meet\", \"meet\", \"meet\", \"megh\", \"mhatre\", \"mohan\", \"mohan\", \"mohan\", \"mohan\", \"money\", \"money\", \"money\", \"money\", \"mother\", \"mother\", \"mother\", \"mother\", \"munna\", \"munna\", \"munna\", \"munna\", \"murder\", \"murder\", \"murder\", \"murder\", \"murugavel\", \"muthu\", \"muthu\", \"muthu\", \"muthupandi\", \"mynaa\", \"nallathambi\", \"named\", \"named\", \"named\", \"named\", \"narappa\", \"narathar\", \"neerja\", \"officer\", \"officer\", \"officer\", \"officer\", \"osthi\", \"osthi\", \"padmanabham\", \"paramvir\", \"parashuram\", \"parasuram\", \"parent\", \"parent\", \"parent\", \"parent\", \"payal\", \"payal\", \"payal\", \"pazhani\", \"pettai\", \"police\", \"police\", \"police\", \"police\", \"prabhakaran\", \"prabhakaran\", \"pratap\", \"pratap\", \"pratap\", \"pratap\", \"radhika\", \"radhika\", \"radhika\", \"raj\", \"raj\", \"raj\", \"raj\", \"raja\", \"raja\", \"raja\", \"raja\", \"rajesh\", \"rajesh\", \"rajesh\", \"rajesh\", \"rajiv\", \"rajiv\", \"rajiv\", \"rajiva\", \"raju\", \"raju\", \"raju\", \"raju\", \"rakhi\", \"rakhi\", \"ram\", \"ram\", \"ram\", \"ram\", \"rama\", \"rama\", \"rama\", \"rama\", \"ramakrishnan\", \"ramanathan\", \"ramanathan\", \"ramaraju\", \"rambabu\", \"rambabu\", \"rao\", \"rao\", \"rao\", \"rao\", \"ravi\", \"ravi\", \"ravi\", \"ravi\", \"renuka\", \"renuka\", \"renuka\", \"renuka\", \"revanth\", \"romeo\", \"romeo\", \"sachin\", \"sachin\", \"sachin\", \"sachin\", \"sahej\", \"sambandham\", \"sandeep\", \"sandeep\", \"sandeep\", \"sandeeps\", \"sarasu\", \"satakarni\", \"sathyam\", \"sathyamoorthy\", \"satya\", \"satya\", \"satya\", \"satya\", \"savi\", \"selvam\", \"selvam\", \"selvam\", \"shaji\", \"shaji\", \"shankar\", \"shankar\", \"shankar\", \"shankar\", \"shanmugi\", \"shashank\", \"shekar\", \"shekar\", \"shekar\", \"shirley\", \"shoaib\", \"sibu\", \"siddhartha\", \"singam\", \"singam\", \"sister\", \"sister\", \"sister\", \"sister\", \"sivagiri\", \"sivagurunathan\", \"sivakasi\", \"son\", \"son\", \"son\", \"son\", \"sonu\", \"sonu\", \"sriramachandramurthy\", \"stanley\", \"start\", \"start\", \"start\", \"start\", \"stf\", \"story\", \"story\", \"story\", \"story\", \"sudhir\", \"sudhir\", \"suraj\", \"suraj\", \"suraj\", \"suraj\", \"suru\", \"suru\", \"surya\", \"surya\", \"surya\", \"surya\", \"susheel\", \"take\", \"take\", \"take\", \"take\", \"tanhaji\", \"tell\", \"tell\", \"tell\", \"tell\", \"terrorist\", \"terrorist\", \"terrorist\", \"terrorist\", \"thabaton\", \"thirumurthy\", \"thyagu\", \"thyagu\", \"time\", \"time\", \"time\", \"time\", \"try\", \"try\", \"try\", \"try\", \"tukaram\", \"udhayappan\", \"vanaja\", \"veeran\", \"veerapandi\", \"veerappan\", \"veerappan\", \"veeru\", \"velan\", \"velan\", \"velu\", \"velu\", \"velu\", \"velu\", \"venkatesan\", \"venu\", \"venu\", \"venu\", \"venu\", \"vijay\", \"vijay\", \"vijay\", \"vijay\", \"village\", \"village\", \"village\", \"village\", \"vk\", \"vk\", \"want\", \"want\", \"want\", \"want\", \"wife\", \"wife\", \"wife\", \"wife\", \"yuvi\"]}, \"R\": 30, \"lambda.step\": 0.01, \"plot.opts\": {\"xlab\": \"PC1\", \"ylab\": \"PC2\"}, \"topic.order\": [1, 3, 2, 4]};\n",
              "\n",
              "function LDAvis_load_lib(url, callback){\n",
              "  var s = document.createElement('script');\n",
              "  s.src = url;\n",
              "  s.async = true;\n",
              "  s.onreadystatechange = s.onload = callback;\n",
              "  s.onerror = function(){console.warn(\"failed to load library \" + url);};\n",
              "  document.getElementsByTagName(\"head\")[0].appendChild(s);\n",
              "}\n",
              "\n",
              "if(typeof(LDAvis) !== \"undefined\"){\n",
              "   // already loaded: just create the visualization\n",
              "   !function(LDAvis){\n",
              "       new LDAvis(\"#\" + \"ldavis_el731400644565973285362563507\", ldavis_el731400644565973285362563507_data);\n",
              "   }(LDAvis);\n",
              "}else if(typeof define === \"function\" && define.amd){\n",
              "   // require.js is available: use it to load d3/LDAvis\n",
              "   require.config({paths: {d3: \"https://d3js.org/d3.v5\"}});\n",
              "   require([\"d3\"], function(d3){\n",
              "      window.d3 = d3;\n",
              "      LDAvis_load_lib(\"https://cdn.jsdelivr.net/gh/bmabey/pyLDAvis@3.3.1/pyLDAvis/js/ldavis.v3.0.0.js\", function(){\n",
              "        new LDAvis(\"#\" + \"ldavis_el731400644565973285362563507\", ldavis_el731400644565973285362563507_data);\n",
              "      });\n",
              "    });\n",
              "}else{\n",
              "    // require.js not available: dynamically load d3 & LDAvis\n",
              "    LDAvis_load_lib(\"https://d3js.org/d3.v5.js\", function(){\n",
              "         LDAvis_load_lib(\"https://cdn.jsdelivr.net/gh/bmabey/pyLDAvis@3.3.1/pyLDAvis/js/ldavis.v3.0.0.js\", function(){\n",
              "                 new LDAvis(\"#\" + \"ldavis_el731400644565973285362563507\", ldavis_el731400644565973285362563507_data);\n",
              "            })\n",
              "         });\n",
              "}\n",
              "</script>"
            ]
          },
          "metadata": {},
          "execution_count": 78
        }
      ]
    },
    {
      "cell_type": "markdown",
      "source": [
        "# Try LDA for Hollywood movies"
      ],
      "metadata": {
        "id": "5G45NKTAYQVM"
      }
    },
    {
      "cell_type": "code",
      "source": [
        "holly_corpus = df['tokenized_text'].loc[df['country'] == 'America']\n",
        "bag_of_words_america = []\n",
        "for document in holly_corpus:\n",
        "    bow = dictionary.doc2bow(document)\n",
        "    bag_of_words_america.append(bow)"
      ],
      "metadata": {
        "id": "o9GFyg3nXYjf"
      },
      "execution_count": null,
      "outputs": []
    },
    {
      "cell_type": "code",
      "source": [
        "import pyLDAvis\n",
        "import pyLDAvis.gensim_models as gensimvis\n",
        "pyLDAvis.enable_notebook()\n",
        "vis = gensimvis.prepare(lda_model, bag_of_words_america, dictionary, mds='mmds', R=30)\n",
        "vis"
      ],
      "metadata": {
        "colab": {
          "base_uri": "https://localhost:8080/",
          "height": 881
        },
        "id": "d9hm6CMShOyU",
        "outputId": "68fc2427-30b5-4584-b3ad-892e9b828149"
      },
      "execution_count": null,
      "outputs": [
        {
          "output_type": "execute_result",
          "data": {
            "text/plain": [
              "PreparedData(topic_coordinates=              x         y  topics  cluster       Freq\n",
              "topic                                                \n",
              "3     -0.069179  0.017013       1        1  28.488302\n",
              "2      0.021852  0.070388       2        1  27.941684\n",
              "1      0.068737 -0.026694       3        1  23.985901\n",
              "0     -0.021411 -0.060707       4        1  19.584113, topic_info=          Term        Freq        Total Category  logprob  loglift\n",
              "16382     raja  599.000000   599.000000  Default  30.0000  30.0000\n",
              "31400     ravi  502.000000   502.000000  Default  29.0000  29.0000\n",
              "30976    vijay  587.000000   587.000000  Default  28.0000  28.0000\n",
              "1462   charlie  144.000000   144.000000  Default  27.0000  27.0000\n",
              "31452    surya  457.000000   457.000000  Default  26.0000  26.0000\n",
              "...        ...         ...          ...      ...      ...      ...\n",
              "121       fall  205.262472   909.331503   Topic4  -6.0413   0.1420\n",
              "83        come  234.585264  1307.966679   Topic4  -5.9077  -0.0880\n",
              "1609      film  227.368166  1219.838867   Topic4  -5.9390  -0.0495\n",
              "650     mother  215.713268  1160.821764   Topic4  -5.9916  -0.0525\n",
              "172      later  212.425119  1105.666137   Topic4  -6.0070  -0.0192\n",
              "\n",
              "[364 rows x 6 columns], token_table=       Topic      Freq   Term\n",
              "term                         \n",
              "31107      2  0.919641  aadhi\n",
              "31107      4  0.070742  aadhi\n",
              "21498      2  0.036867   abel\n",
              "21498      3  0.958553   abel\n",
              "45059      3  0.983949    aby\n",
              "...      ...       ...    ...\n",
              "38227      1  0.979846   yuvi\n",
              "3023       1  0.146898      ’\n",
              "3023       2  0.459390      ’\n",
              "3023       3  0.141556      ’\n",
              "3023       4  0.253733      ’\n",
              "\n",
              "[642 rows x 3 columns], R=30, lambda_step=0.01, plot_opts={'xlab': 'PC1', 'ylab': 'PC2'}, topic_order=[4, 3, 2, 1])"
            ],
            "text/html": [
              "\n",
              "<link rel=\"stylesheet\" type=\"text/css\" href=\"https://cdn.jsdelivr.net/gh/bmabey/pyLDAvis@3.3.1/pyLDAvis/js/ldavis.v1.0.0.css\">\n",
              "\n",
              "\n",
              "<div id=\"ldavis_el731400644548324649495273541\"></div>\n",
              "<script type=\"text/javascript\">\n",
              "\n",
              "var ldavis_el731400644548324649495273541_data = {\"mdsDat\": {\"x\": [-0.06917865829133664, 0.021852069937899683, 0.06873724064878445, -0.021410652295347495], \"y\": [0.01701287907327155, 0.07038824279981168, -0.026693773746426112, -0.0607073481266571], \"topics\": [1, 2, 3, 4], \"cluster\": [1, 1, 1, 1], \"Freq\": [28.48830172431648, 27.94168386185175, 23.985900942387154, 19.584113471444613]}, \"tinfo\": {\"Term\": [\"raja\", \"ravi\", \"vijay\", \"charlie\", \"surya\", \"munna\", \"family\", \"friend\", \"ram\", \"anand\", \"krishna\", \"velu\", \"jeeva\", \"satya\", \"rama\", \"ajay\", \"terrorist\", \"ganesh\", \"rao\", \"singam\", \"suraj\", \"veerappan\", \"sandeep\", \"ashok\", \"anna\", \"selvam\", \"jai\", \"romeo\", \"ganesan\", \"raj\", \"satakarni\", \"manik\", \"ammaiyar\", \"yuvi\", \"paramvir\", \"gajodhar\", \"jaidev\", \"susheel\", \"shaji\", \"haribabu\", \"revanth\", \"shanmugi\", \"kishtayya\", \"jiah\", \"karnan\", \"achu\", \"kichu\", \"gurumurthy\", \"sambandham\", \"thirumurthy\", \"shirley\", \"vanaja\", \"kicha\", \"parashuram\", \"mhatre\", \"parasuram\", \"balli\", \"kencha\", \"sandeeps\", \"akhil\", \"munna\", \"sudhir\", \"bikram\", \"afghan\", \"sandeep\", \"arya\", \"vk\", \"anjana\", \"dharam\", \"venu\", \"bala\", \"aravind\", \"janaki\", \"rajesh\", \"adi\", \"lakshmi\", \"satya\", \"john\", \"arun\", \"raju\", \"film\", \"life\", \"son\", \"love\", \"man\", \"story\", \"brother\", \"time\", \"surya\", \"wife\", \"come\", \"later\", \"daughter\", \"find\", \"house\", \"end\", \"tell\", \"named\", \"meet\", \"help\", \"mother\", \"day\", \"friend\", \"fall\", \"village\", \"take\", \"family\", \"police\", \"father\", \"kill\", \"child\", \"money\", \"get\", \"stf\", \"agathiyar\", \"sahej\", \"bulla\", \"osthi\", \"guna\", \"benny\", \"pettai\", \"keioiba\", \"sibu\", \"tukaram\", \"thabaton\", \"veerappan\", \"bama\", \"keibu\", \"savi\", \"duraipandi\", \"murugavel\", \"sivagurunathan\", \"venkatesan\", \"akhanda\", \"mynaa\", \"ramakrishnan\", \"ramaraju\", \"inayat\", \"breaker\", \"rakhi\", \"ammi\", \"gana\", \"hariya\", \"narathar\", \"gajendra\", \"ganesan\", \"velu\", \"prabhakaran\", \"aadhi\", \"karuppu\", \"velan\", \"suraj\", \"kalidasa\", \"dada\", \"maruti\", \"jumbo\", \"dora\", \"pasupathy\", \"guru\", \"chakravarthy\", \"ram\", \"father\", \"kumar\", \"god\", \"police\", \"officer\", \"k\", \"money\", \"shankar\", \"kill\", \"gang\", \"ashok\", \"mother\", \"find\", \"day\", \"get\", \"killed\", \"murder\", \"house\", \"life\", \"tell\", \"come\", \"\\u2019\", \"later\", \"love\", \"brother\", \"death\", \"wife\", \"try\", \"son\", \"home\", \"friend\", \"help\", \"time\", \"start\", \"village\", \"meet\", \"family\", \"film\", \"manya\", \"bangarraju\", \"krishnanunni\", \"romeo\", \"elango\", \"stanley\", \"jhunku\", \"charlie\", \"aby\", \"bhadra\", \"shashank\", \"bukka\", \"karanvir\", \"goutham\", \"shoaib\", \"bhooloham\", \"aravi\", \"mahavir\", \"charlies\", \"rambabu\", \"manda\", \"nallathambi\", \"suru\", \"catherine\", \"veerapandi\", \"pintoo\", \"sarasu\", \"abel\", \"pazhani\", \"mattu\", \"gourav\", \"anto\", \"ayyu\", \"aishwarya\", \"selvam\", \"kathir\", \"gautham\", \"jeeva\", \"charan\", \"madhav\", \"payal\", \"anna\", \"radhika\", \"muthu\", \"chandu\", \"rajiv\", \"jai\", \"rustom\", \"friend\", \"david\", \"ganesh\", \"pratap\", \"surya\", \"family\", \"laila\", \"love\", \"raghu\", \"get\", \"story\", \"father\", \"kill\", \"day\", \"life\", \"help\", \"find\", \"girl\", \"film\", \"meet\", \"come\", \"money\", \"brother\", \"job\", \"parent\", \"tell\", \"mother\", \"police\", \"want\", \"end\", \"son\", \"house\", \"decides\", \"go\", \"village\", \"try\", \"later\", \"child\", \"fall\", \"ann\", \"sathyam\", \"sivagiri\", \"siddhartha\", \"muthupandi\", \"manmohan\", \"brishti\", \"amavasai\", \"azhar\", \"desingu\", \"rajiva\", \"kaalaiyan\", \"thyagu\", \"amavas\", \"narappa\", \"kichcha\", \"kranti\", \"manikam\", \"tanhaji\", \"lingam\", \"veeru\", \"sivakasi\", \"padmanabham\", \"veeran\", \"lajjo\", \"sathyamoorthy\", \"annaamalai\", \"udhayappan\", \"megh\", \"neerja\", \"singam\", \"shekar\", \"akbar\", \"ramanathan\", \"madan\", \"aruna\", \"raja\", \"antony\", \"sachin\", \"ravi\", \"anand\", \"meera\", \"chandra\", \"vijay\", \"krishna\", \"terrorist\", \"mohan\", \"family\", \"rao\", \"raj\", \"son\", \"devi\", \"daughter\", \"police\", \"life\", \"love\", \"village\", \"house\", \"father\", \"sister\", \"find\", \"kill\", \"meet\", \"day\", \"child\", \"wife\", \"take\", \"get\", \"help\", \"man\", \"time\", \"friend\", \"end\", \"fall\", \"come\", \"film\", \"mother\", \"later\"], \"Freq\": [599.0, 502.0, 587.0, 144.0, 457.0, 186.0, 1628.0, 1791.0, 491.0, 244.0, 418.0, 145.0, 134.0, 250.0, 237.0, 244.0, 236.0, 196.0, 598.0, 74.0, 155.0, 91.0, 111.0, 242.0, 99.0, 94.0, 123.0, 69.0, 88.0, 302.0, 54.82612604460961, 41.41461120759395, 44.29591426730305, 39.867583310645806, 39.7867122814654, 39.75330799776102, 33.86113651544132, 35.14306380803752, 65.3234267656317, 29.228116179528044, 29.22079449249495, 27.72455440565012, 30.654244902019048, 29.18719109105439, 27.69809914826158, 29.11515248622653, 32.02608938003015, 24.760312415133505, 27.650822386680623, 24.745376758151824, 26.18861133827204, 24.72332949248256, 24.674748418391214, 23.189516436851132, 24.650357409093345, 37.63791770395496, 23.195241528458347, 23.169913387062675, 23.138483839806092, 38.70559796595851, 173.00402599181132, 48.422938073451675, 67.03926631395913, 32.95466854901425, 100.11137048488193, 58.20203390745203, 45.9457124908749, 32.257950109817685, 33.930067787523846, 75.81288334390922, 71.6937256017238, 68.03320359638386, 97.28688722394463, 89.37645471417356, 39.67422720143801, 210.03896038756824, 151.9263065956739, 98.64623660731841, 112.37956589490095, 174.80178513427848, 426.1720195631608, 536.1871628131829, 483.3090622114318, 574.1721920540407, 341.3238382950608, 367.80011082522435, 395.22060331388735, 364.2480550098238, 201.82442211837272, 369.6996574930119, 392.19696578140616, 333.419222215308, 326.6556494093475, 399.1854210625468, 368.5331856055718, 304.43659445650235, 314.62776901244666, 217.2112323942623, 317.2800611007943, 320.19420945313186, 313.7245271186993, 344.8481856900726, 397.24460404709174, 270.9061322175038, 297.76152491735303, 259.83299396406005, 346.0144529794719, 338.4556660453302, 366.1653432505817, 323.33356179185665, 267.5183101723186, 267.90362673981275, 274.18104537243414, 64.47993868007345, 66.94238162780564, 43.248369390834654, 43.15310378741331, 46.89170447633919, 45.63938732418302, 43.024458492591926, 33.81615012604711, 35.08349620206069, 32.47695977382536, 33.765337026309865, 32.43317020550454, 88.5350822686185, 32.33670056812609, 29.753658927509036, 33.62355486099224, 28.41784596220564, 29.69479922583526, 27.067303289816913, 28.340255648943245, 27.024074528979092, 27.041991700959787, 28.332893482976377, 25.745972774625507, 24.447570864417795, 24.45056482385577, 33.2983223551987, 29.550456696641596, 27.006646495793472, 24.42664002410995, 26.98316245847838, 26.98211251220031, 83.5753080558733, 132.6155537937117, 52.1421418032584, 65.15454887262172, 36.44123441071686, 60.16448747236034, 130.3921044195956, 37.738548748585345, 60.00641501427788, 36.354970394498615, 40.464478044031225, 41.93281895532422, 43.87453871721593, 141.01533902432456, 59.974970377451754, 290.0529842999727, 727.6739184260988, 200.91737576151172, 106.16606684469869, 571.6669519295637, 284.42197548988037, 114.22987643319836, 393.63588229213326, 218.47748000523626, 468.3829983684666, 253.14335201246777, 130.59214606132565, 373.01714478645334, 439.3662386818967, 415.3756040793509, 382.5699788695805, 271.14615374149133, 178.2068155939546, 391.15846775549403, 467.73187400495055, 337.7870825341562, 375.7459157453754, 172.03033640008204, 325.5161417928699, 456.56551974940527, 339.9765036152466, 257.72212114647795, 327.23260686862034, 298.3485202571331, 370.5547806742779, 275.37314428770134, 387.57463201470296, 305.6676133425584, 293.8728966987814, 263.4330835448169, 286.31890232182036, 287.1426335533296, 319.19350147684764, 267.74189106515956, 53.02315408723182, 38.99212089724821, 42.35948519244852, 67.77878520895824, 41.223610352140405, 30.8156252671031, 35.36200387430726, 139.60730370394123, 28.502283401889184, 47.55306353920092, 29.593197708946803, 28.4144110296373, 27.283424140022607, 28.41349127050745, 26.13111360395934, 27.242234926816252, 26.05157751010844, 28.35176897304774, 24.91646554693813, 56.77274443741113, 23.723284175828837, 22.576872095054828, 39.56892984024671, 22.551730986799747, 21.428783530248147, 22.48404102140723, 21.391620954837695, 25.893871118572715, 21.382128056260036, 20.24004714891355, 23.634718139082704, 30.273364199647585, 28.996206359088937, 56.94844611627002, 81.98296690028309, 34.28798975674596, 77.94032098895794, 109.32873471349862, 62.36259746772456, 85.47025055975797, 40.84709049510747, 80.53638573666497, 58.70482307242078, 61.70605555935573, 81.17776238580248, 37.787417928075854, 90.08001564398455, 35.465509075649116, 723.7832773953826, 87.13764158912505, 120.91665386966962, 107.96191727642574, 218.77945594222587, 537.0571379734071, 46.379629304325995, 546.7133414764324, 98.83037637268913, 340.5174208775597, 302.03851327029815, 425.1237192309913, 351.8637417659766, 341.4710665176927, 392.9211987079506, 302.63988193534595, 341.6420494323202, 243.21556728621763, 298.55679123124725, 284.8028054869856, 305.4385336287844, 268.1557435467775, 280.9780594342628, 183.9213847114345, 186.7132689463925, 249.49037939828307, 258.36682403071444, 294.65359187803045, 213.39627494167212, 234.4749147843151, 286.5831884640372, 269.28475249284537, 224.7346963603718, 217.01344458609285, 242.01413422993838, 227.6471397920425, 234.30565449548266, 224.90887843719005, 217.39141329446412, 44.91334395156228, 26.49626463286514, 25.70354782301185, 25.70888246541361, 23.342360752576973, 21.769093332396817, 21.758743021032572, 20.95621338261823, 26.3648902731152, 18.585488504028604, 19.351977911207516, 20.124102097213335, 39.39520391615198, 19.33280936562831, 16.99672952342752, 17.765385187231438, 17.760110823274896, 17.748115412676587, 17.74686589073926, 17.740444980522643, 23.892700445812057, 19.271523768055168, 18.46994728255583, 16.93290971955335, 17.708476055941283, 16.923596699767227, 16.911800961518704, 16.901479533576126, 15.356628377112314, 14.58517855621237, 68.58996877568609, 50.61476059965679, 25.227566615156483, 32.10984051666626, 37.035611712913486, 31.12094750685219, 389.9314568190963, 45.87373530319595, 41.84395296307112, 270.47796332354403, 147.000491799821, 60.07367431602244, 63.45681712347326, 245.57446618788694, 189.51024781794158, 118.35359270566616, 100.05591996374139, 426.6623685262403, 209.12352776596376, 129.69228973614364, 390.2009014692191, 90.57326658636752, 290.5518710571043, 362.4264022662915, 370.6880454109295, 396.1627210006538, 273.35007049564354, 300.90521643642415, 372.7250148173538, 210.396307136734, 310.9637801258148, 297.68580495579573, 251.90772149875264, 280.208692642211, 226.98302644319403, 249.6249566855459, 206.40551239265557, 253.4075295870276, 244.00883403743435, 212.27679369937337, 228.05314968114263, 283.1095928183095, 211.27297675116415, 205.2624723288087, 234.5852635827813, 227.36816552250454, 215.71326786123046, 212.42511886023888], \"Total\": [599.0, 502.0, 587.0, 144.0, 457.0, 186.0, 1628.0, 1791.0, 491.0, 244.0, 418.0, 145.0, 134.0, 250.0, 237.0, 244.0, 236.0, 196.0, 598.0, 74.0, 155.0, 91.0, 111.0, 242.0, 99.0, 94.0, 123.0, 69.0, 88.0, 302.0, 55.93240050217765, 42.34631518821536, 45.345884657543344, 40.82273910290735, 40.79683712570029, 40.78003783081499, 34.7550552486089, 36.158824147189826, 67.37043980499743, 30.14984300105811, 30.142929489482484, 28.62412833437221, 31.65877283691975, 30.14858689996109, 28.62317146459883, 30.092116536182527, 33.111059988224945, 25.611820950078407, 28.610696847072468, 25.60650646645597, 27.105161955843073, 25.60431510433937, 25.582762986901674, 24.064566098254932, 25.58161354601992, 39.05983944493014, 24.07858684365621, 24.070715176704436, 24.05460174736312, 40.257986104939484, 186.20319423764693, 51.246720715082056, 71.71696004850807, 34.613421794703434, 111.02910710334126, 62.78597421127232, 49.278923378424665, 34.01711914402862, 36.39247732780266, 90.70677283846855, 86.17487114941778, 84.44618993799197, 130.65359680079698, 119.83364145959418, 44.267065962487614, 375.9435982095753, 250.51537714803126, 147.1398464925425, 184.71430036712758, 353.0244547400149, 1219.838867382072, 1767.5282809370137, 1530.647932818966, 1973.6137742805324, 939.1342475675463, 1057.03394734243, 1194.9993518772321, 1099.1171042668657, 457.14729361923486, 1152.050396452965, 1307.9666787383471, 1105.6661373638995, 1071.2180780605333, 1491.1574893025784, 1329.8816222903354, 974.0273563161309, 1076.8866655760974, 579.4474263616935, 1141.133221639862, 1172.5105387684705, 1160.8217637970974, 1381.9035489293271, 1791.7121062754868, 909.3315031961127, 1099.4446319647552, 846.7809936577064, 1628.927460955967, 1567.2026121192157, 1891.6879957250258, 1441.2661068820955, 965.714367514076, 1081.5839746614306, 1250.675974706602, 65.62117270656816, 68.28863556243209, 44.183999482993414, 44.169118407708005, 48.050423823021184, 46.81077271554751, 44.17590099504325, 34.78761976504593, 36.09348631151686, 33.42627794620558, 34.75703787863924, 33.4187090573581, 91.39740695948943, 33.399964646677155, 30.733508003881308, 34.73941941153993, 29.37810808486206, 30.746162346078457, 28.05620286967347, 29.377446525336197, 28.02786130635072, 28.047122116051842, 29.38721556435673, 26.723977983543957, 25.37861264019149, 25.38238155108873, 34.58538728007057, 30.701856628796307, 28.067503815000336, 25.387875837899113, 28.045060164701717, 28.044823815552988, 88.91102471064403, 145.10211188765115, 55.90191767056369, 70.67976423042893, 38.632860882359225, 66.25232080986393, 155.22948207675356, 40.31706226047502, 67.60967520413224, 38.85974773593971, 43.8439077327098, 45.83770589925249, 48.650522789438035, 194.07693831816363, 71.52517897282226, 491.33501011285307, 1891.6879957250258, 357.813038379512, 159.17023819317558, 1567.2026121192157, 654.805925618029, 189.09747832563284, 1081.5839746614306, 483.44783919990914, 1441.2661068820955, 621.3871815672744, 242.6479861844831, 1160.8217637970974, 1491.1574893025784, 1381.9035489293271, 1250.675974706602, 740.2044365389361, 388.89239231676805, 1329.8816222903354, 1767.5282809370137, 1076.8866655760974, 1307.9666787383471, 374.40929651682245, 1105.6661373638995, 1973.6137742805324, 1194.9993518772321, 747.2331153090823, 1152.050396452965, 984.5923056455737, 1530.647932818966, 904.2597700977288, 1791.7121062754868, 1172.5105387684705, 1099.1171042668657, 853.8750468009591, 1099.4446319647552, 1141.133221639862, 1628.927460955967, 1219.838867382072, 54.23011132281432, 40.08562703366983, 43.55571450297084, 69.69408654117687, 42.45032486930707, 31.824461025331967, 36.529826581345105, 144.30555002499514, 29.473062126824498, 49.22982639881762, 30.664116258100005, 29.465473904861405, 28.295033677871743, 29.48047640122868, 27.113978481935973, 28.29753896815133, 27.079056949553355, 29.49636609526573, 25.94841604699205, 59.23404288692789, 24.75551142385458, 23.578703219505044, 41.3486394634577, 23.573906595771845, 22.40360272411061, 23.536168661700092, 22.405186548911466, 27.12422531150247, 22.401902930733236, 21.219119114283874, 24.784666602512686, 31.912636049669043, 30.746153497340448, 62.68542291842573, 94.1379191469462, 36.88914820315166, 92.41683053403845, 134.9414013133954, 72.72567103938502, 104.90235704675499, 45.40576339673192, 99.32115522058484, 69.38601803711474, 74.40679152240996, 105.01958365839272, 41.84760237379009, 123.37825280808747, 39.00608607234013, 1791.7121062754868, 123.45923862460695, 196.82428439244694, 172.7030101168003, 457.14729361923486, 1628.927460955967, 56.72568191950911, 1973.6137742805324, 170.5508058960529, 1250.675974706602, 1057.03394734243, 1891.6879957250258, 1441.2661068820955, 1381.9035489293271, 1767.5282809370137, 1172.5105387684705, 1491.1574893025784, 829.0140228975562, 1219.838867382072, 1141.133221639862, 1307.9666787383471, 1081.5839746614306, 1194.9993518772321, 544.7047685081432, 569.6395794568739, 1076.8866655760974, 1160.8217637970974, 1567.2026121192157, 789.4411859154079, 974.0273563161309, 1530.647932818966, 1329.8816222903354, 887.483279929231, 826.9731446820247, 1099.4446319647552, 984.5923056455737, 1105.6661373638995, 965.714367514076, 909.3315031961127, 46.217217002111, 27.749720699130236, 26.95393502015172, 26.97673624424414, 24.511937257330985, 22.902414700107784, 22.901235770850587, 22.09893470126844, 27.88581941979485, 19.678050337743514, 20.502286179461954, 21.348735968027604, 41.80604150234032, 20.518639827992022, 18.067863702331795, 18.88601852596044, 18.895324688009403, 18.905733662467835, 18.909327914720322, 18.90942396756468, 25.47634635740865, 20.56475115206265, 19.742612290516654, 18.10372465441653, 18.94262696106711, 18.12115307111872, 18.12079999777738, 18.13694383949684, 16.483237432133905, 15.664018664774936, 74.01952966116923, 54.617277411345526, 27.216163921253855, 34.89649621659109, 40.66954534101136, 34.01467657567041, 599.8576392867465, 55.85256454619249, 50.74950553055575, 502.10157739234376, 244.51976009514772, 88.8631515577028, 98.27321596400802, 587.2493769084844, 418.79672073844347, 236.66145196824087, 201.9828066720147, 1628.927460955967, 598.3074104793665, 302.9201694237852, 1530.647932818966, 187.3461376855043, 1071.2180780605333, 1567.2026121192157, 1767.5282809370137, 1973.6137742805324, 1099.4446319647552, 1329.8816222903354, 1891.6879957250258, 758.7732609196679, 1491.1574893025784, 1441.2661068820955, 1141.133221639862, 1381.9035489293271, 965.714367514076, 1152.050396452965, 846.7809936577064, 1250.675974706602, 1172.5105387684705, 939.1342475675463, 1099.1171042668657, 1791.7121062754868, 974.0273563161309, 909.3315031961127, 1307.9666787383471, 1219.838867382072, 1160.8217637970974, 1105.6661373638995], \"Category\": [\"Default\", \"Default\", \"Default\", \"Default\", \"Default\", \"Default\", \"Default\", \"Default\", \"Default\", \"Default\", \"Default\", \"Default\", \"Default\", \"Default\", \"Default\", \"Default\", \"Default\", \"Default\", \"Default\", \"Default\", \"Default\", \"Default\", \"Default\", \"Default\", \"Default\", \"Default\", \"Default\", \"Default\", \"Default\", \"Default\", \"Topic1\", \"Topic1\", \"Topic1\", \"Topic1\", \"Topic1\", \"Topic1\", \"Topic1\", \"Topic1\", \"Topic1\", \"Topic1\", \"Topic1\", \"Topic1\", \"Topic1\", \"Topic1\", \"Topic1\", \"Topic1\", \"Topic1\", \"Topic1\", \"Topic1\", \"Topic1\", \"Topic1\", \"Topic1\", \"Topic1\", \"Topic1\", \"Topic1\", \"Topic1\", \"Topic1\", \"Topic1\", \"Topic1\", \"Topic1\", \"Topic1\", \"Topic1\", \"Topic1\", \"Topic1\", \"Topic1\", \"Topic1\", \"Topic1\", \"Topic1\", \"Topic1\", \"Topic1\", \"Topic1\", \"Topic1\", \"Topic1\", \"Topic1\", \"Topic1\", \"Topic1\", \"Topic1\", \"Topic1\", \"Topic1\", \"Topic1\", \"Topic1\", \"Topic1\", \"Topic1\", \"Topic1\", \"Topic1\", \"Topic1\", \"Topic1\", \"Topic1\", \"Topic1\", \"Topic1\", \"Topic1\", \"Topic1\", \"Topic1\", \"Topic1\", \"Topic1\", \"Topic1\", \"Topic1\", \"Topic1\", \"Topic1\", \"Topic1\", \"Topic1\", \"Topic1\", \"Topic1\", \"Topic1\", \"Topic1\", \"Topic1\", \"Topic1\", \"Topic1\", \"Topic1\", \"Topic1\", \"Topic1\", \"Topic1\", \"Topic1\", \"Topic2\", \"Topic2\", \"Topic2\", \"Topic2\", \"Topic2\", \"Topic2\", \"Topic2\", \"Topic2\", \"Topic2\", \"Topic2\", \"Topic2\", \"Topic2\", \"Topic2\", \"Topic2\", \"Topic2\", \"Topic2\", \"Topic2\", \"Topic2\", \"Topic2\", \"Topic2\", \"Topic2\", \"Topic2\", \"Topic2\", \"Topic2\", \"Topic2\", \"Topic2\", \"Topic2\", \"Topic2\", \"Topic2\", \"Topic2\", \"Topic2\", \"Topic2\", \"Topic2\", \"Topic2\", \"Topic2\", \"Topic2\", \"Topic2\", \"Topic2\", \"Topic2\", \"Topic2\", \"Topic2\", \"Topic2\", \"Topic2\", \"Topic2\", \"Topic2\", \"Topic2\", \"Topic2\", \"Topic2\", \"Topic2\", \"Topic2\", \"Topic2\", \"Topic2\", \"Topic2\", \"Topic2\", \"Topic2\", \"Topic2\", \"Topic2\", \"Topic2\", \"Topic2\", \"Topic2\", \"Topic2\", \"Topic2\", \"Topic2\", \"Topic2\", \"Topic2\", \"Topic2\", \"Topic2\", \"Topic2\", \"Topic2\", \"Topic2\", \"Topic2\", \"Topic2\", \"Topic2\", \"Topic2\", \"Topic2\", \"Topic2\", \"Topic2\", \"Topic2\", \"Topic2\", \"Topic2\", \"Topic2\", \"Topic2\", \"Topic2\", \"Topic2\", \"Topic2\", \"Topic2\", \"Topic3\", \"Topic3\", \"Topic3\", \"Topic3\", \"Topic3\", \"Topic3\", \"Topic3\", \"Topic3\", \"Topic3\", \"Topic3\", \"Topic3\", \"Topic3\", \"Topic3\", \"Topic3\", \"Topic3\", \"Topic3\", \"Topic3\", \"Topic3\", \"Topic3\", \"Topic3\", \"Topic3\", \"Topic3\", \"Topic3\", \"Topic3\", \"Topic3\", \"Topic3\", \"Topic3\", \"Topic3\", \"Topic3\", \"Topic3\", \"Topic3\", \"Topic3\", \"Topic3\", \"Topic3\", \"Topic3\", \"Topic3\", \"Topic3\", \"Topic3\", \"Topic3\", \"Topic3\", \"Topic3\", \"Topic3\", \"Topic3\", \"Topic3\", \"Topic3\", \"Topic3\", \"Topic3\", \"Topic3\", \"Topic3\", \"Topic3\", \"Topic3\", \"Topic3\", \"Topic3\", \"Topic3\", \"Topic3\", \"Topic3\", \"Topic3\", \"Topic3\", \"Topic3\", \"Topic3\", \"Topic3\", \"Topic3\", \"Topic3\", \"Topic3\", \"Topic3\", \"Topic3\", \"Topic3\", \"Topic3\", \"Topic3\", \"Topic3\", \"Topic3\", \"Topic3\", \"Topic3\", \"Topic3\", \"Topic3\", \"Topic3\", \"Topic3\", \"Topic3\", \"Topic3\", \"Topic3\", \"Topic3\", \"Topic3\", \"Topic3\", \"Topic3\", \"Topic3\", \"Topic3\", \"Topic3\", \"Topic4\", \"Topic4\", \"Topic4\", \"Topic4\", \"Topic4\", \"Topic4\", \"Topic4\", \"Topic4\", \"Topic4\", \"Topic4\", \"Topic4\", \"Topic4\", \"Topic4\", \"Topic4\", \"Topic4\", \"Topic4\", \"Topic4\", \"Topic4\", \"Topic4\", \"Topic4\", \"Topic4\", \"Topic4\", \"Topic4\", \"Topic4\", \"Topic4\", \"Topic4\", \"Topic4\", \"Topic4\", \"Topic4\", \"Topic4\", \"Topic4\", \"Topic4\", \"Topic4\", \"Topic4\", \"Topic4\", \"Topic4\", \"Topic4\", \"Topic4\", \"Topic4\", \"Topic4\", \"Topic4\", \"Topic4\", \"Topic4\", \"Topic4\", \"Topic4\", \"Topic4\", \"Topic4\", \"Topic4\", \"Topic4\", \"Topic4\", \"Topic4\", \"Topic4\", \"Topic4\", \"Topic4\", \"Topic4\", \"Topic4\", \"Topic4\", \"Topic4\", \"Topic4\", \"Topic4\", \"Topic4\", \"Topic4\", \"Topic4\", \"Topic4\", \"Topic4\", \"Topic4\", \"Topic4\", \"Topic4\", \"Topic4\", \"Topic4\", \"Topic4\", \"Topic4\", \"Topic4\", \"Topic4\", \"Topic4\", \"Topic4\", \"Topic4\", \"Topic4\"], \"logprob\": [30.0, 29.0, 28.0, 27.0, 26.0, 25.0, 24.0, 23.0, 22.0, 21.0, 20.0, 19.0, 18.0, 17.0, 16.0, 15.0, 14.0, 13.0, 12.0, 11.0, 10.0, 9.0, 8.0, 7.0, 6.0, 5.0, 4.0, 3.0, 2.0, 1.0, -7.7362, -8.0167, -7.9494, -8.0548, -8.0568, -8.0576, -8.2181, -8.1809, -7.561, -8.3652, -8.3655, -8.418, -8.3176, -8.3666, -8.419, -8.3691, -8.2738, -8.5311, -8.4207, -8.5317, -8.475, -8.5326, -8.5346, -8.5966, -8.5355, -8.1123, -8.5964, -8.5975, -8.5988, -8.0844, -6.587, -7.8604, -7.5351, -8.2452, -7.1341, -7.6764, -7.9129, -8.2666, -8.216, -7.4121, -7.4679, -7.5203, -7.1627, -7.2475, -8.0596, -6.393, -6.7169, -7.1488, -7.0185, -6.5767, -5.6855, -5.4559, -5.5597, -5.3874, -5.9075, -5.8328, -5.7609, -5.8425, -6.4329, -5.8276, -5.7686, -5.9309, -5.9514, -5.7509, -5.8308, -6.0219, -5.9889, -6.3595, -5.9806, -5.9714, -5.9918, -5.8972, -5.7558, -6.1386, -6.044, -6.1803, -5.8939, -5.9159, -5.8373, -5.9617, -6.1511, -6.1497, -6.1265, -7.5546, -7.5171, -7.954, -7.9562, -7.8731, -7.9002, -7.9592, -8.2, -8.1632, -8.2404, -8.2015, -8.2418, -7.2376, -8.2448, -8.328, -8.2057, -8.3739, -8.33, -8.4226, -8.3767, -8.4242, -8.4236, -8.3769, -8.4727, -8.5244, -8.5243, -8.2155, -8.3349, -8.4249, -8.5253, -8.4257, -8.4258, -7.2952, -6.8335, -7.767, -7.5442, -8.1253, -7.6239, -6.8504, -8.0903, -7.6265, -8.1276, -8.0205, -7.9849, -7.9396, -6.7721, -7.627, -6.0509, -5.1311, -6.4181, -7.056, -5.3724, -6.0705, -6.9827, -5.7455, -6.3343, -5.5717, -6.187, -6.8489, -5.7993, -5.6356, -5.6918, -5.7741, -6.1183, -6.538, -5.7518, -5.5731, -5.8985, -5.792, -6.5733, -5.9356, -5.5972, -5.8921, -6.1691, -5.9303, -6.0227, -5.806, -6.1028, -5.7611, -5.9985, -6.0378, -6.1472, -6.0639, -6.061, -5.9552, -6.1309, -7.5976, -7.9049, -7.8221, -7.3521, -7.8493, -8.1403, -8.0027, -6.6295, -8.2183, -7.7065, -8.1808, -8.2214, -8.262, -8.2214, -8.3052, -8.2635, -8.3082, -8.2236, -8.3528, -7.5293, -8.4019, -8.4514, -7.8903, -8.4525, -8.5036, -8.4555, -8.5053, -8.3143, -8.5058, -8.5606, -8.4056, -8.158, -8.2011, -7.5262, -7.1618, -8.0335, -7.2124, -6.8739, -7.4353, -7.1201, -7.8585, -7.1796, -7.4958, -7.4459, -7.1717, -7.9363, -7.0676, -7.9997, -4.9838, -7.1008, -6.7732, -6.8865, -6.1802, -5.2822, -7.7314, -5.2644, -6.9749, -5.7378, -5.8578, -5.5159, -5.7051, -5.735, -5.5947, -5.8558, -5.7345, -6.0744, -5.8693, -5.9165, -5.8466, -5.9767, -5.93, -6.3538, -6.3387, -6.0489, -6.0139, -5.8825, -6.2052, -6.111, -5.9103, -5.9725, -6.1534, -6.1883, -6.0793, -6.1405, -6.1117, -6.1526, -6.1866, -7.5608, -8.0886, -8.1189, -8.1187, -8.2153, -8.2851, -8.2855, -8.3231, -8.0935, -8.4432, -8.4028, -8.3636, -7.6919, -8.4038, -8.5325, -8.4883, -8.4886, -8.4893, -8.4894, -8.4897, -8.192, -8.4069, -8.4494, -8.5363, -8.4915, -8.5369, -8.5375, -8.5382, -8.634, -8.6856, -7.1374, -7.4413, -8.1376, -7.8964, -7.7537, -7.9277, -5.3996, -7.5397, -7.6316, -5.7654, -6.3751, -7.27, -7.2152, -5.862, -6.1211, -6.5919, -6.7598, -5.3096, -6.0226, -6.5004, -5.3989, -6.8594, -5.6938, -5.4727, -5.4502, -5.3837, -5.7548, -5.6588, -5.4447, -6.0166, -5.6259, -5.6695, -5.8365, -5.73, -5.9407, -5.8456, -6.0357, -5.8306, -5.8684, -6.0077, -5.936, -5.7197, -6.0124, -6.0413, -5.9077, -5.939, -5.9916, -6.007], \"loglift\": [30.0, 29.0, 28.0, 27.0, 26.0, 25.0, 24.0, 23.0, 22.0, 21.0, 20.0, 19.0, 18.0, 17.0, 16.0, 15.0, 14.0, 13.0, 12.0, 11.0, 10.0, 9.0, 8.0, 7.0, 6.0, 5.0, 4.0, 3.0, 2.0, 1.0, 1.2357, 1.2334, 1.2322, 1.232, 1.2306, 1.2302, 1.2296, 1.2272, 1.2248, 1.2246, 1.2246, 1.2237, 1.2234, 1.2233, 1.2228, 1.2227, 1.2224, 1.2219, 1.2216, 1.2215, 1.2213, 1.2207, 1.2195, 1.2186, 1.2186, 1.2186, 1.2183, 1.2175, 1.2168, 1.2164, 1.1822, 1.199, 1.1882, 1.2066, 1.1522, 1.1799, 1.1856, 1.2026, 1.1856, 1.0763, 1.0717, 1.0396, 0.9608, 0.9624, 1.1461, 0.6735, 0.7556, 0.8558, 0.7587, 0.5528, 0.204, 0.0628, 0.1029, 0.021, 0.2435, 0.2, 0.1492, 0.1512, 0.4381, 0.1191, 0.0512, 0.0569, 0.068, -0.0622, -0.0276, 0.0927, 0.0252, 0.2745, -0.0243, -0.0423, -0.0527, -0.1324, -0.2507, 0.0447, -0.0506, 0.0743, -0.2935, -0.277, -0.3865, -0.2389, -0.028, -0.1399, -0.262, 1.2575, 1.2551, 1.2536, 1.2518, 1.2506, 1.2497, 1.2486, 1.2467, 1.2467, 1.2462, 1.2461, 1.2451, 1.2432, 1.2427, 1.2426, 1.2424, 1.2418, 1.2403, 1.2392, 1.2391, 1.2386, 1.2386, 1.2385, 1.2378, 1.2377, 1.2376, 1.2371, 1.2368, 1.2365, 1.2365, 1.2365, 1.2364, 1.2132, 1.1851, 1.2054, 1.1937, 1.2166, 1.1787, 1.1007, 1.209, 1.1558, 1.2084, 1.1948, 1.186, 1.1717, 0.9557, 1.0989, 0.748, 0.3197, 0.6979, 0.8701, 0.2666, 0.4412, 0.771, 0.2643, 0.4808, 0.1511, 0.3771, 0.6555, 0.1398, 0.0531, 0.073, 0.0905, 0.2708, 0.4947, 0.0513, -0.0544, 0.1156, 0.0277, 0.4974, 0.0523, -0.1888, 0.018, 0.2106, 0.0164, 0.0811, -0.1434, 0.0861, -0.256, -0.0694, -0.0441, 0.0991, -0.0704, -0.1047, -0.3548, -0.2414, 1.4052, 1.4, 1.3999, 1.3998, 1.3984, 1.3955, 1.3952, 1.3946, 1.3942, 1.3931, 1.3922, 1.3914, 1.3913, 1.3908, 1.3908, 1.3897, 1.389, 1.3881, 1.3871, 1.3853, 1.3851, 1.3843, 1.3837, 1.3834, 1.3832, 1.382, 1.3814, 1.3813, 1.3811, 1.3805, 1.3802, 1.375, 1.3691, 1.3317, 1.2895, 1.3546, 1.2573, 1.2172, 1.274, 1.2228, 1.3219, 1.2181, 1.2605, 1.2405, 1.1702, 1.3256, 1.1131, 1.3325, 0.5213, 1.0793, 0.9405, 0.9579, 0.6908, 0.3181, 1.2263, 0.144, 0.8821, 0.1267, 0.175, -0.0651, 0.0177, 0.0297, -0.076, 0.0733, -0.0458, 0.2014, 0.0202, 0.0397, -0.0268, 0.0331, -0.0199, 0.342, 0.3123, -0.0347, -0.0748, -0.2435, 0.1195, 0.0036, -0.2477, -0.1694, 0.0542, 0.0899, -0.0859, -0.0367, -0.1239, -0.0295, -0.0033, 1.6018, 1.5842, 1.583, 1.5823, 1.5816, 1.5797, 1.5793, 1.5774, 1.5744, 1.5733, 1.5727, 1.5714, 1.5711, 1.5709, 1.5693, 1.5693, 1.5685, 1.5673, 1.567, 1.5666, 1.5663, 1.5655, 1.5638, 1.5636, 1.5631, 1.5621, 1.5614, 1.5599, 1.5597, 1.5591, 1.5543, 1.5543, 1.5546, 1.5472, 1.5369, 1.5415, 1.1997, 1.4336, 1.4375, 1.0118, 1.1216, 1.2389, 1.1931, 0.7586, 0.8375, 0.9375, 0.928, 0.2908, 0.5793, 0.7821, 0.2637, 0.9037, 0.3257, 0.1662, 0.0685, 0.0247, 0.2386, 0.1444, 0.0061, 0.3477, 0.0628, 0.0532, 0.1197, 0.0348, 0.1825, 0.1011, 0.2189, 0.034, 0.0608, 0.1434, 0.0578, -0.2146, 0.1022, 0.142, -0.088, -0.0495, -0.0525, -0.0192]}, \"token.table\": {\"Topic\": [2, 4, 2, 3, 3, 1, 1, 3, 4, 1, 2, 2, 3, 2, 3, 4, 1, 2, 3, 4, 1, 3, 4, 2, 1, 4, 4, 4, 1, 2, 3, 1, 2, 3, 4, 1, 4, 1, 4, 1, 3, 4, 2, 3, 1, 2, 4, 3, 1, 2, 3, 4, 1, 2, 3, 4, 1, 2, 3, 4, 1, 2, 3, 1, 2, 3, 4, 1, 3, 1, 4, 1, 2, 3, 4, 1, 2, 3, 1, 2, 3, 4, 3, 1, 2, 3, 2, 4, 1, 2, 3, 4, 3, 2, 3, 1, 2, 3, 4, 1, 2, 3, 4, 1, 2, 3, 4, 1, 2, 3, 4, 1, 2, 3, 3, 1, 2, 3, 4, 1, 2, 3, 4, 1, 2, 3, 4, 1, 2, 3, 4, 1, 2, 3, 4, 1, 2, 3, 4, 1, 2, 3, 4, 1, 2, 3, 4, 4, 1, 2, 3, 4, 1, 4, 2, 3, 4, 2, 1, 3, 1, 2, 3, 4, 1, 2, 3, 4, 1, 2, 3, 4, 1, 2, 3, 4, 1, 2, 3, 4, 1, 2, 3, 4, 1, 2, 3, 4, 2, 1, 2, 1, 2, 3, 4, 1, 2, 3, 4, 1, 2, 3, 4, 1, 2, 3, 4, 1, 2, 3, 4, 1, 2, 3, 4, 1, 2, 3, 4, 1, 2, 3, 4, 1, 3, 3, 1, 2, 1, 2, 3, 4, 1, 1, 2, 1, 2, 3, 4, 1, 2, 3, 4, 1, 2, 3, 4, 2, 1, 2, 3, 4, 1, 1, 2, 3, 4, 1, 2, 3, 3, 1, 1, 2, 3, 4, 1, 2, 3, 4, 2, 3, 1, 2, 3, 4, 1, 4, 1, 2, 3, 1, 2, 3, 1, 3, 2, 2, 1, 1, 4, 1, 1, 2, 3, 4, 1, 2, 3, 4, 1, 4, 1, 2, 3, 4, 3, 1, 2, 3, 4, 1, 2, 3, 4, 1, 4, 1, 2, 3, 4, 1, 2, 3, 4, 1, 2, 3, 4, 4, 1, 2, 3, 4, 1, 2, 3, 4, 1, 2, 3, 4, 3, 1, 2, 3, 4, 3, 1, 4, 4, 1, 3, 1, 2, 3, 1, 2, 3, 4, 1, 2, 3, 4, 4, 1, 1, 2, 3, 4, 1, 2, 3, 4, 1, 2, 3, 4, 1, 2, 3, 4, 1, 2, 3, 4, 2, 1, 2, 3, 4, 4, 2, 3, 1, 2, 3, 4, 4, 2, 4, 1, 2, 3, 4, 2, 4, 1, 1, 1, 3, 1, 2, 3, 4, 1, 2, 3, 4, 1, 2, 3, 3, 2, 3, 1, 2, 3, 4, 1, 2, 3, 1, 2, 3, 4, 1, 3, 4, 1, 2, 3, 4, 1, 2, 3, 4, 1, 2, 3, 4, 1, 2, 3, 4, 2, 3, 4, 4, 1, 2, 3, 4, 2, 1, 2, 3, 4, 1, 2, 3, 4, 2, 1, 4, 2, 1, 3, 1, 2, 3, 4, 1, 2, 3, 4, 1, 1, 2, 3, 1, 3, 4, 1, 2, 3, 4, 2, 1, 1, 2, 3, 1, 3, 1, 4, 4, 1, 2, 3, 4, 2, 2, 3, 4, 1, 4, 1, 2, 3, 4, 1, 3, 1, 3, 4, 1, 3, 2, 1, 4, 1, 2, 3, 4, 1, 2, 3, 4, 4, 2, 2, 4, 1, 2, 3, 4, 3, 1, 2, 3, 4, 2, 1, 2, 3, 4, 1, 2, 1, 2, 3, 4, 1, 3, 1, 2, 3, 4, 1, 1, 2, 3, 4, 4, 1, 2, 3, 4, 1, 2, 3, 4, 2, 1, 1, 3, 4, 1, 2, 3, 4, 1, 2, 3, 4, 2, 4, 1, 4, 3, 1, 2, 4, 1, 2, 3, 4, 2, 4, 1, 2, 3, 4, 2, 1, 2, 3, 4, 1, 2, 3, 4, 1, 2, 3, 4, 1, 3, 1, 2, 3, 4, 1, 2, 3, 4, 1, 1, 2, 3, 4], \"Freq\": [0.9196408718638073, 0.07074160552798517, 0.03686741237826002, 0.9585527218347606, 0.9839493390680316, 0.9637075532766406, 0.9036063070883539, 0.022590157677208848, 0.06777047303162655, 0.9533873939342709, 0.0288905270889173, 0.9811295751947778, 0.014643725002907133, 0.047858016430773434, 0.9093023121846951, 0.047858016430773434, 0.5078405467323687, 0.05733683592139646, 0.04914585936119697, 0.389071386609476, 0.03674287099729997, 0.03674287099729997, 0.9185717749324992, 0.9633271588182927, 0.9687518868514604, 0.02483979197055027, 0.925987305166288, 0.9502720508420995, 0.9703195853888925, 0.9771396030773588, 0.03257132010257863, 0.1390480670632504, 0.2208410476886918, 0.040896490312720704, 0.6011784075969944, 0.9407028227320448, 0.0293969632103764, 0.021636958364548962, 0.9736631264047032, 0.18123027224183358, 0.8155362250882511, 0.9381484262331216, 0.0313355499195865, 0.940066497587595, 0.14323424653819886, 0.035808561634549714, 0.8235969175946435, 0.9601516052954291, 0.8052465131929782, 0.0355255814643961, 0.0710511629287922, 0.08289302341692423, 0.606341792581274, 0.05413766005189946, 0.200309342192028, 0.13534415012974865, 0.029399074184208694, 0.05879814836841739, 0.029399074184208694, 0.9113712997104695, 0.9237731950265244, 0.031854248104362916, 0.04778137215654437, 0.07418153467103066, 0.5398767245502787, 0.04533316007674095, 0.34205929876086355, 0.03252439366395866, 0.9432074162548011, 0.03586052053719269, 0.93237353396701, 0.8355103876530304, 0.04641724375850169, 0.03481293281887627, 0.09283448751700338, 0.9552055587539442, 0.9580848464515835, 0.97291729944107, 0.02263677655634471, 0.9733813919228226, 0.9750186728497755, 0.020312889017703655, 0.954146578979476, 0.9342281094274268, 0.01394370312578249, 0.05577481250312996, 0.945537752306405, 0.960646849808965, 0.3305441123290084, 0.2845189827642097, 0.2351465710492439, 0.149790876219981, 0.9502647094836095, 0.973530863873797, 0.9756550067999854, 0.013981090496536534, 0.838865429792192, 0.027962180993073068, 0.1258298144688288, 0.12210855096463852, 0.04070285032154617, 0.19333853902734432, 0.6410698925643522, 0.12378643627350826, 0.07617626847600509, 0.7712847183195515, 0.028566100678501908, 0.013750302825785465, 0.08250181695471279, 0.8525187751986988, 0.04125090847735639, 0.013859480800659298, 0.013859480800659298, 0.9701636560461508, 0.9634499444869973, 0.2775147693928181, 0.25473370623370617, 0.23298814594546297, 0.2350591516872004, 0.2997018244976391, 0.2874690969671232, 0.233186368550459, 0.179668185604452, 0.029581564975152574, 0.8874469492545772, 0.029581564975152574, 0.04437234746272886, 0.3052599715195635, 0.2343126998514081, 0.1895038966925731, 0.27165336915043725, 0.03239935742810219, 0.11339775099835767, 0.7046860240612226, 0.14579710842645985, 0.24965562919879575, 0.30031039454347896, 0.24676107117909957, 0.20261906137873278, 0.25293311568749577, 0.3452737769702323, 0.19404921573908407, 0.208770190726187, 0.2749347571026429, 0.24563843052613182, 0.25352590306596173, 0.22648314007225914, 0.9655428090636105, 0.29357424006428057, 0.08006570183571289, 0.1441182633042832, 0.4857319244699915, 0.9342590144041971, 0.05495641261201159, 0.9162762222942079, 0.04363220106162895, 0.021816100530814474, 0.9530906455622931, 0.023556945749619734, 0.9658347757344091, 0.3121062237407361, 0.22997300696685816, 0.2402396590635929, 0.216626359241103, 0.2980211276608045, 0.23753713496211726, 0.2386368439202752, 0.22544033642237982, 0.21240970411103716, 0.19583438037982906, 0.32966477198736116, 0.2621356753046615, 0.19347799469421673, 0.38484147578521793, 0.2246670703416451, 0.1971783934998438, 0.34922645227254456, 0.21970114837803273, 0.2451143409142977, 0.1860901517978113, 0.26757737050739977, 0.29440216955576065, 0.22935203186348552, 0.20856281260100581, 0.22157577582330562, 0.2165526474041375, 0.40408277505308127, 0.15794948251384255, 0.9627445042113777, 0.9808720670134945, 0.9619665566971501, 0.01124719913255352, 0.9447647271344956, 0.033741597397660555, 0.01124719913255352, 0.030484043259807466, 0.33024380198124753, 0.6147615390727839, 0.025403369383172888, 0.15610235112244314, 0.4071535549894651, 0.3057674918893216, 0.13196281228907564, 0.0865643190073856, 0.05410269937961601, 0.8440021103220098, 0.0108205398759232, 0.21908152514425497, 0.30623439463594765, 0.27265255501529545, 0.20229060533392887, 0.2967380444786505, 0.20868163290571762, 0.293119287838667, 0.20144411962575054, 0.2769134662626217, 0.2636119460491333, 0.26240271693881617, 0.1971043449816914, 0.08167356000449445, 0.6659536431135702, 0.10680388615972351, 0.15078195693137436, 0.040347526801051234, 0.9683406432252296, 0.9497811235788924, 0.021362603990253397, 0.9826797835516562, 0.16488306275493797, 0.7265159952639455, 0.06698374424419355, 0.04122076568873449, 0.9761117746656536, 0.9618623884370557, 0.9453331248836783, 0.2729186556703425, 0.260978464484765, 0.25841985208785556, 0.20810047494863618, 0.27536335048178584, 0.3041161501304864, 0.23886941246612747, 0.180257936259161, 0.2774683053101407, 0.2940111311009892, 0.2022736426244657, 0.22633593468388172, 0.9456781716267573, 0.008105156113334504, 0.04052578056667252, 0.7294640502001053, 0.2188392150600316, 0.9782749518535402, 0.7424211990726328, 0.10715357512388515, 0.06123061435650581, 0.08419209474019548, 0.0074106240951029145, 0.17785497828246993, 0.8077580263662176, 0.9581211649625966, 0.9619024631644486, 0.2937371017298301, 0.1872574023527667, 0.33779766698930463, 0.17991397480952093, 0.672829300559435, 0.027185022244825656, 0.22427643351981166, 0.08155506673447697, 0.9123274376877212, 0.0684245578265791, 0.100477278535049, 0.6028636712102939, 0.07403588944687821, 0.22739594615826877, 0.046841180737708536, 0.9368236147541708, 0.049606788983747645, 0.9425289906912052, 0.9542310607361274, 0.978228427085043, 0.931849186878069, 0.05176939927100383, 0.05421648634947683, 0.9216802679411061, 0.9761332808546075, 0.9697040540201862, 0.9555179325232235, 0.9772204829009264, 0.95308600779235, 0.9664444451908195, 0.22410851018952282, 0.32471449773590305, 0.24422970769879887, 0.20676265026773313, 0.21615649961263603, 0.36611507121890224, 0.20940160899974114, 0.20940160899974114, 0.9791914601266066, 0.9526166021069986, 0.10267511150560166, 0.2698206418635578, 0.17430891023044, 0.4536807252573096, 0.9642821953279007, 0.13973778101112078, 0.5617458796647055, 0.1453272922515656, 0.15371155911223283, 0.01762869949133357, 0.12340089643933498, 0.8109201766013442, 0.03525739898266714, 0.05279098839117224, 0.9502377910411003, 0.5585944301222876, 0.13565864731541272, 0.13299867383863992, 0.1728982759902319, 0.3011759054084174, 0.294844880369802, 0.21163712271942842, 0.19173961545520865, 0.30324833032705545, 0.26477652722586187, 0.22234439145248655, 0.2098976316256298, 0.951906310360135, 0.29083704597129084, 0.23155493032905908, 0.27715655774616044, 0.20064716063524593, 0.024588423391878823, 0.024588423391878823, 0.024588423391878823, 0.9097716654995164, 0.07626139416900232, 0.06672871989787703, 0.8102773130456496, 0.04766337135562645, 0.9492694764354073, 0.3631003776970384, 0.21402690884781442, 0.19698994097933167, 0.2257398242573963, 0.9694810819732627, 0.9682070285872234, 0.952092117733261, 0.9605973993605339, 0.01843994001869779, 0.977316820990983, 0.05146713801619165, 0.9264084842914496, 0.9425461958284964, 0.0900260665952776, 0.2025586498393746, 0.0337597749732291, 0.675195499464582, 0.27779403314930756, 0.2515043770153037, 0.2497517332730368, 0.22083311152563254, 0.9100154057574668, 0.9772643916704618, 0.2524967389071646, 0.11882199477984216, 0.13367474412732244, 0.495091644916009, 0.24778473634827322, 0.3642805452284315, 0.24778473634827322, 0.1405346265855878, 0.270498029751693, 0.32132409266682, 0.22225634291699614, 0.18607507779097351, 0.9290925470333448, 0.021481908601927047, 0.042963817203854095, 0.010740954300963524, 0.19542681086467495, 0.4577101622883176, 0.18256978383410424, 0.1619985405851911, 0.9757315291033833, 0.01343963339285794, 0.13439633392857941, 0.8332572703571923, 0.02687926678571588, 0.9383183286796805, 0.9626656128311805, 0.9754565289652434, 0.37449471708335397, 0.23125480225423703, 0.18983603170123936, 0.20364228855223857, 0.9408970689659354, 0.9627363907025217, 0.9576086648652831, 0.253510228764841, 0.43371629499527015, 0.13133662454082123, 0.18020606623042915, 0.9781391351116883, 0.9117334492075441, 0.9804681641558355, 0.9557620904566348, 0.9728662621252094, 0.02560174374013709, 0.20714852734163552, 0.24050295123562768, 0.3282777509566597, 0.22645898328026257, 0.020554763703733492, 0.9044096029642736, 0.020554763703733492, 0.08221905481493397, 0.06607090764640519, 0.022023635882135063, 0.9029690711675377, 0.9374203640169353, 0.977359193576178, 0.9347315748888277, 0.21567090137946288, 0.3649815254113987, 0.18823347901461998, 0.2309848115365845, 0.01788847398568888, 0.9302006472558216, 0.05366542195706663, 0.05211258329494799, 0.15633774988484395, 0.6253509995393758, 0.17370861098315996, 0.028824251002993073, 0.8503154045882957, 0.12970912951346883, 0.052770199194985386, 0.11726710932218974, 0.5804721911448393, 0.25212428504270795, 0.1386503912231807, 0.30701158056561445, 0.12544559205906827, 0.4291559728336546, 0.16003797186637092, 0.03500830634576864, 0.15503678524554682, 0.6501542607071318, 0.7426962822456602, 0.07510411842933643, 0.10013882457244856, 0.07510411842933643, 0.047792463284650116, 0.9080568024083523, 0.047792463284650116, 0.9267259189384031, 0.4957163665301285, 0.24077652088606244, 0.1642945671928426, 0.09914327330602571, 0.954160198721148, 0.0468112378043592, 0.590228650576703, 0.2849379692439256, 0.07937557714652213, 0.5052397883820295, 0.008420663139700493, 0.10525828924625616, 0.3789298412865222, 0.9527952704018934, 0.05731234412723435, 0.9169975060357496, 0.9729090487954388, 0.03376436762585678, 0.9622844773369182, 0.3125483601317503, 0.1303677651886445, 0.20725131901784513, 0.34931875544136803, 0.1433972790404898, 0.15733868116942631, 0.16132193892055102, 0.5377397964018368, 0.9620829989374033, 0.014348419638288493, 0.014348419638288493, 0.9756925354036176, 0.025637024902868087, 0.897295871600383, 0.07691107470860425, 0.07881850193775074, 0.019704625484437684, 0.09852312742218841, 0.8275942703463827, 0.9732029807883475, 0.9786549467726454, 0.9006647230525251, 0.09006647230525251, 0.009006647230525251, 0.9561580042588431, 0.9372829792850024, 0.9833298679512004, 0.936946367204875, 0.938130147308032, 0.6067491813493834, 0.3672429255535742, 0.003991770929930154, 0.023950625579580925, 0.9787152628321041, 0.0956044076771157, 0.8710623810581652, 0.0318681358923719, 0.9648148384980323, 0.014843305207662034, 0.29165504231718264, 0.45092765407904833, 0.16134108723929252, 0.09721834743906087, 0.9781957260992731, 0.978342233883079, 0.054927673845873846, 0.018309224615291282, 0.9337704553798554, 0.9592268824055179, 0.9589149750680028, 0.9573306382331603, 0.03706897643014039, 0.9637933871836502, 0.013509948044490232, 0.013509948044490232, 0.05403979217796093, 0.932186415069826, 0.267537102920515, 0.21350251563114994, 0.24249668442056535, 0.2767625202626018, 0.9646086918500573, 0.9623540336310035, 0.04862689524447271, 0.9239110096449814, 0.31555264254038345, 0.24238101528464234, 0.18750229484283654, 0.2547940591940984, 0.9740934803365341, 0.270531386138336, 0.30800759547351675, 0.23773970297005284, 0.18269652050900614, 0.9752949750865105, 0.3481439748696974, 0.21002163701378482, 0.2857051098115451, 0.15609716264538062, 0.9366452980838921, 0.03902688742016217, 0.07086282742708003, 0.8374697786836731, 0.05797867698579275, 0.0322103761032182, 0.024184592600290045, 0.9673837040116018, 0.441870711736618, 0.04593705419044049, 0.47905785084316505, 0.03281218156460035, 0.9679518298915734, 0.30704515328918636, 0.24917895132314738, 0.20076029253523722, 0.24327423683681687, 0.9519111457148914, 0.29250988991630406, 0.31386775489431995, 0.2312221034576499, 0.1625054943979467, 0.25352671295218704, 0.22394859644109855, 0.025352671295218704, 0.4986025354726345, 0.957547460767467, 0.9763143610687197, 0.023919987735361636, 0.023919987735361636, 0.9328795216791038, 0.33117490264405963, 0.2674874213663559, 0.1937919073164415, 0.20743922473309231, 0.26508433846521734, 0.30266334430128267, 0.23156792785467264, 0.2000828148568882, 0.978219148556831, 0.937313372663099, 0.9763979195742302, 0.9390332831787038, 0.9373492405933417, 0.010941229442573086, 0.9737694203890046, 0.021882458885146172, 0.03925209627671728, 0.03925209627671728, 0.03925209627671728, 0.9420503106412148, 0.9056286521975988, 0.0754690543497999, 0.0206750953585212, 0.9165958942277732, 0.0482418891698828, 0.0206750953585212, 0.9531121084962835, 0.837864666791106, 0.04409814035742663, 0.033073605268069975, 0.08819628071485326, 0.20945105237492326, 0.335462254616747, 0.03575993577132836, 0.4189021047498465, 0.2710459365902411, 0.2601313351168086, 0.22011112971422264, 0.24830718352059, 0.9334619518116289, 0.06087795337901928, 0.27741141950436166, 0.2533437621044399, 0.2698111066412285, 0.20014157206250752, 0.3211665055098187, 0.28384174946408297, 0.17794360440408874, 0.21700439561474236, 0.9798460583246665, 0.1468980618581644, 0.4593903025382596, 0.14155631415423114, 0.2537330159368294], \"Term\": [\"aadhi\", \"aadhi\", \"abel\", \"abel\", \"aby\", \"achu\", \"adi\", \"adi\", \"adi\", \"afghan\", \"afghan\", \"agathiyar\", \"agathiyar\", \"aishwarya\", \"aishwarya\", \"aishwarya\", \"ajay\", \"ajay\", \"ajay\", \"ajay\", \"akbar\", \"akbar\", \"akbar\", \"akhanda\", \"akhil\", \"akhil\", \"amavas\", \"amavasai\", \"ammaiyar\", \"ammi\", \"ammi\", \"anand\", \"anand\", \"anand\", \"anand\", \"anjana\", \"anjana\", \"ann\", \"ann\", \"anna\", \"anna\", \"annaamalai\", \"anto\", \"anto\", \"antony\", \"antony\", \"antony\", \"aravi\", \"aravind\", \"aravind\", \"aravind\", \"aravind\", \"arun\", \"arun\", \"arun\", \"arun\", \"aruna\", \"aruna\", \"aruna\", \"aruna\", \"arya\", \"arya\", \"arya\", \"ashok\", \"ashok\", \"ashok\", \"ashok\", \"ayyu\", \"ayyu\", \"azhar\", \"azhar\", \"bala\", \"bala\", \"bala\", \"bala\", \"balli\", \"bama\", \"bangarraju\", \"benny\", \"benny\", \"bhadra\", \"bhadra\", \"bhooloham\", \"bikram\", \"bikram\", \"bikram\", \"breaker\", \"brishti\", \"brother\", \"brother\", \"brother\", \"brother\", \"bukka\", \"bulla\", \"catherine\", \"chakravarthy\", \"chakravarthy\", \"chakravarthy\", \"chakravarthy\", \"chandra\", \"chandra\", \"chandra\", \"chandra\", \"chandu\", \"chandu\", \"chandu\", \"chandu\", \"charan\", \"charan\", \"charan\", \"charan\", \"charlie\", \"charlie\", \"charlie\", \"charlies\", \"child\", \"child\", \"child\", \"child\", \"come\", \"come\", \"come\", \"come\", \"dada\", \"dada\", \"dada\", \"dada\", \"daughter\", \"daughter\", \"daughter\", \"daughter\", \"david\", \"david\", \"david\", \"david\", \"day\", \"day\", \"day\", \"day\", \"death\", \"death\", \"death\", \"death\", \"decides\", \"decides\", \"decides\", \"decides\", \"desingu\", \"devi\", \"devi\", \"devi\", \"devi\", \"dharam\", \"dharam\", \"dora\", \"dora\", \"dora\", \"duraipandi\", \"elango\", \"elango\", \"end\", \"end\", \"end\", \"end\", \"fall\", \"fall\", \"fall\", \"fall\", \"family\", \"family\", \"family\", \"family\", \"father\", \"father\", \"father\", \"father\", \"film\", \"film\", \"film\", \"film\", \"find\", \"find\", \"find\", \"find\", \"friend\", \"friend\", \"friend\", \"friend\", \"gajendra\", \"gajodhar\", \"gana\", \"ganesan\", \"ganesan\", \"ganesan\", \"ganesan\", \"ganesh\", \"ganesh\", \"ganesh\", \"ganesh\", \"gang\", \"gang\", \"gang\", \"gang\", \"gautham\", \"gautham\", \"gautham\", \"gautham\", \"get\", \"get\", \"get\", \"get\", \"girl\", \"girl\", \"girl\", \"girl\", \"go\", \"go\", \"go\", \"go\", \"god\", \"god\", \"god\", \"god\", \"gourav\", \"gourav\", \"goutham\", \"guna\", \"guna\", \"guru\", \"guru\", \"guru\", \"guru\", \"gurumurthy\", \"haribabu\", \"hariya\", \"help\", \"help\", \"help\", \"help\", \"home\", \"home\", \"home\", \"home\", \"house\", \"house\", \"house\", \"house\", \"inayat\", \"jai\", \"jai\", \"jai\", \"jai\", \"jaidev\", \"janaki\", \"janaki\", \"janaki\", \"janaki\", \"jeeva\", \"jeeva\", \"jeeva\", \"jhunku\", \"jiah\", \"job\", \"job\", \"job\", \"job\", \"john\", \"john\", \"john\", \"john\", \"jumbo\", \"jumbo\", \"k\", \"k\", \"k\", \"k\", \"kaalaiyan\", \"kaalaiyan\", \"kalidasa\", \"kalidasa\", \"karanvir\", \"karnan\", \"karuppu\", \"karuppu\", \"kathir\", \"kathir\", \"keibu\", \"keioiba\", \"kencha\", \"kicha\", \"kichcha\", \"kichu\", \"kill\", \"kill\", \"kill\", \"kill\", \"killed\", \"killed\", \"killed\", \"killed\", \"kishtayya\", \"kranti\", \"krishna\", \"krishna\", \"krishna\", \"krishna\", \"krishnanunni\", \"kumar\", \"kumar\", \"kumar\", \"kumar\", \"laila\", \"laila\", \"laila\", \"laila\", \"lajjo\", \"lajjo\", \"lakshmi\", \"lakshmi\", \"lakshmi\", \"lakshmi\", \"later\", \"later\", \"later\", \"later\", \"life\", \"life\", \"life\", \"life\", \"lingam\", \"love\", \"love\", \"love\", \"love\", \"madan\", \"madan\", \"madan\", \"madan\", \"madhav\", \"madhav\", \"madhav\", \"madhav\", \"mahavir\", \"man\", \"man\", \"man\", \"man\", \"manda\", \"manik\", \"manikam\", \"manmohan\", \"manya\", \"manya\", \"maruti\", \"maruti\", \"mattu\", \"meera\", \"meera\", \"meera\", \"meera\", \"meet\", \"meet\", \"meet\", \"meet\", \"megh\", \"mhatre\", \"mohan\", \"mohan\", \"mohan\", \"mohan\", \"money\", \"money\", \"money\", \"money\", \"mother\", \"mother\", \"mother\", \"mother\", \"munna\", \"munna\", \"munna\", \"munna\", \"murder\", \"murder\", \"murder\", \"murder\", \"murugavel\", \"muthu\", \"muthu\", \"muthu\", \"muthu\", \"muthupandi\", \"mynaa\", \"nallathambi\", \"named\", \"named\", \"named\", \"named\", \"narappa\", \"narathar\", \"neerja\", \"officer\", \"officer\", \"officer\", \"officer\", \"osthi\", \"padmanabham\", \"paramvir\", \"parashuram\", \"parasuram\", \"parasuram\", \"parent\", \"parent\", \"parent\", \"parent\", \"pasupathy\", \"pasupathy\", \"pasupathy\", \"pasupathy\", \"payal\", \"payal\", \"payal\", \"pazhani\", \"pettai\", \"pintoo\", \"police\", \"police\", \"police\", \"police\", \"prabhakaran\", \"prabhakaran\", \"prabhakaran\", \"pratap\", \"pratap\", \"pratap\", \"pratap\", \"radhika\", \"radhika\", \"radhika\", \"raghu\", \"raghu\", \"raghu\", \"raghu\", \"raj\", \"raj\", \"raj\", \"raj\", \"raja\", \"raja\", \"raja\", \"raja\", \"rajesh\", \"rajesh\", \"rajesh\", \"rajesh\", \"rajiv\", \"rajiv\", \"rajiv\", \"rajiva\", \"raju\", \"raju\", \"raju\", \"raju\", \"rakhi\", \"ram\", \"ram\", \"ram\", \"ram\", \"rama\", \"rama\", \"rama\", \"rama\", \"ramakrishnan\", \"ramanathan\", \"ramanathan\", \"ramaraju\", \"rambabu\", \"rambabu\", \"rao\", \"rao\", \"rao\", \"rao\", \"ravi\", \"ravi\", \"ravi\", \"ravi\", \"revanth\", \"romeo\", \"romeo\", \"romeo\", \"rustom\", \"rustom\", \"rustom\", \"sachin\", \"sachin\", \"sachin\", \"sachin\", \"sahej\", \"sambandham\", \"sandeep\", \"sandeep\", \"sandeep\", \"sandeeps\", \"sarasu\", \"satakarni\", \"sathyam\", \"sathyamoorthy\", \"satya\", \"satya\", \"satya\", \"satya\", \"savi\", \"selvam\", \"selvam\", \"selvam\", \"shaji\", \"shaji\", \"shankar\", \"shankar\", \"shankar\", \"shankar\", \"shanmugi\", \"shashank\", \"shekar\", \"shekar\", \"shekar\", \"shirley\", \"shoaib\", \"sibu\", \"siddhartha\", \"siddhartha\", \"singam\", \"singam\", \"singam\", \"singam\", \"sister\", \"sister\", \"sister\", \"sister\", \"sivagiri\", \"sivagurunathan\", \"sivakasi\", \"sivakasi\", \"son\", \"son\", \"son\", \"son\", \"stanley\", \"start\", \"start\", \"start\", \"start\", \"stf\", \"story\", \"story\", \"story\", \"story\", \"sudhir\", \"sudhir\", \"suraj\", \"suraj\", \"suraj\", \"suraj\", \"suru\", \"suru\", \"surya\", \"surya\", \"surya\", \"surya\", \"susheel\", \"take\", \"take\", \"take\", \"take\", \"tanhaji\", \"tell\", \"tell\", \"tell\", \"tell\", \"terrorist\", \"terrorist\", \"terrorist\", \"terrorist\", \"thabaton\", \"thirumurthy\", \"thyagu\", \"thyagu\", \"thyagu\", \"time\", \"time\", \"time\", \"time\", \"try\", \"try\", \"try\", \"try\", \"tukaram\", \"udhayappan\", \"vanaja\", \"veeran\", \"veerapandi\", \"veerappan\", \"veerappan\", \"veerappan\", \"veeru\", \"veeru\", \"veeru\", \"veeru\", \"velan\", \"velan\", \"velu\", \"velu\", \"velu\", \"velu\", \"venkatesan\", \"venu\", \"venu\", \"venu\", \"venu\", \"vijay\", \"vijay\", \"vijay\", \"vijay\", \"village\", \"village\", \"village\", \"village\", \"vk\", \"vk\", \"want\", \"want\", \"want\", \"want\", \"wife\", \"wife\", \"wife\", \"wife\", \"yuvi\", \"\\u2019\", \"\\u2019\", \"\\u2019\", \"\\u2019\"]}, \"R\": 30, \"lambda.step\": 0.01, \"plot.opts\": {\"xlab\": \"PC1\", \"ylab\": \"PC2\"}, \"topic.order\": [4, 3, 2, 1]};\n",
              "\n",
              "function LDAvis_load_lib(url, callback){\n",
              "  var s = document.createElement('script');\n",
              "  s.src = url;\n",
              "  s.async = true;\n",
              "  s.onreadystatechange = s.onload = callback;\n",
              "  s.onerror = function(){console.warn(\"failed to load library \" + url);};\n",
              "  document.getElementsByTagName(\"head\")[0].appendChild(s);\n",
              "}\n",
              "\n",
              "if(typeof(LDAvis) !== \"undefined\"){\n",
              "   // already loaded: just create the visualization\n",
              "   !function(LDAvis){\n",
              "       new LDAvis(\"#\" + \"ldavis_el731400644548324649495273541\", ldavis_el731400644548324649495273541_data);\n",
              "   }(LDAvis);\n",
              "}else if(typeof define === \"function\" && define.amd){\n",
              "   // require.js is available: use it to load d3/LDAvis\n",
              "   require.config({paths: {d3: \"https://d3js.org/d3.v5\"}});\n",
              "   require([\"d3\"], function(d3){\n",
              "      window.d3 = d3;\n",
              "      LDAvis_load_lib(\"https://cdn.jsdelivr.net/gh/bmabey/pyLDAvis@3.3.1/pyLDAvis/js/ldavis.v3.0.0.js\", function(){\n",
              "        new LDAvis(\"#\" + \"ldavis_el731400644548324649495273541\", ldavis_el731400644548324649495273541_data);\n",
              "      });\n",
              "    });\n",
              "}else{\n",
              "    // require.js not available: dynamically load d3 & LDAvis\n",
              "    LDAvis_load_lib(\"https://d3js.org/d3.v5.js\", function(){\n",
              "         LDAvis_load_lib(\"https://cdn.jsdelivr.net/gh/bmabey/pyLDAvis@3.3.1/pyLDAvis/js/ldavis.v3.0.0.js\", function(){\n",
              "                 new LDAvis(\"#\" + \"ldavis_el731400644548324649495273541\", ldavis_el731400644548324649495273541_data);\n",
              "            })\n",
              "         });\n",
              "}\n",
              "</script>"
            ]
          },
          "metadata": {},
          "execution_count": 80
        }
      ]
    }
  ]
}