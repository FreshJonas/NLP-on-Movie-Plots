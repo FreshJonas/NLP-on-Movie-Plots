{
 "cells": [
  {
   "cell_type": "markdown",
   "metadata": {},
   "source": [
    "# 01 Obtaining Data\n",
    "In this section the data will get fetched from the Wikipedia API. The data should consist of Indian Movie Titles and their plots as well as American Movie Titles and their plots. "
   ]
  },
  {
   "cell_type": "code",
   "execution_count": 1,
   "metadata": {},
   "outputs": [],
   "source": [
    "import pandas as pd\n",
    "import wikipediaapi\n",
    "wiki_wiki = wikipediaapi.Wikipedia('en')"
   ]
  },
  {
   "cell_type": "markdown",
   "metadata": {},
   "source": [
    "## Functions"
   ]
  },
  {
   "cell_type": "code",
   "execution_count": 2,
   "metadata": {},
   "outputs": [],
   "source": [
    "# getting all pages from category\n",
    "def get_PagesInCategory(categorymembers, level=0, max_level=1):\n",
    "    pages = []\n",
    "    for c in categorymembers.values():\n",
    "\n",
    "        if not (\n",
    "                c.title.__contains__(\"Category:\") \n",
    "                or c.title.__contains__(\"List of\") \n",
    "                or c.title.__contains__(\"Lists of\")\n",
    "            ):\n",
    "\n",
    "            pages.append(c)\n",
    "\n",
    "        if c.ns == wikipediaapi.Namespace.CATEGORY and level < max_level:\n",
    "            pages += get_PagesInCategory(c.categorymembers, level=level + 1, max_level=max_level)\n",
    "    \n",
    "    return pages"
   ]
  },
  {
   "cell_type": "code",
   "execution_count": 3,
   "metadata": {},
   "outputs": [],
   "source": [
    "# takes long since entire page text gets loaded for each page\n",
    "def get_PlotsFromPages(pages, max_plots, max_length, min_length=0):\n",
    "    plots = []\n",
    "    for page in pages:\n",
    "        sections = page.sections\n",
    "        if(len(sections) > 0 ):\n",
    "            \n",
    "            plot_length = len(sections[0].text)\n",
    "            if(sections[0].title == \"Plot\" and plot_length > min_length and plot_length <= max_length):\n",
    "                plots.append({\"title\":page.title, \"plot\":sections[0].text})\n",
    "\n",
    "                # Max plots\n",
    "                if len(plots) >= max_plots:\n",
    "                    break\n",
    "    \n",
    "    return plots"
   ]
  },
  {
   "cell_type": "markdown",
   "metadata": {},
   "source": [
    "## Indian Film Plots"
   ]
  },
  {
   "cell_type": "code",
   "execution_count": 4,
   "metadata": {},
   "outputs": [
    {
     "name": "stdout",
     "output_type": "stream",
     "text": [
      "7662\n"
     ]
    }
   ],
   "source": [
    "ind_cat = wiki_wiki.page(\"Category:Indian_films_by_genre\")\n",
    "\n",
    "# Can lead to an error when internet connection gets interrupted\n",
    "try:\n",
    "    ind_pages = get_PagesInCategory(ind_cat.categorymembers, level=0, max_level=1)\n",
    "    print(len(ind_pages))\n",
    "except:\n",
    "    print(\"An error occured. Try again.\")"
   ]
  },
  {
   "cell_type": "code",
   "execution_count": 5,
   "metadata": {},
   "outputs": [
    {
     "name": "stdout",
     "output_type": "stream",
     "text": [
      "An error occured. Try again.\n"
     ]
    }
   ],
   "source": [
    "try:\n",
    "    ind_plots = get_PlotsFromPages(ind_pages, max_plots=2000, max_length=6000, min_length=200)\n",
    "    len(ind_plots)\n",
    "except:\n",
    "    print(\"An error occured. Try again.\")"
   ]
  },
  {
   "cell_type": "code",
   "execution_count": 6,
   "metadata": {},
   "outputs": [
    {
     "ename": "NameError",
     "evalue": "name 'ind_plots' is not defined",
     "output_type": "error",
     "traceback": [
      "\u001B[1;31m---------------------------------------------------------------------------\u001B[0m",
      "\u001B[1;31mNameError\u001B[0m                                 Traceback (most recent call last)",
      "Input \u001B[1;32mIn [6]\u001B[0m, in \u001B[0;36m<module>\u001B[1;34m\u001B[0m\n\u001B[1;32m----> 1\u001B[0m ind_df \u001B[38;5;241m=\u001B[39m pd\u001B[38;5;241m.\u001B[39mDataFrame(\u001B[43mind_plots\u001B[49m)\n\u001B[0;32m      2\u001B[0m ind_df\u001B[38;5;241m.\u001B[39mhead()\n",
      "\u001B[1;31mNameError\u001B[0m: name 'ind_plots' is not defined"
     ]
    }
   ],
   "source": [
    "ind_df = pd.DataFrame(ind_plots)\n",
    "ind_df.head()"
   ]
  },
  {
   "cell_type": "code",
   "execution_count": null,
   "metadata": {},
   "outputs": [],
   "source": [
    "ind_df.to_csv('../data/indian_plots.csv')"
   ]
  },
  {
   "cell_type": "markdown",
   "metadata": {},
   "source": [
    "## American Film Plots"
   ]
  },
  {
   "cell_type": "code",
   "execution_count": null,
   "metadata": {},
   "outputs": [],
   "source": [
    "amer_cat = wiki_wiki.page(\"Category:American_films_by_genre\")\n",
    "\n",
    "try:\n",
    "    amer_pages = get_PagesInCategory(amer_cat.categorymembers, level=0, max_level=1)\n",
    "    print(len(amer_pages))\n",
    "except:\n",
    "    print(\"An error occured. Try again.\")"
   ]
  },
  {
   "cell_type": "code",
   "execution_count": null,
   "metadata": {},
   "outputs": [],
   "source": [
    "try:\n",
    "    amer_plots = get_PlotsFromPages(amer_pages, max_plots=2000, max_length=6000, min_length=200)\n",
    "    len(amer_plots)\n",
    "except:\n",
    "    print(\"An error occured. Try again.\")"
   ]
  },
  {
   "cell_type": "code",
   "execution_count": null,
   "metadata": {},
   "outputs": [],
   "source": [
    "amer_df = pd.DataFrame(amer_plots)\n",
    "amer_df.head()"
   ]
  },
  {
   "cell_type": "code",
   "execution_count": null,
   "metadata": {},
   "outputs": [],
   "source": [
    "amer_df.to_csv('../data/american_plots.csv')"
   ]
  }
 ],
 "metadata": {
  "kernelspec": {
   "display_name": "Python 3.10.0 64-bit",
   "language": "python",
   "name": "python3"
  },
  "language_info": {
   "codemirror_mode": {
    "name": "ipython",
    "version": 3
   },
   "file_extension": ".py",
   "mimetype": "text/x-python",
   "name": "python",
   "nbconvert_exporter": "python",
   "pygments_lexer": "ipython3",
   "version": "3.10.0"
  },
  "orig_nbformat": 4,
  "vscode": {
   "interpreter": {
    "hash": "69a9235b2799f09bc7a4d7fc4018927df298a0a697379818c8dec9478f72590e"
   }
  }
 },
 "nbformat": 4,
 "nbformat_minor": 2
}