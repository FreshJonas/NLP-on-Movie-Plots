{
 "cells": [
  {
   "cell_type": "markdown",
   "metadata": {},
   "source": [
    "# 01 Obtaining Data\n",
    "In this section the data will get fetched from the Wikipedia API. The data should consist of Indian Movie Titles and their plots as well as American Movie Titles and their plots. "
   ]
  },
  {
   "cell_type": "code",
   "execution_count": 2,
   "metadata": {},
   "outputs": [],
   "source": [
    "import pandas as pd\n",
    "import wikipediaapi\n",
    "wiki_wiki = wikipediaapi.Wikipedia('en')"
   ]
  },
  {
   "cell_type": "markdown",
   "metadata": {},
   "source": [
    "## Functions"
   ]
  },
  {
   "cell_type": "code",
   "execution_count": 3,
   "metadata": {},
   "outputs": [],
   "source": [
    "# getting all pages from category\n",
    "def get_PagesInCategory(categorymembers, level=0, max_level=1):\n",
    "    pages = []\n",
    "    for c in categorymembers.values():\n",
    "\n",
    "        if not (\n",
    "                c.title.__contains__(\"Category:\") \n",
    "                or c.title.__contains__(\"List of\") \n",
    "                or c.title.__contains__(\"Lists of\")\n",
    "            ):\n",
    "\n",
    "            pages.append(c)\n",
    "\n",
    "        if c.ns == wikipediaapi.Namespace.CATEGORY and level < max_level:\n",
    "            pages += get_PagesInCategory(c.categorymembers, level=level + 1, max_level=max_level)\n",
    "    \n",
    "    return pages"
   ]
  },
  {
   "cell_type": "code",
   "execution_count": 4,
   "metadata": {},
   "outputs": [],
   "source": [
    "# takes long since entire page text gets loaded for each page\n",
    "def get_PlotsFromPages(pages, max_plots, max_length, min_length=0):\n",
    "    plots = []\n",
    "    for page in pages:\n",
    "        sections = page.sections\n",
    "        if(len(sections) > 0 ):\n",
    "            \n",
    "            plot_length = len(sections[0].text)\n",
    "            if(sections[0].title == \"Plot\" and plot_length > min_length and plot_length <= max_length):\n",
    "                plots.append({\"title\":page.title, \"plot\":sections[0].text})\n",
    "\n",
    "                # Max plots\n",
    "                if len(plots) >= max_plots:\n",
    "                    break\n",
    "    \n",
    "    return plots"
   ]
  },
  {
   "cell_type": "markdown",
   "metadata": {},
   "source": [
    "## Indian Film Plots"
   ]
  },
  {
   "cell_type": "code",
   "execution_count": 5,
   "metadata": {},
   "outputs": [
    {
     "name": "stdout",
     "output_type": "stream",
     "text": [
      "7655\n"
     ]
    }
   ],
   "source": [
    "ind_cat = wiki_wiki.page(\"Category:Indian_films_by_genre\")\n",
    "\n",
    "# Can lead to an error when internet connection gets interrupted\n",
    "try:\n",
    "    ind_pages = get_PagesInCategory(ind_cat.categorymembers, level=0, max_level=1)\n",
    "    print(len(ind_pages))\n",
    "except:\n",
    "    print(\"An error occured. Try again.\")"
   ]
  },
  {
   "cell_type": "code",
   "execution_count": 6,
   "metadata": {},
   "outputs": [
    {
     "data": {
      "text/plain": [
       "2000"
      ]
     },
     "execution_count": 6,
     "metadata": {},
     "output_type": "execute_result"
    }
   ],
   "source": [
    "try:\n",
    "    ind_plots = get_PlotsFromPages(ind_pages, max_plots=2000, max_length=6000, min_length=200)\n",
    "    len(ind_plots)\n",
    "except:\n",
    "    print(\"An error occured. Try again.\")"
   ]
  },
  {
   "cell_type": "code",
   "execution_count": 7,
   "metadata": {},
   "outputs": [
    {
     "data": {
      "text/html": [
       "<div>\n",
       "<style scoped>\n",
       "    .dataframe tbody tr th:only-of-type {\n",
       "        vertical-align: middle;\n",
       "    }\n",
       "\n",
       "    .dataframe tbody tr th {\n",
       "        vertical-align: top;\n",
       "    }\n",
       "\n",
       "    .dataframe thead th {\n",
       "        text-align: right;\n",
       "    }\n",
       "</style>\n",
       "<table border=\"1\" class=\"dataframe\">\n",
       "  <thead>\n",
       "    <tr style=\"text-align: right;\">\n",
       "      <th></th>\n",
       "      <th>title</th>\n",
       "      <th>plot</th>\n",
       "    </tr>\n",
       "  </thead>\n",
       "  <tbody>\n",
       "    <tr>\n",
       "      <th>0</th>\n",
       "      <td>4 the People</td>\n",
       "      <td>Aravind (Arun), Vivek (Bharath), Eshwar (Arjun...</td>\n",
       "    </tr>\n",
       "    <tr>\n",
       "      <th>1</th>\n",
       "      <td>Aa Gaya Hero</td>\n",
       "      <td>ACP Ravindra Varma (Govinda) is a daredevil an...</td>\n",
       "    </tr>\n",
       "    <tr>\n",
       "      <th>2</th>\n",
       "      <td>Aadmi (1993 film)</td>\n",
       "      <td>Aadmi is the story of an honest man (Vijay M. ...</td>\n",
       "    </tr>\n",
       "    <tr>\n",
       "      <th>3</th>\n",
       "      <td>Aadu Puli Attam (1977 film)</td>\n",
       "      <td>The movie starts with Kamal and Rajini, close ...</td>\n",
       "    </tr>\n",
       "    <tr>\n",
       "      <th>4</th>\n",
       "      <td>Aag Aandhi Aur Toofan</td>\n",
       "      <td>The story revolves around attempts by several ...</td>\n",
       "    </tr>\n",
       "  </tbody>\n",
       "</table>\n",
       "</div>"
      ],
      "text/plain": [
       "                         title  \\\n",
       "0                 4 the People   \n",
       "1                 Aa Gaya Hero   \n",
       "2            Aadmi (1993 film)   \n",
       "3  Aadu Puli Attam (1977 film)   \n",
       "4        Aag Aandhi Aur Toofan   \n",
       "\n",
       "                                                plot  \n",
       "0  Aravind (Arun), Vivek (Bharath), Eshwar (Arjun...  \n",
       "1  ACP Ravindra Varma (Govinda) is a daredevil an...  \n",
       "2  Aadmi is the story of an honest man (Vijay M. ...  \n",
       "3  The movie starts with Kamal and Rajini, close ...  \n",
       "4  The story revolves around attempts by several ...  "
      ]
     },
     "execution_count": 7,
     "metadata": {},
     "output_type": "execute_result"
    }
   ],
   "source": [
    "ind_df = pd.DataFrame(ind_plots)\n",
    "ind_df.head()"
   ]
  },
  {
   "cell_type": "code",
   "execution_count": 8,
   "metadata": {},
   "outputs": [],
   "source": [
    "ind_df.to_csv('../data/indian_plots.csv')"
   ]
  },
  {
   "cell_type": "markdown",
   "metadata": {},
   "source": [
    "## American Film Plots"
   ]
  },
  {
   "cell_type": "code",
   "execution_count": 9,
   "metadata": {},
   "outputs": [
    {
     "name": "stdout",
     "output_type": "stream",
     "text": [
      "33908\n"
     ]
    }
   ],
   "source": [
    "amer_cat = wiki_wiki.page(\"Category:American_films_by_genre\")\n",
    "\n",
    "try:\n",
    "    amer_pages = get_PagesInCategory(amer_cat.categorymembers, level=0, max_level=1)\n",
    "    print(len(amer_pages))\n",
    "except:\n",
    "    print(\"An error occured. Try again.\")"
   ]
  },
  {
   "cell_type": "code",
   "execution_count": 10,
   "metadata": {},
   "outputs": [
    {
     "data": {
      "text/plain": [
       "2000"
      ]
     },
     "execution_count": 10,
     "metadata": {},
     "output_type": "execute_result"
    }
   ],
   "source": [
    "try:\n",
    "    amer_plots = get_PlotsFromPages(amer_pages, max_plots=2000, max_length=6000, min_length=200)\n",
    "    len(amer_plots)\n",
    "except:\n",
    "    print(\"An error occured. Try again.\")"
   ]
  },
  {
   "cell_type": "code",
   "execution_count": 11,
   "metadata": {},
   "outputs": [
    {
     "data": {
      "text/html": [
       "<div>\n",
       "<style scoped>\n",
       "    .dataframe tbody tr th:only-of-type {\n",
       "        vertical-align: middle;\n",
       "    }\n",
       "\n",
       "    .dataframe tbody tr th {\n",
       "        vertical-align: top;\n",
       "    }\n",
       "\n",
       "    .dataframe thead th {\n",
       "        text-align: right;\n",
       "    }\n",
       "</style>\n",
       "<table border=\"1\" class=\"dataframe\">\n",
       "  <thead>\n",
       "    <tr style=\"text-align: right;\">\n",
       "      <th></th>\n",
       "      <th>title</th>\n",
       "      <th>plot</th>\n",
       "    </tr>\n",
       "  </thead>\n",
       "  <tbody>\n",
       "    <tr>\n",
       "      <th>0</th>\n",
       "      <td>10.0 Earthquake</td>\n",
       "      <td>As a series of minor earthquakes start tearing...</td>\n",
       "    </tr>\n",
       "    <tr>\n",
       "      <th>1</th>\n",
       "      <td>12 Rounds (film)</td>\n",
       "      <td>A sting operation to capture arms dealer Miles...</td>\n",
       "    </tr>\n",
       "    <tr>\n",
       "      <th>2</th>\n",
       "      <td>12 Rounds 3: Lockdown</td>\n",
       "      <td>Detective Tyler Burke  and his two men infiltr...</td>\n",
       "    </tr>\n",
       "    <tr>\n",
       "      <th>3</th>\n",
       "      <td>200 mph</td>\n",
       "      <td>When the older brother (Tommy Nash) he idolize...</td>\n",
       "    </tr>\n",
       "    <tr>\n",
       "      <th>4</th>\n",
       "      <td>Ablaze (2001 film)</td>\n",
       "      <td>Andrew Thomas is an agent tasked with recordin...</td>\n",
       "    </tr>\n",
       "  </tbody>\n",
       "</table>\n",
       "</div>"
      ],
      "text/plain": [
       "                   title                                               plot\n",
       "0        10.0 Earthquake  As a series of minor earthquakes start tearing...\n",
       "1       12 Rounds (film)  A sting operation to capture arms dealer Miles...\n",
       "2  12 Rounds 3: Lockdown  Detective Tyler Burke  and his two men infiltr...\n",
       "3                200 mph  When the older brother (Tommy Nash) he idolize...\n",
       "4     Ablaze (2001 film)  Andrew Thomas is an agent tasked with recordin..."
      ]
     },
     "execution_count": 11,
     "metadata": {},
     "output_type": "execute_result"
    }
   ],
   "source": [
    "amer_df = pd.DataFrame(amer_plots)\n",
    "amer_df.head()"
   ]
  },
  {
   "cell_type": "code",
   "execution_count": 12,
   "metadata": {},
   "outputs": [],
   "source": [
    "amer_df.to_csv('../data/american_plots.csv')"
   ]
  }
 ],
 "metadata": {
  "kernelspec": {
   "display_name": "Python 3.10.0 64-bit",
   "language": "python",
   "name": "python3"
  },
  "language_info": {
   "codemirror_mode": {
    "name": "ipython",
    "version": 3
   },
   "file_extension": ".py",
   "mimetype": "text/x-python",
   "name": "python",
   "nbconvert_exporter": "python",
   "pygments_lexer": "ipython3",
   "version": "3.10.0"
  },
  "orig_nbformat": 4,
  "vscode": {
   "interpreter": {
    "hash": "69a9235b2799f09bc7a4d7fc4018927df298a0a697379818c8dec9478f72590e"
   }
  }
 },
 "nbformat": 4,
 "nbformat_minor": 2
}
