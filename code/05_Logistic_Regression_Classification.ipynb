{
 "cells": [
  {
   "cell_type": "markdown",
   "metadata": {
    "collapsed": true,
    "pycharm": {
     "name": "#%% md\n"
    }
   },
   "source": [
    "## Text Classification with LogisticRegression"
   ]
  },
  {
   "cell_type": "code",
   "execution_count": 220,
   "outputs": [],
   "source": [
    "import pandas as pd\n",
    "import seaborn as sns\n",
    "import numpy as np\n",
    "from sklearn.model_selection import GridSearchCV\n",
    "from sklearn.metrics import accuracy_score\n",
    "from sklearn.model_selection import train_test_split\n",
    "from sklearn.linear_model import LogisticRegression\n",
    "from sklearn.feature_extraction.text import CountVectorizer"
   ],
   "metadata": {
    "collapsed": false,
    "pycharm": {
     "name": "#%%\n"
    }
   }
  },
  {
   "cell_type": "markdown",
   "source": [
    "### Read dataset"
   ],
   "metadata": {
    "collapsed": false,
    "pycharm": {
     "name": "#%% md\n"
    }
   }
  },
  {
   "cell_type": "code",
   "execution_count": 221,
   "outputs": [
    {
     "data": {
      "text/plain": "                   title                                               plot  \\\n0        10.0 Earthquake  As a series of minor earthquakes start tearing...   \n1       12 Rounds (film)  A sting operation to capture arms dealer Miles...   \n2  12 Rounds 3: Lockdown  Detective Tyler Burke  and his two men infiltr...   \n3                200 mph  When the older brother (Tommy Nash) he idolize...   \n4     Ablaze (2001 film)  Andrew Thomas is an agent tasked with recordin...   \n\n   is_indian  \n0          0  \n1          0  \n2          0  \n3          0  \n4          0  ",
      "text/html": "<div>\n<style scoped>\n    .dataframe tbody tr th:only-of-type {\n        vertical-align: middle;\n    }\n\n    .dataframe tbody tr th {\n        vertical-align: top;\n    }\n\n    .dataframe thead th {\n        text-align: right;\n    }\n</style>\n<table border=\"1\" class=\"dataframe\">\n  <thead>\n    <tr style=\"text-align: right;\">\n      <th></th>\n      <th>title</th>\n      <th>plot</th>\n      <th>is_indian</th>\n    </tr>\n  </thead>\n  <tbody>\n    <tr>\n      <th>0</th>\n      <td>10.0 Earthquake</td>\n      <td>As a series of minor earthquakes start tearing...</td>\n      <td>0</td>\n    </tr>\n    <tr>\n      <th>1</th>\n      <td>12 Rounds (film)</td>\n      <td>A sting operation to capture arms dealer Miles...</td>\n      <td>0</td>\n    </tr>\n    <tr>\n      <th>2</th>\n      <td>12 Rounds 3: Lockdown</td>\n      <td>Detective Tyler Burke  and his two men infiltr...</td>\n      <td>0</td>\n    </tr>\n    <tr>\n      <th>3</th>\n      <td>200 mph</td>\n      <td>When the older brother (Tommy Nash) he idolize...</td>\n      <td>0</td>\n    </tr>\n    <tr>\n      <th>4</th>\n      <td>Ablaze (2001 film)</td>\n      <td>Andrew Thomas is an agent tasked with recordin...</td>\n      <td>0</td>\n    </tr>\n  </tbody>\n</table>\n</div>"
     },
     "execution_count": 221,
     "metadata": {},
     "output_type": "execute_result"
    }
   ],
   "source": [
    "df = pd.read_csv('../data/merged_plots.csv', index_col=0)\n",
    "df.head()"
   ],
   "metadata": {
    "collapsed": false,
    "pycharm": {
     "name": "#%%\n"
    }
   }
  },
  {
   "cell_type": "code",
   "execution_count": 222,
   "outputs": [
    {
     "data": {
      "text/plain": "                         title  \\\n0              10.0 Earthquake   \n1             12 Rounds (film)   \n2        12 Rounds 3: Lockdown   \n3                      200 mph   \n4           Ablaze (2001 film)   \n...                        ...   \n3995             Choked (film)   \n3996                   Chumbak   \n3997  Chungakkarum Veshyakalum   \n3998                    Chuzhi   \n3999          Cinema Paithiyam   \n\n                                                   plot  is_indian  \n0     As a series of minor earthquakes start tearing...          0  \n1     A sting operation to capture arms dealer Miles...          0  \n2     Detective Tyler Burke  and his two men infiltr...          0  \n3     When the older brother (Tommy Nash) he idolize...          0  \n4     Andrew Thomas is an agent tasked with recordin...          0  \n...                                                 ...        ...  \n3995  Sarita Pillai and Sushant Pillai are a married...          1  \n3996  Chumbak is a coming-of-age story of Baalu, a t...          1  \n3997  Chungakkarum Veshyakalum is the story of a Mal...          1  \n3998  Varghese is a planter who lives with his wife ...          1  \n3999  Jaya is a cinephile. So obsessed is she with c...          1  \n\n[4000 rows x 3 columns]",
      "text/html": "<div>\n<style scoped>\n    .dataframe tbody tr th:only-of-type {\n        vertical-align: middle;\n    }\n\n    .dataframe tbody tr th {\n        vertical-align: top;\n    }\n\n    .dataframe thead th {\n        text-align: right;\n    }\n</style>\n<table border=\"1\" class=\"dataframe\">\n  <thead>\n    <tr style=\"text-align: right;\">\n      <th></th>\n      <th>title</th>\n      <th>plot</th>\n      <th>is_indian</th>\n    </tr>\n  </thead>\n  <tbody>\n    <tr>\n      <th>0</th>\n      <td>10.0 Earthquake</td>\n      <td>As a series of minor earthquakes start tearing...</td>\n      <td>0</td>\n    </tr>\n    <tr>\n      <th>1</th>\n      <td>12 Rounds (film)</td>\n      <td>A sting operation to capture arms dealer Miles...</td>\n      <td>0</td>\n    </tr>\n    <tr>\n      <th>2</th>\n      <td>12 Rounds 3: Lockdown</td>\n      <td>Detective Tyler Burke  and his two men infiltr...</td>\n      <td>0</td>\n    </tr>\n    <tr>\n      <th>3</th>\n      <td>200 mph</td>\n      <td>When the older brother (Tommy Nash) he idolize...</td>\n      <td>0</td>\n    </tr>\n    <tr>\n      <th>4</th>\n      <td>Ablaze (2001 film)</td>\n      <td>Andrew Thomas is an agent tasked with recordin...</td>\n      <td>0</td>\n    </tr>\n    <tr>\n      <th>...</th>\n      <td>...</td>\n      <td>...</td>\n      <td>...</td>\n    </tr>\n    <tr>\n      <th>3995</th>\n      <td>Choked (film)</td>\n      <td>Sarita Pillai and Sushant Pillai are a married...</td>\n      <td>1</td>\n    </tr>\n    <tr>\n      <th>3996</th>\n      <td>Chumbak</td>\n      <td>Chumbak is a coming-of-age story of Baalu, a t...</td>\n      <td>1</td>\n    </tr>\n    <tr>\n      <th>3997</th>\n      <td>Chungakkarum Veshyakalum</td>\n      <td>Chungakkarum Veshyakalum is the story of a Mal...</td>\n      <td>1</td>\n    </tr>\n    <tr>\n      <th>3998</th>\n      <td>Chuzhi</td>\n      <td>Varghese is a planter who lives with his wife ...</td>\n      <td>1</td>\n    </tr>\n    <tr>\n      <th>3999</th>\n      <td>Cinema Paithiyam</td>\n      <td>Jaya is a cinephile. So obsessed is she with c...</td>\n      <td>1</td>\n    </tr>\n  </tbody>\n</table>\n<p>4000 rows × 3 columns</p>\n</div>"
     },
     "execution_count": 222,
     "metadata": {},
     "output_type": "execute_result"
    }
   ],
   "source": [
    "pd.set_option('display.max_columns', None)\n",
    "df"
   ],
   "metadata": {
    "collapsed": false,
    "pycharm": {
     "name": "#%%\n"
    }
   }
  },
  {
   "cell_type": "markdown",
   "source": [
    "==>Print all columns"
   ],
   "metadata": {
    "collapsed": false,
    "pycharm": {
     "name": "#%% md\n"
    }
   }
  },
  {
   "cell_type": "code",
   "execution_count": 223,
   "outputs": [
    {
     "data": {
      "text/plain": "<Figure size 864x864 with 1 Axes>",
      "image/png": "[encoded data removed]"
     },
     "metadata": {
      "needs_background": "light"
     },
     "output_type": "display_data"
    }
   ],
   "source": [
    "df.hist(figsize=(12,12));"
   ],
   "metadata": {
    "collapsed": false,
    "pycharm": {
     "name": "#%%\n"
    }
   }
  },
  {
   "cell_type": "markdown",
   "source": [
    "==> The data are balanced"
   ],
   "metadata": {
    "collapsed": false,
    "pycharm": {
     "name": "#%% md\n"
    }
   }
  },
  {
   "cell_type": "code",
   "execution_count": 224,
   "outputs": [
    {
     "data": {
      "text/plain": "<AxesSubplot:>"
     },
     "execution_count": 224,
     "metadata": {},
     "output_type": "execute_result"
    },
    {
     "data": {
      "text/plain": "<Figure size 432x288 with 1 Axes>",
      "image/png": "[encoded data removed]"
     },
     "metadata": {
      "needs_background": "light"
     },
     "output_type": "display_data"
    }
   ],
   "source": [
    "sns.heatmap(df.isnull(),yticklabels=False, cbar=False, cmap = 'viridis')"
   ],
   "metadata": {
    "collapsed": false,
    "pycharm": {
     "name": "#%%\n"
    }
   }
  },
  {
   "cell_type": "markdown",
   "source": [
    "==> No missing data"
   ],
   "metadata": {
    "collapsed": false,
    "pycharm": {
     "name": "#%% md\n"
    }
   }
  },
  {
   "cell_type": "code",
   "execution_count": 225,
   "outputs": [
    {
     "name": "stdout",
     "output_type": "stream",
     "text": [
      "<class 'pandas.core.frame.DataFrame'>\n",
      "Int64Index: 4000 entries, 0 to 3999\n",
      "Data columns (total 3 columns):\n",
      " #   Column     Non-Null Count  Dtype \n",
      "---  ------     --------------  ----- \n",
      " 0   title      4000 non-null   object\n",
      " 1   plot       4000 non-null   object\n",
      " 2   is_indian  4000 non-null   int64 \n",
      "dtypes: int64(1), object(2)\n",
      "memory usage: 125.0+ KB\n"
     ]
    }
   ],
   "source": [
    "df.info()"
   ],
   "metadata": {
    "collapsed": false,
    "pycharm": {
     "name": "#%%\n"
    }
   }
  },
  {
   "cell_type": "code",
   "execution_count": 226,
   "outputs": [
    {
     "name": "stdout",
     "output_type": "stream",
     "text": [
      "Number of columns are 2 and they are: \n",
      "title\n",
      "plot\n",
      "is_indian\n"
     ]
    }
   ],
   "source": [
    "print(f'Number of columns are {len(df.columns) - 1} and they are: ')\n",
    "column_names = []\n",
    "for column in df:\n",
    "  print(column)\n",
    "  column_names.append(column)"
   ],
   "metadata": {
    "collapsed": false,
    "pycharm": {
     "name": "#%%\n"
    }
   }
  },
  {
   "cell_type": "markdown",
   "source": [
    "### PreProcessing"
   ],
   "metadata": {
    "collapsed": false,
    "pycharm": {
     "name": "#%% md\n"
    }
   }
  },
  {
   "cell_type": "code",
   "execution_count": 227,
   "outputs": [],
   "source": [
    "import re\n",
    "from nltk.corpus import stopwords\n",
    "from nltk.stem import PorterStemmer\n",
    "\n",
    "porter_stemmer=PorterStemmer()\n",
    "stop_words = set(stopwords.words('english'))\n",
    "\n",
    "def clean(text, join=True):\n",
    "\n",
    "    # lowercasing\n",
    "    text = text.lower()\n",
    "\n",
    "    # removing special characters\n",
    "    text = re.sub('\\\\W', ' ', text)\n",
    "\n",
    "    # splitting into tokens\n",
    "    words = text.split()\n",
    "\n",
    "    # removing stopwords\n",
    "    filtered_words = []\n",
    "    for word in words:\n",
    "        if not word in stop_words:\n",
    "            filtered_words.append(word)\n",
    "\n",
    "    # word stemming\n",
    "    stemmed_words = [porter_stemmer.stem(word) for word in filtered_words]\n",
    "\n",
    "    if join:\n",
    "        # joining and returning words\n",
    "        return ' '.join(stemmed_words)\n",
    "\n",
    "    return stemmed_words"
   ],
   "metadata": {
    "collapsed": false,
    "pycharm": {
     "name": "#%%\n"
    }
   }
  },
  {
   "cell_type": "code",
   "execution_count": 228,
   "outputs": [
    {
     "name": "stdout",
     "output_type": "stream",
     "text": [
      "4000\n",
      "seri minor earthquak start tear apart lo angel scientist emili usg theoriz build super quak drop entir citi lava fill chasm engin jack whose daughter gone camp friend danger area whose compani respons quak due deep frack feel oblig help race emili increasingli damag citi hope divert epicent long beach potenti save million live citi lo angel\n"
     ]
    }
   ],
   "source": [
    "plots_cleaned = [clean(plot, join=True) for plot in df['plot']]\n",
    "print(len(plots_cleaned))\n",
    "print(plots_cleaned[0])\n"
   ],
   "metadata": {
    "collapsed": false,
    "pycharm": {
     "name": "#%%\n"
    }
   }
  },
  {
   "cell_type": "markdown",
   "source": [
    "#### Scikit-learn’s CountVectorizer is used to convert a collection of text documents to a vector of token counts."
   ],
   "metadata": {
    "collapsed": false,
    "pycharm": {
     "name": "#%% md\n"
    }
   }
  },
  {
   "cell_type": "code",
   "execution_count": 229,
   "outputs": [
    {
     "data": {
      "text/plain": "{'seri': 25642,\n 'minor': 18302,\n 'earthquak': 8684,\n 'start': 27434,\n 'tear': 28641,\n 'apart': 1757,\n 'lo': 16458,\n 'angel': 1543,\n 'scientist': 25325,\n 'emili': 8997,\n 'usg': 30368,\n 'theoriz': 28938,\n 'build': 4451,\n 'super': 28033,\n 'quak': 22696,\n 'drop': 8432,\n 'entir': 9145,\n 'citi': 5759,\n 'lava': 16029,\n 'fill': 9849,\n 'chasm': 5344,\n 'engin': 9084,\n 'jack': 13724,\n 'whose': 31663,\n 'daughter': 7104,\n 'gone': 11118,\n 'camp': 4745,\n 'friend': 10358,\n 'danger': 7009,\n 'area': 1908,\n 'compani': 6098,\n 'respons': 23875,\n 'due': 8485,\n 'deep': 7269,\n 'frack': 10251,\n 'feel': 9720,\n 'oblig': 20115,\n 'help': 12260,\n 'race': 22819,\n 'increasingli': 13197,\n 'damag': 6975,\n 'hope': 12633,\n 'divert': 8111,\n 'epicent': 9181,\n 'long': 16539,\n 'beach': 3040,\n 'potenti': 22012,\n 'save': 25187,\n 'million': 18239,\n 'live': 16433,\n 'sting': 27556,\n 'oper': 20298,\n 'captur': 4829,\n 'arm': 1959,\n 'dealer': 7177,\n 'mile': 18211,\n 'jackson': 13733,\n 'goe': 11069,\n 'awri': 2402,\n 'fbi': 9696,\n 'insid': 13398,\n 'man': 17213,\n 'doubl': 8308,\n 'cross': 6707,\n 'rendezvous': 23763,\n 'girlfriend': 10945,\n 'erica': 9209,\n 'kessen': 15042,\n 'getaway': 10831,\n 'car': 4830,\n 'offic': 20182,\n 'danni': 7020,\n 'fisher': 9915,\n 'hank': 11862,\n 'carver': 4941,\n 'dispatch': 8044,\n 'look': 16555,\n 'record': 23533,\n 'see': 25481,\n 'surveil': 28142,\n 'video': 30929,\n 'danc': 7000,\n 'encount': 9053,\n 'traffic': 29464,\n 'light': 16310,\n 'lead': 16078,\n 'death': 7184,\n 'taken': 28406,\n 'away': 2392,\n 'swear': 28246,\n 'vengeanc': 30788,\n 'one': 20261,\n 'year': 32037,\n 'later': 15993,\n 'promot': 22376,\n 'detect': 7556,\n 'action': 705,\n 'get': 10830,\n 'phone': 21530,\n 'call': 4703,\n 'escap': 9241,\n 'prison': 22293,\n 'run': 24480,\n 'outsid': 20462,\n 'hous': 12695,\n 'explod': 9453,\n 'throw': 29097,\n 'ground': 11459,\n 'recov': 23536,\n 'say': 25211,\n 'launch': 16011,\n 'game': 10558,\n 'reveng': 23936,\n '12': 32,\n 'round': 24368,\n 'phil': 21502,\n 'plumber': 21777,\n 'came': 4732,\n 'fix': 9936,\n 'pipe': 21646,\n 'molli': 18541,\n 'porter': 21966,\n 'kidnap': 15169,\n 'must': 19052,\n 'follow': 10103,\n 'clue': 5905,\n 'locat': 16476,\n 'cell': 5087,\n 'new': 19702,\n 'orlean': 20366,\n 'loan': 16464,\n 'fire': 9886,\n 'broken': 4336,\n 'extract': 9482,\n 'two': 29830,\n 'secur': 25471,\n 'deposit': 7475,\n 'box': 4102,\n 'within': 31778,\n '20': 225,\n 'minut': 18308,\n 'volunt': 31236,\n 'continu': 6311,\n 'agent': 902,\n 'georg': 10803,\n 'aiken': 968,\n 'special': 27136,\n 'ray': 23381,\n 'santiago': 24965,\n 'work': 31844,\n 'back': 2524,\n 'bomb': 3947,\n 'contain': 6296,\n 'next': 19728,\n 'discov': 7979,\n 'dispos': 8053,\n 'hotel': 12682,\n 'room': 24305,\n 'key': 15055,\n 'raid': 22919,\n 'found': 10229,\n 'empti': 9028,\n 'go': 11033,\n 'monteleon': 18638,\n 'find': 9865,\n 'arriv': 2011,\n 'left': 16129,\n 'camera': 4737,\n 'note': 20003,\n 'said': 24683,\n 'still': 27546,\n 'talk': 28430,\n 'willi': 31709,\n 'employe': 9024,\n 'knew': 15337,\n 'moment': 18555,\n 'elev': 8893,\n 'stop': 27600,\n 'gunpoint': 11599,\n '60': 392,\n 'second': 25458,\n 'fall': 9574,\n 'tell': 28710,\n 'person': 21403,\n 'given': 10954,\n 'will': 31707,\n 'overweight': 20549,\n 'surviv': 28145,\n 'leav': 16099,\n 'die': 7808,\n 'subtract': 27830,\n 'bu': 4402,\n 'board': 3878,\n 'wear': 31484,\n 'underneath': 30021,\n 'jacket': 13726,\n 'handcuf': 11827,\n 'bar': 2829,\n 'envelop': 9166,\n 'number': 20059,\n 'fed': 9713,\n 'tri': 29583,\n 'freed': 10310,\n 'sniper': 26819,\n 'shot': 26192,\n 'kill': 15184,\n 'fail': 9550,\n 'everyon': 9353,\n 'includ': 13176,\n 'show': 26199,\n 'henchman': 12290,\n 'anthoni': 1680,\n 'deluso': 7403,\n 'correct': 6441,\n 'disarm': 7946,\n 'place': 21689,\n 'differ': 7816,\n 'answer': 1662,\n 'disabl': 7936,\n 'streetcar': 27650,\n '907': 452,\n 'brake': 4161,\n 'slam': 26644,\n 'transform': 29491,\n 'shut': 26272,\n 'electr': 8870,\n 'whole': 31654,\n 'neighborhood': 19629,\n 'along': 1241,\n 'clear': 5818,\n 'peopl': 21328,\n 'way': 31451,\n 'slow': 26718,\n 'halt': 11793,\n 'mine': 18268,\n 'plant': 21710,\n 'fingerprint': 9872,\n 'pay': 21186,\n 'visit': 31144,\n 'cemeteri': 5099,\n 'anoth': 1652,\n 'chuck': 5692,\n 'jansen': 13901,\n 'rig': 24050,\n 'monitor': 18599,\n 'shaft': 25749,\n 'set': 25673,\n 'five': 9935,\n 'earli': 8670,\n 'realiz': 23443,\n 'episod': 9187,\n 'orchestr': 20339,\n 'check': 5388,\n 'job': 14186,\n 'homewood': 12578,\n 'guard': 11496,\n 'figur': 9841,\n 'take': 28403,\n 'power': 22042,\n 'come': 6061,\n 'move': 18831,\n 'feder': 9714,\n 'unprotect': 30204,\n 'cash': 4950,\n 'unit': 30139,\n 'state': 27441,\n 'mint': 18304,\n 'grudg': 11475,\n 'cover': 6541,\n 'scheme': 25269,\n 'steal': 27467,\n 'money': 18580,\n 'lock': 16479,\n 'wild': 31690,\n 'goos': 11149,\n 'chase': 5341,\n 'sinc': 26437,\n 'need': 19588,\n 'nurs': 20066,\n 'dress': 8406,\n 'use': 30364,\n 'id': 12939,\n 'card': 4842,\n 'medevac': 17883,\n 'chopper': 5629,\n 'hospit': 12671,\n 'roof': 24297,\n 'transport': 29509,\n 'bodi': 3903,\n 'bag': 2588,\n 'wound': 31876,\n 'activ': 706,\n 'touch': 29407,\n 'switch': 28282,\n 'jump': 14333,\n 'pool': 21916,\n 'helicopt': 12240,\n 'movi': 18834,\n 'end': 9058,\n 'want': 31357,\n 'home': 12567,\n 'happen': 11893,\n 'tyler': 29838,\n 'burk': 4537,\n 'men': 17998,\n 'infiltr': 13302,\n 'drug': 8443,\n 'freemont': 10319,\n 'secretli': 25467,\n 'collabor': 6002,\n 'sell': 25545,\n 'polic': 21845,\n 'confisc': 6196,\n 'narcot': 19405,\n 'ask': 2132,\n 'proof': 22382,\n 'destroy': 7548,\n 'laptop': 15949,\n 'shoot': 26170,\n 'make': 17074,\n 'like': 16319,\n 'first': 9907,\n 'john': 14209,\n 'shaw': 25953,\n 'return': 23926,\n 'duti': 8607,\n 'precinct': 22156,\n 'partner': 21027,\n 'jone': 14235,\n 'sidelin': 26337,\n 'post': 21988,\n 'traumat': 29522,\n 'stress': 27660,\n 'disord': 8037,\n 'met': 18081,\n 'supervisor': 28065,\n 'captain': 4825,\n 'ellen': 8923,\n 'matthew': 17674,\n 'recent': 23497,\n 'academi': 630,\n 'graduat': 11283,\n 'jenni': 14061,\n 'taylor': 28623,\n 'lastli': 15986,\n 'hail': 11730,\n 'bust': 4582,\n 'unknown': 30153,\n 'made': 16853,\n 'backup': 2547,\n 'incrimin': 13200,\n 'evid': 9360,\n 'form': 10190,\n 'flash': 9964,\n 'drive': 8421,\n 'shape': 25887,\n 'credit': 6633,\n 'autopsi': 2334,\n 'deliv': 7385,\n 'read': 23429,\n 'incid': 13170,\n 'report': 23812,\n 'retriev': 23922,\n 'time': 29186,\n 'receiv': 23496,\n 'regard': 23617,\n 'deduc': 7260,\n 'quickli': 22742,\n 'head': 12130,\n 'content': 6303,\n 'word': 31841,\n 'meek': 17904,\n 'corrupt': 6452,\n 'colleagu': 6009,\n 'alreadi': 1254,\n 'miss': 18389,\n 'though': 29067,\n 'share': 25901,\n 'unabl': 29930,\n 'intercept': 13458,\n 'trigger': 29612,\n 'alarm': 1099,\n 'except': 9388,\n 'fellow': 9739,\n 'cop': 6373,\n 'evacu': 9328,\n 'easili': 8689,\n 'darrow': 7060,\n 'hub': 12735,\n 'whereabout': 31606,\n 'via': 30896,\n 'cctv': 5063,\n 'also': 1256,\n 'initi': 13347,\n 'total': 29400,\n 'lockdown': 16481,\n 'commun': 6092,\n 'comput': 6142,\n 'network': 19681,\n 'well': 31532,\n 'jam': 13845,\n 'signal': 26365,\n 'duck': 8477,\n 'stairwel': 27378,\n 'cut': 6844,\n 'know': 15350,\n 'hunt': 12814,\n 'ambush': 1341,\n 'surpris': 28128,\n 'shield': 26046,\n 'anyway': 1750,\n 'soon': 27000,\n 'radio': 22857,\n 'manag': 17217,\n 'accident': 640,\n 'blood': 3825,\n 'refus': 23612,\n 'trust': 29699,\n 'forc': 10143,\n 'draw': 8386,\n 'gun': 11570,\n 'taser': 28577,\n 'warn': 31381,\n 'hide': 12388,\n 'walki': 31331,\n 'talki': 28431,\n 'opportun': 20309,\n 'frame': 10260,\n 'directli': 7927,\n 'blame': 3764,\n 'assur': 2177,\n 'handl': 11838,\n 'motor': 18792,\n 'spot': 27249,\n 'ensur': 9133,\n 'pursuit': 22613,\n 'hit': 12479,\n 'bullet': 4475,\n 'attempt': 2247,\n 'flee': 9993,\n 'unmark': 30166,\n 'elud': 8950,\n 'pursuer': 22612,\n 'invit': 13548,\n 'walk': 31329,\n 'control': 6327,\n 'pa': 20584,\n 'system': 28326,\n 'els': 8942,\n 'reveal': 23934,\n 'send': 25571,\n 'gunshot': 11604,\n 'heard': 12169,\n 'swat': 28237,\n 'armor': 1977,\n 'weaponri': 31483,\n 'went': 31550,\n 'corner': 6421,\n 'crime': 6663,\n 'lab': 15774,\n 'bandag': 2758,\n 'pin': 21620,\n 'stun': 27728,\n 'dead': 7161,\n 'assault': 2160,\n 'rifl': 24047,\n 'caus': 5031,\n 'explos': 9456,\n 'nearbi': 19557,\n 'experi': 9441,\n 'tabl': 28342,\n 'narrowli': 19419,\n 'other': 20412,\n 'chief': 5506,\n 'keppler': 15014,\n 'charg': 5309,\n 'situat': 26514,\n 'inform': 13315,\n 'team': 28637,\n 'inbound': 13153,\n 'server': 25658,\n 'disconnect': 7971,\n 'sever': 25700,\n 'wire': 31756,\n 'reactiv': 23427,\n 'order': 20343,\n 'upload': 30309,\n 'intern': 13486,\n 'affair': 836,\n 'notic': 20007,\n 'alert': 1142,\n 'deactiv': 7160,\n 'sent': 25597,\n 'rooftop': 24300,\n 'convinc': 6339,\n 'innoc': 13369,\n 'interrupt': 13494,\n 'henchmen': 12291,\n 'gideon': 10893,\n 'brief': 4266,\n 'fight': 9837,\n 'succe': 27838,\n 'lone': 16535,\n 'cuff': 6777,\n 'enter': 9136,\n 'unlock': 30162,\n 'struggl': 27702,\n 'hip': 12453,\n 'scene': 25256,\n 'prepar': 22214,\n 'catch': 4999,\n 'bring': 4299,\n 'meet': 17918,\n 'promptli': 22379,\n 'distract': 8091,\n 'turn': 29785,\n 'heel': 12215,\n 'allianc': 1214,\n 'burst': 4559,\n 'arrest': 2009,\n 'play': 21730,\n 'earlier': 8671,\n 'monologu': 18608,\n 'last': 15985,\n 'leg': 16133,\n 'older': 20220,\n 'brother': 4360,\n 'tommi': 29316,\n 'nash': 19433,\n 'idol': 12964,\n 'road': 24153,\n 'ruthless': 24525,\n 'darren': 7056,\n 'thoma': 29044,\n 'nighttim': 19794,\n 'street': 27649,\n 'known': 15355,\n 'sepulveda': 25621,\n 'suicid': 27905,\n 'rick': 24014,\n 'merchant': 18036,\n 'jaz': 14004,\n 'martin': 17552,\n 'channel': 5278,\n 'grief': 11403,\n 'behind': 3145,\n 'wheel': 31596,\n 'win': 31721,\n 'modifi': 18492,\n 'trusti': 29702,\n '1988': 209,\n 'mazda': 17743,\n 'rx': 24531,\n 'nissan': 19877,\n '240sx': 278,\n 'zenki': 32234,\n 'kouki': 15492,\n 'mechan': 17875,\n 'kelli': 14977,\n 'henn': 12300,\n 'jimenez': 14153,\n 'maximum': 17712,\n 'perform': 21354,\n 'machineri': 16818,\n 'andrew': 1526,\n 'task': 28581,\n 'violat': 31069,\n 'oil': 20200,\n 'refineri': 23596,\n 'resid': 23858,\n 'suburban': 27833,\n 'town': 29427,\n 'firefight': 9892,\n 'introduc': 13522,\n 'member': 17983,\n 'scott': 25356,\n 'becom': 3087,\n 'hostil': 12679,\n 'gari': 10639,\n 'daniel': 7015,\n 'meanwhil': 17865,\n 'doctor': 8158,\n 'ex': 9373,\n 'jennif': 14062,\n 'lewi': 16241,\n 'defi': 7302,\n 'boss': 4058,\n 'vivian': 31185,\n 'sim': 26395,\n 'pregnant': 22187,\n 'woman': 31807,\n 'name': 19317,\n 'mindi': 18264,\n 'hunter': 12815,\n 'labor': 15778,\n 'winslow': 31745,\n 'give': 10953,\n 'birth': 3698,\n 'young': 32090,\n 'kid': 15164,\n 'barri': 2889,\n 'christoph': 5675,\n 'match': 17631,\n 'toy': 29440,\n 'plane': 21703,\n 'sam': 24793,\n 'davi': 7113,\n 'rescu': 23843,\n 'mother': 18775,\n 'gwen': 11659,\n 'injur': 13352,\n 'numer': 20060,\n 'plot': 21766,\n 'burn': 4546,\n 'collect': 6010,\n 'insur': 13438,\n 'plan': 21701,\n 'occur': 20144,\n 'assist': 2170,\n 'curt': 6824,\n 'peter': 21438,\n 'worker': 31847,\n 'wood': 31818,\n 'real': 23437,\n 'motiv': 18789,\n 'begin': 3130,\n 'spread': 27258,\n 'across': 703,\n 'slowli': 26719,\n 'reach': 23423,\n 'wendel': 31545,\n 'may': 17716,\n 'document': 8161,\n 'concern': 6156,\n 'although': 1263,\n 'aliv': 1188,\n 'process': 22327,\n 'decid': 7231,\n 'forget': 10179,\n 'toward': 29424,\n 'angrili': 1562,\n 'confront': 6201,\n 'mayor': 17737,\n 'phillip': 21512,\n 'result': 23888,\n 'involv': 13552,\n 'told': 29300,\n 'stuart': 27711,\n 'ridgley': 24037,\n 'critic': 6683,\n 'condit': 6173,\n 'goodby': 11130,\n 'actress': 709,\n 'elizabeth': 8918,\n 'sherman': 26031,\n 'offer': 20180,\n 'tend': 28734,\n 'asthma': 2181,\n 'attack': 2244,\n 'care': 4851,\n 'success': 27840,\n 'girl': 10944,\n 'hailey': 11731,\n 'truck': 29687,\n 'pass': 21052,\n 'seek': 25484,\n 'news': 19719,\n 'cameraman': 4738,\n 'tim': 29180,\n 'vester': 30877,\n 'variou': 30607,\n 'howev': 12715,\n 'scaffold': 25218,\n 'alaina': 1088,\n 'charl': 5318,\n 'film': 9850,\n 'crush': 6746,\n 'piec': 21584,\n 'everybodi': 9350,\n 'makeshift': 17078,\n 'river': 24132,\n 'catastroph': 4996,\n 'section': 25469,\n 'reunit': 23928,\n 'aftermath': 872,\n 'disast': 7949,\n '2085': 261,\n 'world': 31855,\n 'religi': 23708,\n 'warfar': 31372,\n 'desper': 7536,\n 'human': 12778,\n 'global': 11000,\n 'govern': 11237,\n 'host': 12675,\n 'grip': 11430,\n 'hold': 12536,\n 'martial': 17550,\n 'art': 2023,\n 'tournament': 29419,\n 'fighter': 9838,\n 'stand': 27401,\n 'absolut': 615,\n 'dominion': 8212,\n 'faith': 9566,\n 'vladik': 31202,\n 'zorich': 32296,\n 'lord': 16573,\n 'tentacl': 28753,\n 'permeat': 21381,\n 'underbelli': 30003,\n 'seedi': 25483,\n 'deal': 7176,\n 'gambl': 10556,\n 'skin': 26599,\n 'traffick': 29465,\n 'rhona': 23984,\n 'zyocki': 32319,\n 'propens': 22388,\n 'violenc': 31070,\n 'son': 26969,\n 'particip': 21018,\n 'elimin': 8907,\n 'enemi': 9075,\n 'ident': 12948,\n 'life': 16291,\n 'hang': 11850,\n 'balanc': 2678,\n 'violent': 31071,\n 'twist': 29827,\n 'foe': 10087,\n 'regain': 23615,\n 'valuabl': 30526,\n 'good': 11127,\n 'fate': 9652,\n 'night': 19778,\n 'keep': 14953,\n 'short': 26184,\n 'leash': 16095,\n 'rule': 24464,\n 'oversea': 20526,\n 'everi': 9347,\n 'navig': 19507,\n 'darken': 7042,\n 'underestim': 30010,\n 'love': 16619,\n 'lose': 16587,\n 'deviou': 7621,\n 'unravel': 30209,\n 'air': 978,\n 'brigadi': 4273,\n 'gener': 10765,\n 'chappi': 5294,\n 'sinclair': 26439,\n 'ernst': 9224,\n 'leichmann': 16151,\n 'palmer': 20733,\n 'horikoshi': 12644,\n 'classic': 5794,\n 'war': 31361,\n 'ii': 12980,\n 'aircraft': 984,\n 'exhibit': 9409,\n 'stage': 27371,\n 'dogfight': 8178,\n 'paint': 20662,\n 'pellet': 21273,\n 'land': 15908,\n 'smoke': 26770,\n 'emiss': 9002,\n 'upon': 30311,\n 'hear': 12168,\n 'old': 20218,\n 'ramon': 23158,\n 'moral': 18684,\n 'crash': 6606,\n 'gulf': 11551,\n 'mexico': 18114,\n 'summon': 27980,\n 'lethridg': 16217,\n 'base': 2931,\n 'brownsvil': 4369,\n 'texa': 28810,\n 'remain': 23720,\n 'examin': 9380,\n 'mention': 18024,\n 'among': 1400,\n 'famili': 9583,\n 'sister': 26498,\n 'anna': 1613,\n 'ucla': 29866,\n 'athlet': 2221,\n 'scholarship': 25291,\n 'father': 9655,\n 'small': 26736,\n 'peruvian': 21420,\n 'villag': 31023,\n 'carri': 4917,\n 'kilogram': 15195,\n 'cocain': 5940,\n 'case': 4946,\n 'dea': 7158,\n 'jurisdict': 14365,\n 'izquito': 13704,\n 'peru': 21412,\n 'former': 10194,\n 'nazi': 19539,\n 'gustav': 11647,\n 'kleiss': 15314,\n 'cartel': 4926,\n 'hostag': 12676,\n 'aid': 963,\n 'usaf': 30360,\n 'simm': 26413,\n 'side': 26332,\n 'airbas': 981,\n 'close': 5886,\n 'matter': 17672,\n 'month': 18644,\n 'transfer': 29488,\n 'command': 6071,\n 'termin': 28768,\n 'desir': 7527,\n 'lavish': 16035,\n 'retir': 23911,\n 'smuggl': 26785,\n 'contraband': 6314,\n 'barrel': 2886,\n 'disguis': 7998,\n 'properti': 22391,\n 'break': 4203,\n 'free': 10307,\n 'sneak': 26802,\n 'cargo': 4862,\n 'beg': 3125,\n 'four': 10234,\n 'day': 7130,\n 'warren': 31387,\n 'crawford': 6615,\n 'pinpoint': 21637,\n '38': 325,\n 'lightn': 16316,\n 'leichman': 16150,\n 'bf': 3334,\n '109': 15,\n 'sabotag': 24578,\n 'ammunit': 1389,\n 'mix': 18435,\n 'nearli': 19560,\n 'execut': 9401,\n 'emerg': 8991,\n 'someon': 26951,\n 'equat': 9193,\n 'flight': 10011,\n 'rush': 24503,\n 'hand': 11823,\n 'noth': 20006,\n 'funer': 10436,\n 'join': 14216,\n 'stockman': 27570,\n 'promis': 22371,\n 'without': 31779,\n 'scratch': 25371,\n 'mission': 18392,\n 'retrofit': 23923,\n 'laser': 15977,\n 'guid': 11519,\n 'missil': 18391,\n 'provid': 22441,\n 'target': 28551,\n 'tee': 28661,\n 'vee': 30686,\n 'landlord': 15917,\n 'stow': 27617,\n 'compromis': 6137,\n 'caught': 5027,\n 'equip': 9195,\n 'hideout': 12393,\n 'prompt': 22377,\n 'scrambl': 25365,\n 'veteran': 30881,\n 'ace': 662,\n 'fend': 9753,\n 'jet': 14092,\n 'compound': 6132,\n 'ralli': 23067,\n 'revolt': 23951,\n 'spitfir': 27211,\n 'factori': 9540,\n 'shipment': 26086,\n 'led': 16111,\n 'safe': 24643,\n 'church': 5712,\n 'blown': 3849,\n 'pursu': 22611,\n 'sustain': 28181,\n 'heavi': 12196,\n 'mitsubishi': 18429,\n 'zero': 32237,\n 'kamikaz': 14601,\n 'prototyp': 22430,\n 'messerschmitt': 18073,\n '263': 292,\n 'outsmart': 20464,\n 'invert': 13540,\n 'roll': 24255,\n 'booster': 4011,\n 'rocket': 24208,\n 'eject': 8838,\n 'jungl': 14346,\n 'bribe': 4250,\n 'jeep': 14026,\n 'impal': 13075,\n 'spring': 27261,\n 'load': 16459,\n 'punji': 22566,\n 'stick': 27537,\n 'trap': 29513,\n 'celebr': 5079,\n 'barbecu': 2840,\n 'fleet': 9994,\n 'mothbal': 18774,\n '86': 444,\n 'sabr': 24581,\n 'replac': 23804,\n 'shadow': 25745,\n 'warrior': 31390,\n 'honor': 12611,\n 'major': 17063,\n 'electromagnet': 8879,\n 'storm': 27609,\n 'crippl': 6673,\n 'worldwid': 31858,\n 'satellit': 25088,\n 'airborn': 983,\n 'collis': 6023,\n 'avoid': 2373,\n 'acat': 632,\n 'struck': 27698,\n 'debri': 7208,\n 'earth': 8680,\n 'malfunct': 17136,\n 'put': 22642,\n 'east': 8690,\n 'coast': 5926,\n 'pilot': 21617,\n 'project': 22360,\n 'consequ': 6254,\n 'cours': 6522,\n 'commerci': 6079,\n 'airlin': 990,\n 'hundr': 12802,\n 'passeng': 21055,\n 'presid': 22225,\n 'andi': 1518,\n 'clemenc': 5830,\n 'errant': 9229,\n 'seriou': 25644,\n 'jeopardi': 14068,\n 'popul': 21945,\n 'dr': 8345,\n 'antonia': 1716,\n 'toni': 29327,\n 'pierc': 21587,\n 'erin': 9217,\n 'coker': 5988,\n 'contact': 6293,\n 'cleveland': 5846,\n 'faa': 9515,\n 'bob': 3891,\n 'abbot': 535,\n 'reginald': 23630,\n 'veljohnson': 30748,\n 'prevent': 22251,\n 'loom': 16558,\n 'overrid': 20519,\n 'top': 29350,\n 'level': 16230,\n 'direct': 7925,\n 'fli': 10007,\n 'repeat': 23797,\n 'strike': 27672,\n 'partial': 21017,\n 'wreak': 31888,\n 'havoc': 12085,\n 'escort': 9248,\n '16': 70,\n 'mcdonnel': 17786,\n 'dougla': 8315,\n 'md': 17850,\n '80': 437,\n 'restart': 23877,\n 'impact': 13073,\n 'rogu': 24240,\n 'sidewind': 26342,\n 'converg': 6334,\n 'glanc': 10969,\n 'lockhe': 16485,\n '130': 42,\n 'hercul': 12320,\n ...}"
     },
     "execution_count": 229,
     "metadata": {},
     "output_type": "execute_result"
    }
   ],
   "source": [
    "vectorizer = CountVectorizer(min_df=0)\n",
    "vectorizer.fit(plots_cleaned)\n",
    "vectorizer.vocabulary_"
   ],
   "metadata": {
    "collapsed": false,
    "pycharm": {
     "name": "#%%\n"
    }
   }
  },
  {
   "cell_type": "markdown",
   "source": [
    "### Data Splitting"
   ],
   "metadata": {
    "collapsed": false,
    "pycharm": {
     "name": "#%% md\n"
    }
   }
  },
  {
   "cell_type": "code",
   "execution_count": 230,
   "outputs": [],
   "source": [
    "Plot = df['plot'].values\n",
    "y = df['is_indian'].values\n",
    "\n",
    "Plot_train, Plot_test, y_train, y_test = train_test_split(Plot, y, test_size=0.25, random_state= 1000)"
   ],
   "metadata": {
    "collapsed": false,
    "pycharm": {
     "name": "#%%\n"
    }
   }
  },
  {
   "cell_type": "code",
   "execution_count": 231,
   "outputs": [
    {
     "name": "stdout",
     "output_type": "stream",
     "text": [
      "As a series of minor earthquakes start tearing apart Los Angeles, scientist Emily of the USGS theorizes that it is all building to a super quake that will drop the entire city into a lava-filled chasm. Engineer Jack whose daughter has gone camping with her friends in the danger area and whose company is responsible for the quakes due to their deep fracking feels obligated to help, and races with Emily through the increasingly damaged city with the hopes of diverting the epicenter to Long Beach and potentially saving millions of lives in the city of Los Angeles.\n"
     ]
    }
   ],
   "source": [
    "print(Plot[0])"
   ],
   "metadata": {
    "collapsed": false,
    "pycharm": {
     "name": "#%%\n"
    }
   }
  },
  {
   "cell_type": "code",
   "execution_count": 232,
   "outputs": [
    {
     "data": {
      "text/plain": "<3000x39324 sparse matrix of type '<class 'numpy.int64'>'\n\twith 543609 stored elements in Compressed Sparse Row format>"
     },
     "execution_count": 232,
     "metadata": {},
     "output_type": "execute_result"
    }
   ],
   "source": [
    "vectorizer = CountVectorizer()\n",
    "vectorizer.fit(Plot_train)\n",
    "\n",
    "X_train = vectorizer.transform(Plot_train)\n",
    "X_test = vectorizer.transform(Plot_test)\n",
    "X_train\n"
   ],
   "metadata": {
    "collapsed": false,
    "pycharm": {
     "name": "#%%\n"
    }
   }
  },
  {
   "cell_type": "markdown",
   "source": [
    "## Logistic Regression"
   ],
   "metadata": {
    "collapsed": false,
    "pycharm": {
     "name": "#%% md\n"
    }
   }
  },
  {
   "cell_type": "code",
   "execution_count": 233,
   "outputs": [
    {
     "name": "stdout",
     "output_type": "stream",
     "text": [
      "The average score is 0.966\n"
     ]
    }
   ],
   "source": [
    "score = []\n",
    "reg = LogisticRegression(solver='liblinear', random_state=42)\n",
    "reg.fit(X_train, y_train)\n",
    "\n",
    "predictions = reg.predict(X_test)\n",
    "sco = accuracy_score(y_test, predictions)\n",
    "\n",
    "score.append(sco)\n",
    "\n",
    "\n",
    "avgScore = sum(score) / len(score)\n",
    "print(f'The average score is {avgScore}')"
   ],
   "metadata": {
    "collapsed": false,
    "pycharm": {
     "name": "#%%\n"
    }
   }
  }
 ],
 "metadata": {
  "kernelspec": {
   "display_name": "Python 3",
   "language": "python",
   "name": "python3"
  },
  "language_info": {
   "codemirror_mode": {
    "name": "ipython",
    "version": 2
   },
   "file_extension": ".py",
   "mimetype": "text/x-python",
   "name": "python",
   "nbconvert_exporter": "python",
   "pygments_lexer": "ipython2",
   "version": "2.7.6"
  }
 },
 "nbformat": 4,
 "nbformat_minor": 0
}