{
 "cells": [
  {
   "cell_type": "markdown",
   "metadata": {},
   "source": [
    "# 03 Analysing Data"
   ]
  },
  {
   "cell_type": "code",
   "execution_count": 1,
   "metadata": {},
   "outputs": [],
   "source": [
    "import pandas as pd"
   ]
  },
  {
   "cell_type": "code",
   "execution_count": 2,
   "metadata": {},
   "outputs": [
    {
     "data": {
      "text/plain": "                         title  \\\n0              10.0 Earthquake   \n1             12 Rounds (film)   \n2        12 Rounds 3: Lockdown   \n3                      200 mph   \n4           Ablaze (2001 film)   \n...                        ...   \n3995             Choked (film)   \n3996                   Chumbak   \n3997  Chungakkarum Veshyakalum   \n3998                    Chuzhi   \n3999          Cinema Paithiyam   \n\n                                                   plot  is_indian  \n0     As a series of minor earthquakes start tearing...          0  \n1     A sting operation to capture arms dealer Miles...          0  \n2     Detective Tyler Burke  and his two men infiltr...          0  \n3     When the older brother (Tommy Nash) he idolize...          0  \n4     Andrew Thomas is an agent tasked with recordin...          0  \n...                                                 ...        ...  \n3995  Sarita Pillai and Sushant Pillai are a married...          1  \n3996  Chumbak is a coming-of-age story of Baalu, a t...          1  \n3997  Chungakkarum Veshyakalum is the story of a Mal...          1  \n3998  Varghese is a planter who lives with his wife ...          1  \n3999  Jaya is a cinephile. So obsessed is she with c...          1  \n\n[4000 rows x 3 columns]",
      "text/html": "<div>\n<style scoped>\n    .dataframe tbody tr th:only-of-type {\n        vertical-align: middle;\n    }\n\n    .dataframe tbody tr th {\n        vertical-align: top;\n    }\n\n    .dataframe thead th {\n        text-align: right;\n    }\n</style>\n<table border=\"1\" class=\"dataframe\">\n  <thead>\n    <tr style=\"text-align: right;\">\n      <th></th>\n      <th>title</th>\n      <th>plot</th>\n      <th>is_indian</th>\n    </tr>\n  </thead>\n  <tbody>\n    <tr>\n      <th>0</th>\n      <td>10.0 Earthquake</td>\n      <td>As a series of minor earthquakes start tearing...</td>\n      <td>0</td>\n    </tr>\n    <tr>\n      <th>1</th>\n      <td>12 Rounds (film)</td>\n      <td>A sting operation to capture arms dealer Miles...</td>\n      <td>0</td>\n    </tr>\n    <tr>\n      <th>2</th>\n      <td>12 Rounds 3: Lockdown</td>\n      <td>Detective Tyler Burke  and his two men infiltr...</td>\n      <td>0</td>\n    </tr>\n    <tr>\n      <th>3</th>\n      <td>200 mph</td>\n      <td>When the older brother (Tommy Nash) he idolize...</td>\n      <td>0</td>\n    </tr>\n    <tr>\n      <th>4</th>\n      <td>Ablaze (2001 film)</td>\n      <td>Andrew Thomas is an agent tasked with recordin...</td>\n      <td>0</td>\n    </tr>\n    <tr>\n      <th>...</th>\n      <td>...</td>\n      <td>...</td>\n      <td>...</td>\n    </tr>\n    <tr>\n      <th>3995</th>\n      <td>Choked (film)</td>\n      <td>Sarita Pillai and Sushant Pillai are a married...</td>\n      <td>1</td>\n    </tr>\n    <tr>\n      <th>3996</th>\n      <td>Chumbak</td>\n      <td>Chumbak is a coming-of-age story of Baalu, a t...</td>\n      <td>1</td>\n    </tr>\n    <tr>\n      <th>3997</th>\n      <td>Chungakkarum Veshyakalum</td>\n      <td>Chungakkarum Veshyakalum is the story of a Mal...</td>\n      <td>1</td>\n    </tr>\n    <tr>\n      <th>3998</th>\n      <td>Chuzhi</td>\n      <td>Varghese is a planter who lives with his wife ...</td>\n      <td>1</td>\n    </tr>\n    <tr>\n      <th>3999</th>\n      <td>Cinema Paithiyam</td>\n      <td>Jaya is a cinephile. So obsessed is she with c...</td>\n      <td>1</td>\n    </tr>\n  </tbody>\n</table>\n<p>4000 rows × 3 columns</p>\n</div>"
     },
     "execution_count": 2,
     "metadata": {},
     "output_type": "execute_result"
    }
   ],
   "source": [
    "df = pd.read_csv('../data/merged_plots.csv', index_col=0)\n",
    "df"
   ]
  },
  {
   "cell_type": "markdown",
   "metadata": {},
   "source": [
    "## Target Variable Balance"
   ]
  },
  {
   "cell_type": "code",
   "execution_count": 3,
   "metadata": {},
   "outputs": [
    {
     "data": {
      "text/plain": "is_indian\n0    2000\n1    2000\ndtype: int64"
     },
     "execution_count": 3,
     "metadata": {},
     "output_type": "execute_result"
    }
   ],
   "source": [
    "df.groupby('is_indian').size()"
   ]
  },
  {
   "cell_type": "markdown",
   "metadata": {},
   "source": [
    "## Plot Length Analysation"
   ]
  },
  {
   "cell_type": "code",
   "execution_count": 4,
   "metadata": {},
   "outputs": [],
   "source": [
    "plot_lengths = [len(plot) for plot in df['plot']]"
   ]
  },
  {
   "cell_type": "code",
   "execution_count": 5,
   "metadata": {},
   "outputs": [],
   "source": [
    "from statistics import mean\n",
    "import numpy as np"
   ]
  },
  {
   "cell_type": "code",
   "execution_count": 6,
   "metadata": {},
   "outputs": [
    {
     "name": "stdout",
     "output_type": "stream",
     "text": [
      "Mean value: 2136\n"
     ]
    }
   ],
   "source": [
    "mean = mean(plot_lengths).__round__()\n",
    "print('Mean value:', mean)"
   ]
  },
  {
   "cell_type": "code",
   "execution_count": 7,
   "metadata": {},
   "outputs": [
    {
     "name": "stdout",
     "output_type": "stream",
     "text": [
      "Standard deviation: 1493\n"
     ]
    }
   ],
   "source": [
    "std_dev = np.std(plot_lengths).__round__()\n",
    "print('Standard deviation:', std_dev)"
   ]
  },
  {
   "cell_type": "markdown",
   "metadata": {},
   "source": [
    "The Standard deviation is quite high which means that the plot lenghts differ quite significantly. This could be a possible point of improvement for later on."
   ]
  }
 ],
 "metadata": {
  "kernelspec": {
   "display_name": "Python 3.10.0 64-bit",
   "language": "python",
   "name": "python3"
  },
  "language_info": {
   "codemirror_mode": {
    "name": "ipython",
    "version": 3
   },
   "file_extension": ".py",
   "mimetype": "text/x-python",
   "name": "python",
   "nbconvert_exporter": "python",
   "pygments_lexer": "ipython3",
   "version": "3.10.0"
  },
  "orig_nbformat": 4,
  "vscode": {
   "interpreter": {
    "hash": "69a9235b2799f09bc7a4d7fc4018927df298a0a697379818c8dec9478f72590e"
   }
  }
 },
 "nbformat": 4,
 "nbformat_minor": 2
}